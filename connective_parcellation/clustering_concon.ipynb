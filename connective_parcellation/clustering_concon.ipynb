{
 "cells": [
  {
   "cell_type": "code",
   "execution_count": 2,
   "metadata": {},
   "outputs": [
    {
     "name": "stdout",
     "output_type": "stream",
     "text": [
      "Collecting python-igraph\n",
      "\u001b[?25l  Downloading https://files.pythonhosted.org/packages/0f/a0/4e7134f803737aa6eebb4e5250565ace0e2599659e22be7f7eba520ff017/python-igraph-0.7.1.post6.tar.gz (377kB)\n",
      "\u001b[K    100% |████████████████████████████████| 378kB 2.3MB/s eta 0:00:01\n",
      "\u001b[?25hBuilding wheels for collected packages: python-igraph\n",
      "  Building wheel for python-igraph (setup.py) ... \u001b[?25ldone\n",
      "\u001b[?25h  Stored in directory: /home/kurmukov/.cache/pip/wheels/41/d6/02/34eebae97e25f5b87d60f4c0687e00523e3f244fa41bc3f4a7\n",
      "Successfully built python-igraph\n",
      "Installing collected packages: python-igraph\n",
      "Successfully installed python-igraph-0.7.1.post6\n"
     ]
    }
   ],
   "source": [
    "!pip install python-igraph"
   ]
  },
  {
   "cell_type": "code",
   "execution_count": 1,
   "metadata": {},
   "outputs": [],
   "source": [
    "import numpy as np\n",
    "from igraph import Graph\n",
    "from igraph import ADJ_MAX\n",
    "from scipy.sparse import coo_matrix\n",
    "from sys import argv\n",
    "from tqdm import tqdm\n"
   ]
  },
  {
   "cell_type": "code",
   "execution_count": 2,
   "metadata": {},
   "outputs": [],
   "source": [
    "def compute_partition(adjacency):\n",
    "    try:\n",
    "        g = Graph.Weighted_Adjacency(adjacency.tolist(),\n",
    "                                     mode=ADJ_MAX,\n",
    "                                     attr='weight')\n",
    "        levels = g.community_multilevel(\n",
    "            weights='weight',\n",
    "            return_levels=True)\n",
    "        levels = np.array([level.membership for level in levels]).astype(int)\n",
    "        labels = np.array(levels[-1])\n",
    "    except:\n",
    "        labels = np.array([-1])  # dangerous, what if i have a single node in a graph?\n",
    "    return labels"
   ]
  },
  {
   "cell_type": "code",
   "execution_count": 3,
   "metadata": {},
   "outputs": [],
   "source": [
    "def load_concon(path):\n",
    "    from scipy.sparse import coo_matrix\n",
    "    data = np.load(path)\n",
    "    sparse_data = coo_matrix((data['data'], (data['row'], data['col'])))\n",
    "    adj = sparse_data.todense()\n",
    "    adjacency_balanced = (adj + adj.T)/2\n",
    "    np.fill_diagonal(adjacency_balanced, 0)\n",
    "    return adjacency_balanced"
   ]
  },
  {
   "cell_type": "code",
   "execution_count": 4,
   "metadata": {},
   "outputs": [],
   "source": [
    "path = '/data01/ayagoz/sparse_32_concon_HCP/ConCon_resolution/10/100307.npz'\n",
    "\n",
    "adj = load_concon(path)"
   ]
  },
  {
   "cell_type": "code",
   "execution_count": 5,
   "metadata": {},
   "outputs": [],
   "source": [
    "g = Graph.Weighted_Adjacency(adj.tolist(),\n",
    "                             mode=ADJ_MAX,\n",
    "                             attr='weight')"
   ]
  },
  {
   "cell_type": "code",
   "execution_count": 6,
   "metadata": {},
   "outputs": [],
   "source": [
    "levels = g.community_multilevel(\n",
    "            weights='weight',\n",
    "            return_levels=True)"
   ]
  },
  {
   "cell_type": "code",
   "execution_count": 7,
   "metadata": {},
   "outputs": [
    {
     "data": {
      "text/plain": [
       "[<igraph.clustering.VertexClustering at 0x7f1ecc73ce10>,\n",
       " <igraph.clustering.VertexClustering at 0x7f1ecc73ccc0>]"
      ]
     },
     "execution_count": 7,
     "metadata": {},
     "output_type": "execute_result"
    }
   ],
   "source": [
    "levels"
   ]
  },
  {
   "cell_type": "code",
   "execution_count": 8,
   "metadata": {},
   "outputs": [],
   "source": [
    "levels = np.array([level.membership for level in levels]).astype(int)"
   ]
  },
  {
   "cell_type": "code",
   "execution_count": 10,
   "metadata": {},
   "outputs": [
    {
     "data": {
      "text/plain": [
       "(2, 20484)"
      ]
     },
     "execution_count": 10,
     "metadata": {},
     "output_type": "execute_result"
    }
   ],
   "source": [
    "levels.shape"
   ]
  },
  {
   "cell_type": "code",
   "execution_count": 11,
   "metadata": {},
   "outputs": [
    {
     "data": {
      "text/plain": [
       "array([ 6,  3,  4, ..., 13, 13, 13])"
      ]
     },
     "execution_count": 11,
     "metadata": {},
     "output_type": "execute_result"
    }
   ],
   "source": [
    "levels[0]"
   ]
  },
  {
   "cell_type": "code",
   "execution_count": 12,
   "metadata": {},
   "outputs": [
    {
     "data": {
      "text/plain": [
       "(array([ 0,  1,  2,  3,  4,  5,  6,  7,  8,  9, 10, 11, 12, 13, 14, 15]),\n",
       " array([   1, 1562, 1224, 1356, 2048,  229, 1776, 4099,  865,    1, 1660,\n",
       "         750,  580, 3197,  892,  244]))"
      ]
     },
     "execution_count": 12,
     "metadata": {},
     "output_type": "execute_result"
    }
   ],
   "source": [
    "np.unique(levels[0], return_counts=True)"
   ]
  },
  {
   "cell_type": "code",
   "execution_count": 13,
   "metadata": {},
   "outputs": [
    {
     "data": {
      "text/plain": [
       "(array([0, 1, 2, 3, 4, 5, 6, 7, 8]),\n",
       " array([   1, 3922, 4498, 1776,    1, 1660, 4099, 1330, 3197]))"
      ]
     },
     "execution_count": 13,
     "metadata": {},
     "output_type": "execute_result"
    }
   ],
   "source": [
    "np.unique(levels[1], return_counts=True)"
   ]
  },
  {
   "cell_type": "code",
   "execution_count": 15,
   "metadata": {},
   "outputs": [],
   "source": [
    "from sklearn.metrics import adjusted_mutual_info_score"
   ]
  },
  {
   "cell_type": "code",
   "execution_count": 18,
   "metadata": {},
   "outputs": [],
   "source": [
    "color = levels[0]"
   ]
  },
  {
   "cell_type": "code",
   "execution_count": 19,
   "metadata": {},
   "outputs": [
    {
     "data": {
      "text/plain": [
       "0.2703792240138568"
      ]
     },
     "execution_count": 19,
     "metadata": {},
     "output_type": "execute_result"
    }
   ],
   "source": [
    "adjusted_mutual_info_score(color[:10242], color[10242:])"
   ]
  },
  {
   "cell_type": "code",
   "execution_count": 21,
   "metadata": {},
   "outputs": [],
   "source": [
    "aver = np.load('/data01/ayagoz/sparse_32_concon_HCP/parcellations/desikan_aparc_average_1113.npy',\n",
    "               allow_pickle=True)"
   ]
  },
  {
   "cell_type": "code",
   "execution_count": 22,
   "metadata": {},
   "outputs": [],
   "source": [
    "mask = aver != -1\n",
    "adj_masked = adj[mask, :][:, mask]"
   ]
  },
  {
   "cell_type": "code",
   "execution_count": 23,
   "metadata": {},
   "outputs": [
    {
     "data": {
      "text/plain": [
       "(18869, 18869)"
      ]
     },
     "execution_count": 23,
     "metadata": {},
     "output_type": "execute_result"
    }
   ],
   "source": [
    "adj_masked.shape"
   ]
  },
  {
   "cell_type": "code",
   "execution_count": 30,
   "metadata": {},
   "outputs": [],
   "source": [
    "g = Graph.Weighted_Adjacency(adj_masked.tolist(),\n",
    "                             mode=ADJ_MAX,\n",
    "                             attr='weight')\n",
    "\n",
    "levels_new = g.community_multilevel(\n",
    "            weights='weight',\n",
    "            return_levels=True)"
   ]
  },
  {
   "cell_type": "code",
   "execution_count": 31,
   "metadata": {},
   "outputs": [],
   "source": [
    "levels_new = np.array([level.membership for level in levels_new]).astype(int)"
   ]
  },
  {
   "cell_type": "code",
   "execution_count": 32,
   "metadata": {},
   "outputs": [
    {
     "data": {
      "text/plain": [
       "array([[ 9,  5,  7, ..., 14, 14, 14],\n",
       "       [ 3,  1,  2, ...,  6,  6,  6]])"
      ]
     },
     "execution_count": 32,
     "metadata": {},
     "output_type": "execute_result"
    }
   ],
   "source": [
    "levels_new"
   ]
  },
  {
   "cell_type": "code",
   "execution_count": 33,
   "metadata": {},
   "outputs": [],
   "source": [
    "labels_temp = levels_new[-1]\n",
    "labels_new = np.zeros(20484) - 1\n",
    "labels_new[mask] = labels_temp"
   ]
  },
  {
   "cell_type": "code",
   "execution_count": 34,
   "metadata": {},
   "outputs": [
    {
     "data": {
      "text/plain": [
       "0.637412873493857"
      ]
     },
     "execution_count": 34,
     "metadata": {},
     "output_type": "execute_result"
    }
   ],
   "source": [
    "adjusted_mutual_info_score(levels[-1], labels_new)"
   ]
  },
  {
   "cell_type": "code",
   "execution_count": 35,
   "metadata": {},
   "outputs": [],
   "source": [
    "medial_labels = levels[-1][aver==-1]"
   ]
  },
  {
   "cell_type": "code",
   "execution_count": 37,
   "metadata": {},
   "outputs": [
    {
     "data": {
      "text/plain": [
       "(array([1, 2, 3, 5, 6, 7, 8]), array([359, 503, 226,  12,  93,  44, 378]))"
      ]
     },
     "execution_count": 37,
     "metadata": {},
     "output_type": "execute_result"
    }
   ],
   "source": [
    "np.unique(medial_labels, return_counts=True)"
   ]
  },
  {
   "cell_type": "code",
   "execution_count": null,
   "metadata": {},
   "outputs": [],
   "source": []
  },
  {
   "cell_type": "code",
   "execution_count": null,
   "metadata": {},
   "outputs": [],
   "source": []
  },
  {
   "cell_type": "code",
   "execution_count": 68,
   "metadata": {},
   "outputs": [],
   "source": [
    "def load_concon(path, labels_to_drop=None):\n",
    "    '''\n",
    "    Load ConCon ajancency matrix\n",
    "    \n",
    "    Parameters\n",
    "    -------\n",
    "    \n",
    "    path - str,\n",
    "     path to concon *.npz file\n",
    "     \n",
    "    labels_to_drop - ndarray,\n",
    "     default None, drops rows/columns which\n",
    "     corresponds to label \"-1\" (corpus collosum, cerebellum)\n",
    "     \n",
    "    Return\n",
    "    -------\n",
    "    \n",
    "    adjacency matrix\n",
    "    '''\n",
    "\n",
    "    data = np.load(path)\n",
    "    sparse_data = coo_matrix((data['data'], (data['row'], data['col'])))\n",
    "    adj = sparse_data.todense()\n",
    "    adjacency_balanced = (adj + adj.T) / 2\n",
    "    np.fill_diagonal(adjacency_balanced, 0)\n",
    "\n",
    "    if labels_to_drop is not None:\n",
    "        mask = labels_to_drop != -1\n",
    "        adjacency_balanced = adjacency_balanced[mask, :][:, mask]\n",
    "    return adjacency_balanced\n",
    "\n",
    "def compute_partition(adj):\n",
    "    '''\n",
    "    Computes partition of the graph using Louvain algorithm\n",
    "    \n",
    "    Parameters\n",
    "    -------\n",
    "    \n",
    "    graph - igraph Graph\n",
    "    \n",
    "    Returns\n",
    "    -------\n",
    "    \n",
    "    labels - ndarray\n",
    "    '''\n",
    "    try:\n",
    "        graph = Graph.Weighted_Adjacency(adj.tolist(), mode=ADJ_MAX, attr='weight')\n",
    "        levels = graph.community_multilevel(weights='weight', return_levels=True)\n",
    "        levels = np.array([level.membership for level in levels]).astype(int)\n",
    "        labels = np.array(levels[-1])\n",
    "    except BaseException as e:\n",
    "        print(e)\n",
    "        labels = np.array([-1]) \n",
    "    return labels\n",
    "\n",
    "def generate_subgraphs(adjacency, partition, min_subgraph_size=2):\n",
    "    '''\n",
    "    Generates subgraphs based on partition\n",
    "    \n",
    "    Parameters\n",
    "    -------\n",
    "    \n",
    "    adjacency - ndarray,\n",
    "     adjacecy matrix of a graph\n",
    "     \n",
    "    partition - ndarray,\n",
    "     clustering labels of graph's nodes\n",
    "     \n",
    "    min_graph_size - int,\n",
    "     minimal size subgraph\n",
    "     (used to pass isolated nodes)\n",
    "     \n",
    "    Returns\n",
    "    -------\n",
    "    \n",
    "    adjacency_list - list,\n",
    "     list of adjacency matrices of generated subgraphs\n",
    "     \n",
    "    colors - ndarray,\n",
    "     array of unique cluster labels,\n",
    "     excluding rare clusters (len(cluster)<min_graph_size)\n",
    "     \n",
    "    rare_colors - ndarray,\n",
    "     array of unique cluster labels,\n",
    "     of rare clusters (len(cluster)<min_graph_size)\n",
    "\n",
    "    '''\n",
    "    colors, freq = np.unique(partition, return_counts=True)\n",
    "    rare_colors = colors[freq < min_subgraph_size]\n",
    "    colors = colors[freq >= min_subgraph_size]\n",
    "    \n",
    "    adjacencies_list = [adjacency[partition==color, :][:, partition==color]\n",
    "                     for color in colors]\n",
    "    \n",
    "    return adjacencies_list, colors, rare_colors\n",
    "\n",
    "\n",
    "def cluster_subgraphs(adjacency, partition, min_subgraph_size=10, min_subgraph_to_split=30):\n",
    "    '''\n",
    "    Cluster subgraphs of a graph\n",
    "    \n",
    "    Parameters\n",
    "    --------\n",
    "    \n",
    "    adjacency - ndarray,\n",
    "     adjacecy matrix of a graph\n",
    "     \n",
    "    partition - ndarray,\n",
    "     clustering labels of graph's nodes\n",
    "     \n",
    "    min_graph_size - int,\n",
    "     minimal size subgraph\n",
    "     (used to pass isolated nodes)\n",
    "     \n",
    "    min_subgraph_to_split - int,\n",
    "     minimal size subgraph to split\n",
    "     (used to restrict small subgraphs to be further clustered)\n",
    "     \n",
    "    Returns\n",
    "    -------\n",
    "    \n",
    "    partition_at_level - ndarray,\n",
    "     hierarchical graph partitioning\n",
    "    '''\n",
    "    adjacencies_list, colors, rare_colors = generate_subgraphs(adjacency, partition, min_subgraph_size)\n",
    "    partition_at_level = np.zeros_like(partition)\n",
    "\n",
    "    if rare_colors.size != 0:\n",
    "        for c in rare_colors:\n",
    "            partition_at_level[np.where(partition == c)] = -1\n",
    "\n",
    "    max_label = 0\n",
    "\n",
    "    for adj, c in zip(adjacencies_list, colors):\n",
    "        subgraph_size = adj.shape[0]\n",
    "        if subgraph_size < min_subgraph_to_split:\n",
    "            labels = np.zeros(subgraph_size)\n",
    "        else:\n",
    "            labels = compute_partition(adj)\n",
    "        # to be consistent in labeling accross different subgraphs\n",
    "        partition_at_level[np.where(partition == c)[0]] = labels + max_label\n",
    "        max_label += labels.max() + 1\n",
    "\n",
    "    return partition_at_level"
   ]
  },
  {
   "cell_type": "code",
   "execution_count": 69,
   "metadata": {},
   "outputs": [],
   "source": [
    "aver = np.load('/data01/ayagoz/sparse_32_concon_HCP/parcellations/desikan_aparc_average_1113.npy',\n",
    "               allow_pickle=True)\n",
    "path = '/data01/ayagoz/sparse_32_concon_HCP/ConCon_resolution/10/100307.npz'\n",
    "adj = load_concon(path, labels_to_drop=aver)\n",
    "partition_level_1 = compute_partition(adj)"
   ]
  },
  {
   "cell_type": "code",
   "execution_count": 70,
   "metadata": {},
   "outputs": [
    {
     "data": {
      "text/plain": [
       "(array([0, 1, 2, 3, 4, 5, 6, 7]),\n",
       " array([   1, 4397, 2613, 1585, 4071,    1, 2631, 3570]))"
      ]
     },
     "execution_count": 70,
     "metadata": {},
     "output_type": "execute_result"
    }
   ],
   "source": [
    "np.unique(partition_level_1, return_counts=True)"
   ]
  },
  {
   "cell_type": "code",
   "execution_count": 71,
   "metadata": {},
   "outputs": [],
   "source": [
    "partition_level_2 = cluster_subgraphs(adj, partition_level_1, 5, 200)"
   ]
  },
  {
   "cell_type": "code",
   "execution_count": 72,
   "metadata": {},
   "outputs": [
    {
     "data": {
      "text/plain": [
       "(array([-1,  0,  1,  2,  3,  4,  5,  6,  7,  8,  9, 10, 11, 12, 13, 14, 15,\n",
       "        16, 17, 18, 19, 20, 21, 22, 23, 24, 25, 26, 27, 28, 29, 30, 31, 32]),\n",
       " array([   2,  840,  445,  524,  676, 1067,  845,  311,  664,  478,  547,\n",
       "         377,  236,  175,  361,  340,  432,  277,  426, 1428,  459,  801,\n",
       "         957,  199,  523,  446,  394,  838,  231,  436,  664,  892,  772,\n",
       "         806]))"
      ]
     },
     "execution_count": 72,
     "metadata": {},
     "output_type": "execute_result"
    }
   ],
   "source": [
    "np.unique(partition_level_2, return_counts=True)"
   ]
  },
  {
   "cell_type": "code",
   "execution_count": 73,
   "metadata": {},
   "outputs": [],
   "source": [
    "partition_level_3 = cluster_subgraphs(adj, partition_level_2, 5, 360)"
   ]
  },
  {
   "cell_type": "code",
   "execution_count": 74,
   "metadata": {},
   "outputs": [
    {
     "data": {
      "text/plain": [
       "(array([-1,  0,  1,  2,  3,  4,  5,  6,  7,  8,  9, 10, 11, 12, 13, 14, 15,\n",
       "        16, 17, 18, 19, 20, 21, 22, 23, 24, 25, 26, 27, 28, 29, 30, 31, 32,\n",
       "        33, 34, 35, 36, 37, 38, 39, 40, 41, 42, 43, 44, 45, 46, 47, 48, 49,\n",
       "        50, 51, 52, 53, 54, 55, 56, 57, 58, 59, 60, 61, 62, 63, 64, 65, 66,\n",
       "        67, 68, 69, 70, 71, 72, 73, 74, 75, 76, 77, 78, 79, 80, 81, 82, 83,\n",
       "        84, 85, 86, 87, 88, 89, 90, 91, 92]),\n",
       " array([  2, 147, 190, 238, 265,  89,  91, 148, 117, 169, 174, 181,  71,\n",
       "        279, 326, 223, 350, 410,  84, 281, 261, 303, 311, 160,  76, 236,\n",
       "        192, 188, 146, 144, 297, 250, 150, 136,  91, 236, 175, 186, 175,\n",
       "        340,  43, 173, 216, 277, 102, 167,  38, 119, 261, 362, 186, 619,\n",
       "        109, 144, 206, 139, 307, 355, 440, 371, 146, 199, 220, 303, 140,\n",
       "        125, 181, 146, 134, 114, 351, 306, 181, 231, 125,  97, 138,  76,\n",
       "        169, 130,  73, 127, 165, 236, 179, 157, 320, 277, 151, 344, 247,\n",
       "        198, 243, 118]))"
      ]
     },
     "execution_count": 74,
     "metadata": {},
     "output_type": "execute_result"
    }
   ],
   "source": [
    "np.unique(partition_level_3, return_counts=True)"
   ]
  },
  {
   "cell_type": "code",
   "execution_count": null,
   "metadata": {},
   "outputs": [],
   "source": []
  },
  {
   "cell_type": "code",
   "execution_count": null,
   "metadata": {},
   "outputs": [],
   "source": [
    "average_desikan = np.load('/data01/ayagoz/sparse_32_concon_HCP/parcellations/desikan_aparc_average_1113.npy',\n",
    "               allow_pickle=True)\n",
    "path = '/data01/ayagoz/sparse_32_concon_HCP/ConCon_resolution/10/100307.npz'\n",
    "adj = load_concon(path, labels_to_drop=average_desikan)\n",
    "\n",
    "partition_level_1 = compute_partition(adj)\n",
    "partition_level_2 = cluster_subgraphs(adj, partition_level_1, 5, 200)\n",
    "partition_level_3 = cluster_subgraphs(adj, partition_level_2, 5, 360)\n",
    "\n",
    "np.save()"
   ]
  },
  {
   "cell_type": "code",
   "execution_count": null,
   "metadata": {},
   "outputs": [],
   "source": []
  },
  {
   "cell_type": "code",
   "execution_count": 41,
   "metadata": {},
   "outputs": [],
   "source": [
    "graph = Graph.Weighted_Adjacency([[10]], mode=ADJ_MAX, attr='weight')"
   ]
  },
  {
   "cell_type": "code",
   "execution_count": 42,
   "metadata": {},
   "outputs": [],
   "source": [
    "levels = graph.community_multilevel(weights='weight', return_levels=True)"
   ]
  },
  {
   "cell_type": "code",
   "execution_count": 43,
   "metadata": {},
   "outputs": [],
   "source": [
    "levels = np.array([level.membership for level in levels]).astype(int)"
   ]
  },
  {
   "cell_type": "code",
   "execution_count": 44,
   "metadata": {},
   "outputs": [
    {
     "data": {
      "text/plain": [
       "array([], dtype=int64)"
      ]
     },
     "execution_count": 44,
     "metadata": {},
     "output_type": "execute_result"
    }
   ],
   "source": [
    "levels"
   ]
  },
  {
   "cell_type": "code",
   "execution_count": null,
   "metadata": {},
   "outputs": [],
   "source": [
    "import os\n",
    "import numpy as np\n",
    "from scipy.sparse import coo_matrix\n",
    "from tqdm import tqdm\n",
    "from sys import argv\n",
    "from joblib import Parallel, delayed\n",
    "\n",
    "def load_concon(path, labels_to_drop=None):\n",
    "    '''\n",
    "    Load ConCon ajancency matrix\n",
    "    \n",
    "    Parameters\n",
    "    -------\n",
    "    \n",
    "    path - str,\n",
    "     path to concon *.npz file\n",
    "     \n",
    "    labels_to_drop - ndarray,\n",
    "     default None, drops rows/columns which\n",
    "     corresponds to label \"-1\" (corpus collosum, cerebellum)\n",
    "     \n",
    "    Return\n",
    "    -------\n",
    "    \n",
    "    adjacency matrix\n",
    "    '''\n",
    "\n",
    "    data = np.load(path)\n",
    "    sparse_data = coo_matrix((data['data'], (data['row'], data['col'])))\n",
    "    adj = sparse_data.todense()\n",
    "    adjacency_balanced = (adj + adj.T) / 2\n",
    "    np.fill_diagonal(adjacency_balanced, 0)\n",
    "\n",
    "    if labels_to_drop is not None:\n",
    "        mask = labels_to_drop != -1\n",
    "        adjacency_balanced = adjacency_balanced[mask, :][:, mask]\n",
    "    return adjacency_balanced\n",
    "\n",
    "def compute_partition(adj):\n",
    "    '''\n",
    "    Computes partition of the graph using Louvain algorithm\n",
    "    \n",
    "    Parameters\n",
    "    -------\n",
    "    \n",
    "    graph - igraph Graph\n",
    "    \n",
    "    Returns\n",
    "    -------\n",
    "    \n",
    "    labels - ndarray\n",
    "    '''\n",
    "    try:\n",
    "        graph = Graph.Weighted_Adjacency(adj.tolist(), mode=ADJ_MAX, attr='weight')\n",
    "        levels = graph.community_multilevel(weights='weight', return_levels=True)\n",
    "        levels = np.array([level.membership for level in levels]).astype(int)\n",
    "        labels = np.array(levels[-1])\n",
    "    except BaseException as e:\n",
    "        print(e)\n",
    "        labels = np.array([-1]) \n",
    "    return labels\n",
    "\n",
    "def generate_subgraphs(adjacency, partition, min_subgraph_size=2):\n",
    "    '''\n",
    "    Generates subgraphs based on partition\n",
    "    \n",
    "    Parameters\n",
    "    -------\n",
    "    \n",
    "    adjacency - ndarray,\n",
    "     adjacecy matrix of a graph\n",
    "     \n",
    "    partition - ndarray,\n",
    "     clustering labels of graph's nodes\n",
    "     \n",
    "    min_graph_size - int,\n",
    "     minimal size subgraph\n",
    "     (used to pass isolated nodes)\n",
    "     \n",
    "    Returns\n",
    "    -------\n",
    "    \n",
    "    adjacency_list - list,\n",
    "     list of adjacency matrices of generated subgraphs\n",
    "     \n",
    "    colors - ndarray,\n",
    "     array of unique cluster labels,\n",
    "     excluding rare clusters (len(cluster)<min_graph_size)\n",
    "     \n",
    "    rare_colors - ndarray,\n",
    "     array of unique cluster labels,\n",
    "     of rare clusters (len(cluster)<min_graph_size)\n",
    "\n",
    "    '''\n",
    "    colors, freq = np.unique(partition, return_counts=True)\n",
    "    rare_colors = colors[freq < min_subgraph_size]\n",
    "    colors = colors[freq >= min_subgraph_size]\n",
    "    \n",
    "    adjacencies_list = [adjacency[partition==color, :][:, partition==color]\n",
    "                     for color in colors]\n",
    "    \n",
    "    return adjacencies_list, colors, rare_colors\n",
    "\n",
    "\n",
    "def cluster_subgraphs(adjacency, partition, min_subgraph_size=10, min_subgraph_to_split=30):\n",
    "    '''\n",
    "    Cluster subgraphs of a graph\n",
    "    \n",
    "    Parameters\n",
    "    --------\n",
    "    \n",
    "    adjacency - ndarray,\n",
    "     adjacecy matrix of a graph\n",
    "     \n",
    "    partition - ndarray,\n",
    "     clustering labels of graph's nodes\n",
    "     \n",
    "    min_graph_size - int,\n",
    "     minimal size subgraph\n",
    "     (used to pass isolated nodes)\n",
    "     \n",
    "    min_subgraph_to_split - int,\n",
    "     minimal size subgraph to split\n",
    "     (used to restrict small subgraphs to be further clustered)\n",
    "     \n",
    "    Returns\n",
    "    -------\n",
    "    \n",
    "    partition_at_level - ndarray,\n",
    "     hierarchical graph partitioning\n",
    "    '''\n",
    "    adjacencies_list, colors, rare_colors = generate_subgraphs(adjacency, partition, min_subgraph_size)\n",
    "    partition_at_level = np.zeros_like(partition)\n",
    "\n",
    "    if rare_colors.size != 0:\n",
    "        for c in rare_colors:\n",
    "            partition_at_level[np.where(partition == c)] = -1\n",
    "\n",
    "    max_label = 0\n",
    "\n",
    "    for adj, c in zip(adjacencies_list, colors):\n",
    "        subgraph_size = adj.shape[0]\n",
    "        if subgraph_size < min_subgraph_to_split:\n",
    "            labels = np.zeros(subgraph_size)\n",
    "        else:\n",
    "            labels = compute_partition(adj)\n",
    "        # to be consistent in labeling accross different subgraphs\n",
    "        partition_at_level[np.where(partition == c)[0]] = labels + max_label\n",
    "        max_label += labels.max() + 1\n",
    "\n",
    "    return partition_at_level\n",
    "\n",
    "def get_partitions_at_levels(subject_id, labels_to_drop):\n",
    "    \n",
    "    for sparsity in range(10, 101, 10):\n",
    "        try:\n",
    "            path = f'/data01/ayagoz/sparse_32_concon_HCP/ConCon_resolution/{sparsity}/{subject_id}.npz'\n",
    "            adj = load_concon(path, labels_to_drop=labels_to_drop)\n",
    "            partition_level_1 = compute_partition(adj)\n",
    "            partition_level_2 = cluster_subgraphs(adj, partition_level_1, 5, 200)\n",
    "            partition_level_3 = cluster_subgraphs(adj, partition_level_2, 5, 360)\n",
    "            parcellation_path = '/data01/ayagoz/sparse_32_concon_HCP/parcellations'\n",
    "            np.save(f'{parcellation_path}/connectivity_parcellation_level1/{sparsity}/{subject_id}.npy',\n",
    "                   partition_level_1)\n",
    "            np.save(f'{parcellation_path}/connectivity_parcellation_level2/{sparsity}/{subject_id}.npy',\n",
    "                   partition_level_2)\n",
    "            np.save(f'{parcellation_path}/connectivity_parcellation_level3/{sparsity}/{subject_id}.npy',\n",
    "                   partition_level_3)\n",
    "\n",
    "\n",
    "if __name__==\"__main__\":\n",
    "\n",
    "    average_desikan = np.load('/data01/ayagoz/sparse_32_concon_HCP/parcellations/desikan_aparc_average_1113.npy',\n",
    "                   allow_pickle=True)\n",
    "    \n",
    "\n",
    "    path = '/data01/ayagoz/sparse_32_concon_HCP/ConCon_resolution/10/100307.npz'\n",
    "    adj = load_concon(path, labels_to_drop=average_desikan)\n",
    "\n",
    "    partition_level_1 = compute_partition(adj)\n",
    "    partition_level_2 = cluster_subgraphs(adj, partition_level_1, 5, 200)\n",
    "    partition_level_3 = cluster_subgraphs(adj, partition_level_2, 5, 360)\n",
    "\n",
    "    np.save()"
   ]
  },
  {
   "cell_type": "code",
   "execution_count": 2,
   "metadata": {},
   "outputs": [],
   "source": [
    "import os\n",
    "import numpy as np\n",
    "from tqdm import tqdm\n",
    "from joblib import Parallel, delayed\n",
    "from scipy.sparse import coo_matrix\n",
    "import numpy as np\n",
    "from scipy.sparse import coo_matrix\n",
    "\n",
    "def load_concon(path, labels_to_drop=None):\n",
    "    '''\n",
    "    Load ConCon ajancency matrix\n",
    "    \n",
    "    Parameters\n",
    "    -------\n",
    "    \n",
    "    path - str,\n",
    "     path to concon *.npz file\n",
    "     \n",
    "    labels_to_drop - ndarray,\n",
    "     default None, drops rows/columns which\n",
    "     corresponds to label \"-1\" (corpus collosum, cerebellum)\n",
    "     \n",
    "    Return\n",
    "    -------\n",
    "    \n",
    "    adjacency matrix\n",
    "    '''\n",
    "\n",
    "    data = np.load(path)\n",
    "    sparse_data = coo_matrix((data['data'], (data['row'], data['col'])))\n",
    "    adj = sparse_data.todense()\n",
    "    adjacency_balanced = (adj + adj.T) / 2\n",
    "    np.fill_diagonal(adjacency_balanced, 0)\n",
    "\n",
    "    if labels_to_drop is not None:\n",
    "        mask = labels_to_drop != -1\n",
    "        adjacency_balanced = adjacency_balanced[mask, :][:, mask]\n",
    "    return adjacency_balanced\n",
    "\n",
    "def squeeze_matrix(matrix,\n",
    "                   labels,\n",
    "                   drop_minus_1 = False,\n",
    "                   fill_diag_zero=True,\n",
    "                   return_transform=False,):\n",
    "    '''\n",
    "    Apply parcellation to adjacency matrix\n",
    "    \n",
    "    Parameters\n",
    "    ----\n",
    "    \n",
    "    matrix - ndarray,\n",
    "     graph adjacency matrix M x M\n",
    "     \n",
    "    labels - ndarray,\n",
    "     parcellation labels 1 x M with N unique values\n",
    "     (cluster/parcels labels)\n",
    "     \n",
    "    drop_minus_1 - bool,\n",
    "     default True, drops rows/columns which\n",
    "     corresponds to label \"-1\"\n",
    "    \n",
    "    fill_diag_zero - bool,\n",
    "     default, True, fills diagonal of the\n",
    "     returned adjacency matrix with zeros    \n",
    "              \n",
    "    return_transform - bool,\n",
    "     default False\n",
    "    '''\n",
    "    if drop_minus_1:\n",
    "        mask = labels != -1\n",
    "        labels = labels[mask]\n",
    "        matrix = matrix[mask, :][:, mask]\n",
    "\n",
    "    input_size = matrix.shape[0]\n",
    "    output_size = np.unique(labels).shape[0]\n",
    "    \n",
    "    d = dict(zip(np.unique(labels), np.arange(output_size)))\n",
    "    _labels = list(map(lambda x: d[x], labels))\n",
    "    transform = np.zeros((input_size, output_size))\n",
    "    \n",
    "    for row, col in enumerate(_labels):\n",
    "        transform[row, col] = 1\n",
    "    \n",
    "    squeezed = transform.T.dot(matrix.dot(transform))\n",
    "    squeezed = (squeezed + squeezed.T)/2\n",
    "    \n",
    "    if fill_diag_zero:\n",
    "        np.fill_diagonal(squeezed, 0)\n",
    "    \n",
    "    if return_transform:\n",
    "        return np.array(squeezed), transform\n",
    "    \n",
    "    return np.array(squeezed)\n",
    "\n",
    "def apply_parcellation(subject):\n",
    "    '''\n",
    "    Applies parcellation for all sparsity levels\n",
    "    \n",
    "    Parameters\n",
    "    ------\n",
    "    \n",
    "    subject - int,\n",
    "     subject id\n",
    "    '''\n",
    "    average_desikan = np.load('/data01/ayagoz/sparse_32_concon_HCP/parcellations/desikan_aparc_average_1113.npy',\n",
    "                   allow_pickle=True)\n",
    "    source = '/data01/ayagoz/sparse_32_concon_HCP/connectomes/ConCon_resolution'\n",
    "    parcellation = '/data01/ayagoz/sparse_32_concon_HCP/parcellations/ensemble_parcellation/connectivity_parcellation_level'\n",
    "    target_folder = '/data01/ayagoz/sparse_32_concon_HCP/connectomes/individual_louvain_parcellation'\n",
    "\n",
    "    for sparsity in range(10, 101, 10):\n",
    "        try:\n",
    "            adj = load_concon(f'{source}/{sparsity}/{subject}.npz', labels_to_drop=average_desikan)\n",
    "#             print(f'{source}/{sparsity}/{subject}.npz')\n",
    "            for i in [1,2,3]:\n",
    "                labels_parcellation = np.load(f'{parcellation}{i}/{sparsity}/ensemble_{i}_{sparsity}.npy')\n",
    "#                 print(f'{parcellation}{i}/{sparsity}/ensemble_{i}_{sparsity}.npy')\n",
    "                adj_parcellation = squeeze_matrix(adj, labels_parcellation)\n",
    "                np.save(f'{target_folder}/level{i}/{sparsity}/{subject}.npy', adj_parcellation)\n",
    "#                 print(f'{target_folder}/level{i}/{sparsity}/{subject}.npy')\n",
    "        except BaseException as e:\n",
    "            print(e, subject, sparsity, plevel)\n",
    "\n",
    "\n",
    "if __name__ == \"__main__\":\n",
    "\n",
    "    source = '/data01/ayagoz/sparse_32_concon_HCP/connectomes/ConCon_resolution'\n",
    "    all_subjects = [uid.split('.')[0] for uid in os.listdir(f'{source}/10')]\n",
    "    Parallel(n_jobs=25)(delayed(apply_parcellation)(subject) for subject in tqdm(all_subjects))\n",
    "    \n",
    "    "
   ]
  },
  {
   "cell_type": "code",
   "execution_count": 3,
   "metadata": {},
   "outputs": [],
   "source": [
    "apply_parcellation('100307')"
   ]
  },
  {
   "cell_type": "code",
   "execution_count": 17,
   "metadata": {},
   "outputs": [],
   "source": [
    "a= np.load('/data01/ayagoz/sparse_32_concon_HCP/connectomes/individual_louvain_parcellation/level3/10/100307.npy')"
   ]
  },
  {
   "cell_type": "code",
   "execution_count": 18,
   "metadata": {},
   "outputs": [
    {
     "data": {
      "text/plain": [
       "(91, 91)"
      ]
     },
     "execution_count": 18,
     "metadata": {},
     "output_type": "execute_result"
    }
   ],
   "source": [
    "a.shape"
   ]
  },
  {
   "cell_type": "code",
   "execution_count": 19,
   "metadata": {},
   "outputs": [],
   "source": [
    "source = '/data01/ayagoz/sparse_32_concon_HCP/connectomes/ConCon_resolution'\n",
    "all_subjects = [uid.split('.')[0] for uid in os.listdir(f'{source}/10')]"
   ]
  },
  {
   "cell_type": "code",
   "execution_count": 20,
   "metadata": {},
   "outputs": [
    {
     "data": {
      "text/plain": [
       "['180836',\n",
       " '212217',\n",
       " '173536',\n",
       " '175035',\n",
       " '175439',\n",
       " '200614',\n",
       " '295146',\n",
       " '104416',\n",
       " '157336',\n",
       " '151627',\n",
       " '111716',\n",
       " '162935',\n",
       " '151223',\n",
       " '187547',\n",
       " '160729',\n",
       " '119833',\n",
       " '198350',\n",
       " '119732',\n",
       " '134425',\n",
       " '154936',\n",
       " '209228',\n",
       " '160931',\n",
       " '285446',\n",
       " '143325',\n",
       " '111312',\n",
       " '148840',\n",
       " '140420',\n",
       " '110007',\n",
       " '108525',\n",
       " '211215',\n",
       " '159946',\n",
       " '156435',\n",
       " '103515',\n",
       " '214019',\n",
       " '192035',\n",
       " '176744',\n",
       " '168745',\n",
       " '170934',\n",
       " '245333',\n",
       " '208226',\n",
       " '194746',\n",
       " '174841',\n",
       " '227432',\n",
       " '160123',\n",
       " '153631',\n",
       " '181636',\n",
       " '203418',\n",
       " '141826',\n",
       " '100408',\n",
       " '173435',\n",
       " '117930',\n",
       " '154835',\n",
       " '138231',\n",
       " '223929',\n",
       " '105014',\n",
       " '173738',\n",
       " '209127',\n",
       " '192843',\n",
       " '322224',\n",
       " '166438',\n",
       " '199453',\n",
       " '107018',\n",
       " '268850',\n",
       " '187345',\n",
       " '212419',\n",
       " '167036',\n",
       " '135528',\n",
       " '268749',\n",
       " '130821',\n",
       " '164939',\n",
       " '165032',\n",
       " '202719',\n",
       " '285345',\n",
       " '165638',\n",
       " '201414',\n",
       " '246133',\n",
       " '201111',\n",
       " '123420',\n",
       " '161327',\n",
       " '150726',\n",
       " '107725',\n",
       " '154431',\n",
       " '127630',\n",
       " '118023',\n",
       " '162329',\n",
       " '156536',\n",
       " '182739',\n",
       " '112314',\n",
       " '280739',\n",
       " '186141',\n",
       " '159441',\n",
       " '179548',\n",
       " '188448',\n",
       " '200210',\n",
       " '198451',\n",
       " '310621',\n",
       " '136833',\n",
       " '169444',\n",
       " '140925',\n",
       " '311320',\n",
       " '103818',\n",
       " '116221',\n",
       " '114217',\n",
       " '151425',\n",
       " '171532',\n",
       " '154734',\n",
       " '236130',\n",
       " '185139',\n",
       " '105216',\n",
       " '211922',\n",
       " '172433',\n",
       " '155231',\n",
       " '196144',\n",
       " '188347',\n",
       " '178647',\n",
       " '149236',\n",
       " '309636',\n",
       " '108222',\n",
       " '138534',\n",
       " '149539',\n",
       " '117122',\n",
       " '183337',\n",
       " '210617',\n",
       " '163836',\n",
       " '228434',\n",
       " '210415',\n",
       " '111009',\n",
       " '283543',\n",
       " '214726',\n",
       " '303119',\n",
       " '122822',\n",
       " '117324',\n",
       " '233326',\n",
       " '203923',\n",
       " '103111',\n",
       " '114621',\n",
       " '157437',\n",
       " '304020',\n",
       " '151728',\n",
       " '103414',\n",
       " '195445',\n",
       " '129331',\n",
       " '105620',\n",
       " '177241',\n",
       " '174437',\n",
       " '250427',\n",
       " '195041',\n",
       " '113619',\n",
       " '144125',\n",
       " '176239',\n",
       " '173839',\n",
       " '198653',\n",
       " '123925',\n",
       " '217126',\n",
       " '155635',\n",
       " '150625',\n",
       " '187850',\n",
       " '275645',\n",
       " '118124',\n",
       " '178243',\n",
       " '208327',\n",
       " '148335',\n",
       " '239944',\n",
       " '173334',\n",
       " '284646',\n",
       " '224022',\n",
       " '185341',\n",
       " '128935',\n",
       " '298455',\n",
       " '153025',\n",
       " '255639',\n",
       " '177645',\n",
       " '146533',\n",
       " '201818',\n",
       " '205826',\n",
       " '140319',\n",
       " '251833',\n",
       " '257542',\n",
       " '170631',\n",
       " '169343',\n",
       " '185442',\n",
       " '150019',\n",
       " '138837',\n",
       " '143426',\n",
       " '211417',\n",
       " '158843',\n",
       " '300618',\n",
       " '115017',\n",
       " '157942',\n",
       " '125525',\n",
       " '120515',\n",
       " '163129',\n",
       " '149741',\n",
       " '303624',\n",
       " '139233',\n",
       " '109830',\n",
       " '151829',\n",
       " '316633',\n",
       " '176542',\n",
       " '139839',\n",
       " '207426',\n",
       " '293748',\n",
       " '120212',\n",
       " '122620',\n",
       " '128127',\n",
       " '204622',\n",
       " '142626',\n",
       " '116524',\n",
       " '131722',\n",
       " '214524',\n",
       " '135225',\n",
       " '210011',\n",
       " '101915',\n",
       " '172029',\n",
       " '169949',\n",
       " '112516',\n",
       " '211316',\n",
       " '131924',\n",
       " '164636',\n",
       " '308129',\n",
       " '289555',\n",
       " '193441',\n",
       " '123824',\n",
       " '109123',\n",
       " '248339',\n",
       " '182436',\n",
       " '164030',\n",
       " '140117',\n",
       " '191336',\n",
       " '191437',\n",
       " '192540',\n",
       " '186444',\n",
       " '172130',\n",
       " '102311',\n",
       " '130619',\n",
       " '107321',\n",
       " '250932',\n",
       " '318637',\n",
       " '175742',\n",
       " '304727',\n",
       " '149337',\n",
       " '161630',\n",
       " '307127',\n",
       " '112112',\n",
       " '204319',\n",
       " '190031',\n",
       " '199655',\n",
       " '115320',\n",
       " '122317',\n",
       " '114318',\n",
       " '159239',\n",
       " '173637',\n",
       " '100307',\n",
       " '305830',\n",
       " '110411',\n",
       " '165840',\n",
       " '150928',\n",
       " '129129',\n",
       " '179952',\n",
       " '231928',\n",
       " '189450',\n",
       " '166640',\n",
       " '194645',\n",
       " '280941',\n",
       " '110613',\n",
       " '257845',\n",
       " '180432',\n",
       " '199150',\n",
       " '172938',\n",
       " '120717',\n",
       " '148941',\n",
       " '108323',\n",
       " '121618',\n",
       " '146331',\n",
       " '149842',\n",
       " '321323',\n",
       " '105115',\n",
       " '148032',\n",
       " '206222',\n",
       " '134021',\n",
       " '181131',\n",
       " '200917',\n",
       " '154532',\n",
       " '195950',\n",
       " '163331',\n",
       " '106016',\n",
       " '205119',\n",
       " '180735',\n",
       " '156233',\n",
       " '180129',\n",
       " '115825',\n",
       " '130417',\n",
       " '126325',\n",
       " '120111',\n",
       " '148133',\n",
       " '158540',\n",
       " '158136',\n",
       " '191841',\n",
       " '197348',\n",
       " '188751',\n",
       " '111413',\n",
       " '156637',\n",
       " '207123',\n",
       " '172332',\n",
       " '205725',\n",
       " '200311',\n",
       " '171330',\n",
       " '106319',\n",
       " '196346',\n",
       " '129634',\n",
       " '182840',\n",
       " '202113',\n",
       " '213421',\n",
       " '172534',\n",
       " '185947',\n",
       " '179245',\n",
       " '123117',\n",
       " '195849',\n",
       " '204521',\n",
       " '102816',\n",
       " '112920',\n",
       " '136732',\n",
       " '298051',\n",
       " '134223',\n",
       " '196750',\n",
       " '175338',\n",
       " '101006',\n",
       " '146937',\n",
       " '208125',\n",
       " '113215',\n",
       " '151526',\n",
       " '168240',\n",
       " '214221',\n",
       " '113922',\n",
       " '168139',\n",
       " '144731',\n",
       " '214423',\n",
       " '270332',\n",
       " '159138',\n",
       " '308331',\n",
       " '194847',\n",
       " '129937',\n",
       " '217429',\n",
       " '199958',\n",
       " '320826',\n",
       " '141119',\n",
       " '211720',\n",
       " '119126',\n",
       " '164131',\n",
       " '114823',\n",
       " '108828',\n",
       " '153227',\n",
       " '147030',\n",
       " '290136',\n",
       " '176037',\n",
       " '204420',\n",
       " '104820',\n",
       " '137633',\n",
       " '178849',\n",
       " '209935',\n",
       " '180937',\n",
       " '167238',\n",
       " '146432',\n",
       " '205220',\n",
       " '194140',\n",
       " '191033',\n",
       " '131419',\n",
       " '141422',\n",
       " '139637',\n",
       " '107422',\n",
       " '101107',\n",
       " '108121',\n",
       " '212318',\n",
       " '177746',\n",
       " '131217',\n",
       " '198855',\n",
       " '160830',\n",
       " '175237',\n",
       " '220721',\n",
       " '214625',\n",
       " '193239',\n",
       " '173233',\n",
       " '191942',\n",
       " '140824',\n",
       " '263436',\n",
       " '256540',\n",
       " '158338',\n",
       " '124422',\n",
       " '162228',\n",
       " '316835',\n",
       " '148436',\n",
       " '159744',\n",
       " '182032',\n",
       " '181232',\n",
       " '189349',\n",
       " '204016',\n",
       " '201515',\n",
       " '177342',\n",
       " '102513',\n",
       " '156031',\n",
       " '212823',\n",
       " '132017',\n",
       " '200008',\n",
       " '144832',\n",
       " '171633',\n",
       " '195647',\n",
       " '154229',\n",
       " '221319',\n",
       " '133928',\n",
       " '178142',\n",
       " '145834',\n",
       " '317332',\n",
       " '200109',\n",
       " '209329',\n",
       " '188549',\n",
       " '173940',\n",
       " '118528',\n",
       " '152831',\n",
       " '192136',\n",
       " '147737',\n",
       " '162026',\n",
       " '237334',\n",
       " '162733',\n",
       " '146634',\n",
       " '144226',\n",
       " '178950']"
      ]
     },
     "execution_count": 20,
     "metadata": {},
     "output_type": "execute_result"
    }
   ],
   "source": [
    "all_subjects"
   ]
  },
  {
   "cell_type": "code",
   "execution_count": null,
   "metadata": {},
   "outputs": [],
   "source": []
  }
 ],
 "metadata": {
  "kernelspec": {
   "display_name": "Python 3",
   "language": "python",
   "name": "python3"
  },
  "language_info": {
   "codemirror_mode": {
    "name": "ipython",
    "version": 3
   },
   "file_extension": ".py",
   "mimetype": "text/x-python",
   "name": "python",
   "nbconvert_exporter": "python",
   "pygments_lexer": "ipython3",
   "version": "3.7.3"
  }
 },
 "nbformat": 4,
 "nbformat_minor": 2
}
