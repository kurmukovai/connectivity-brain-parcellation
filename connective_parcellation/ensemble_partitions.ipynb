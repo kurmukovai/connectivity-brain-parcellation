{
 "cells": [
  {
   "cell_type": "markdown",
   "metadata": {},
   "source": [
    "# 94"
   ]
  },
  {
   "cell_type": "markdown",
   "metadata": {},
   "source": [
    "# HE Hard Ensemble approach"
   ]
  },
  {
   "cell_type": "code",
   "execution_count": null,
   "metadata": {},
   "outputs": [],
   "source": [
    "library(RcppCNPy)\n",
    "library(clue)\n",
    "\n",
    "folder = \"/cobrain/groups/ml_group/data/concon_partitions/partitions_3_level/\"\n",
    "file_names = as.list(dir(path = folder, pattern=\"*.npy\"))\n",
    "file_names = lapply(file_names, function(x) paste0(folder, x))\n",
    "\n",
    "partitions = lapply(file_names, function(x) npyLoad(x, \"integer\"))\n",
    "\n",
    "partitions_as_membership = lapply(partitions, function(x) as.cl_partition(x))\n",
    "\n",
    "ensemble = cl_ensemble(list=partitions_as_membership)\n",
    "ensemble_partition = cl_consensus(ensemble, method = \"HE\")#method=\"soft/symdiff\")\n",
    "ensemble_vector = cl_class_ids(ensemble_partition)\n",
    "\n",
    "npySave(\"/home/kurmukovai/partition_ensemble_3_level400.npy\", ensemble_vector, mode=\"w\")\n"
   ]
  },
  {
   "cell_type": "code",
   "execution_count": null,
   "metadata": {},
   "outputs": [],
   "source": [
    "Rscript ensemble_for_loop.R 3 100 1"
   ]
  },
  {
   "cell_type": "code",
   "execution_count": 106,
   "metadata": {},
   "outputs": [
    {
     "name": "stdout",
     "output_type": "stream",
     "text": [
      "[1, 4, 7, 10, 13, 16, 19, 22, 25, 28, 31, 34, 37, 40, 43, 46, 49, 52, 55, 58, 61, 64, 67, 70, 73, 76, 79, 82, 85, 88, 91, 94, 97, 100]\n"
     ]
    }
   ],
   "source": [
    "print(list(range(1,101,3)))"
   ]
  },
  {
   "cell_type": "code",
   "execution_count": 107,
   "metadata": {},
   "outputs": [
    {
     "data": {
      "text/plain": [
       "34"
      ]
     },
     "execution_count": 107,
     "metadata": {},
     "output_type": "execute_result"
    }
   ],
   "source": [
    "len(list(range(1,101,3)))"
   ]
  },
  {
   "cell_type": "code",
   "execution_count": null,
   "metadata": {},
   "outputs": [],
   "source": [
    "args = commandArgs(trailingOnly=TRUE)"
   ]
  },
  {
   "cell_type": "code",
   "execution_count": null,
   "metadata": {},
   "outputs": [],
   "source": [
    "parcellation_level = 1\n",
    "resolution = 10\n",
    "path = glue(\"/data01/ayagoz/sparse_32_concon_HCP/parcellations/connectivity_parcellation_level{parcellation_level}/{resolution}/\")"
   ]
  },
  {
   "cell_type": "code",
   "execution_count": null,
   "metadata": {},
   "outputs": [],
   "source": [
    "library(RcppCNPy)\n",
    "library(clue)\n",
    "library(glue)\n",
    "\n",
    "start = Sys.time()\n",
    "args = commandArgs(trailingOnly=TRUE)\n",
    "parcellation_level = args[1]\n",
    "resolution = args[2]\n",
    "path = \"/data01/ayagoz/sparse_32_concon_HCP/parcellations\"\n",
    "folder = glue(\"{path}/connectivity_parcellation_level{parcellation_level}/{resolution}/\")\n",
    "\n",
    "file_names = as.list(dir(path = folder, pattern=\"*.npy\"))\n",
    "file_names = lapply(file_names[1:10], function(x) paste0(folder, x))\n",
    "partitions = lapply(file_names, function(x) npyLoad(x, \"integer\"))\n",
    "partitions_as_membership = lapply(partitions, function(x) as.cl_partition(x))\n",
    "end = Sys.time()\n",
    "print(start - end)\n",
    "\n",
    "start = Sys.time()\n",
    "ensemble = cl_ensemble(list=partitions_as_membership)\n",
    "ensemble_partition = cl_consensus(ensemble, method = \"HE\")\n",
    "ensemble_vector = cl_class_ids(ensemble_partition)\n",
    "npySave(\"/home/kurmukov/test_ensemble_10.npy\", ensemble_vector, mode=\"w\")\n",
    "end = Sys.time()"
   ]
  },
  {
   "cell_type": "code",
   "execution_count": null,
   "metadata": {},
   "outputs": [],
   "source": []
  },
  {
   "cell_type": "code",
   "execution_count": null,
   "metadata": {},
   "outputs": [],
   "source": []
  },
  {
   "cell_type": "markdown",
   "metadata": {},
   "source": [
    "# test R script"
   ]
  },
  {
   "cell_type": "code",
   "execution_count": null,
   "metadata": {},
   "outputs": [],
   "source": [
    "args = commandArgs(trailingOnly=TRUE)\n",
    "print(args[1])\n",
    "print(args[2])"
   ]
  },
  {
   "cell_type": "code",
   "execution_count": 1,
   "metadata": {},
   "outputs": [],
   "source": [
    "import numpy as np"
   ]
  },
  {
   "cell_type": "code",
   "execution_count": 5,
   "metadata": {},
   "outputs": [],
   "source": [
    "\n",
    "a = np.load(\"/home/kurmukov/test_ensemble_10.npy\")"
   ]
  },
  {
   "cell_type": "code",
   "execution_count": 7,
   "metadata": {},
   "outputs": [
    {
     "data": {
      "text/plain": [
       "array([ 3,  6, 10, ...,  1,  1,  1])"
      ]
     },
     "execution_count": 7,
     "metadata": {},
     "output_type": "execute_result"
    }
   ],
   "source": [
    "a"
   ]
  },
  {
   "cell_type": "code",
   "execution_count": 8,
   "metadata": {},
   "outputs": [
    {
     "data": {
      "text/plain": [
       "(array([ 1,  2,  3,  4,  5,  6,  7,  8,  9, 10]),\n",
       " array([2497,    1, 1415, 1931, 3502, 2923,    1, 1078, 3502, 2019]))"
      ]
     },
     "execution_count": 8,
     "metadata": {},
     "output_type": "execute_result"
    }
   ],
   "source": [
    "np.unique(a, return_counts=True)"
   ]
  },
  {
   "cell_type": "code",
   "execution_count": 9,
   "metadata": {},
   "outputs": [],
   "source": [
    "from glob import glob"
   ]
  },
  {
   "cell_type": "code",
   "execution_count": 90,
   "metadata": {},
   "outputs": [],
   "source": [
    "folder = '/data01/ayagoz/sparse_32_concon_HCP/parcellations/connectivity_parcellation_level3/10/*.npy'\n",
    "res = glob(folder)"
   ]
  },
  {
   "cell_type": "code",
   "execution_count": 91,
   "metadata": {},
   "outputs": [],
   "source": []
  },
  {
   "cell_type": "code",
   "execution_count": 14,
   "metadata": {},
   "outputs": [],
   "source": [
    "from sklearn.metrics import adjusted_mutual_info_score"
   ]
  },
  {
   "cell_type": "code",
   "execution_count": 15,
   "metadata": {},
   "outputs": [],
   "source": [
    "ensemble100 = np.load(\"/home/kurmukov/test_ensemble_10.npy\")"
   ]
  },
  {
   "cell_type": "code",
   "execution_count": 20,
   "metadata": {},
   "outputs": [],
   "source": [
    "from tqdm import tqdm"
   ]
  },
  {
   "cell_type": "code",
   "execution_count": 19,
   "metadata": {
    "scrolled": true
   },
   "outputs": [
    {
     "name": "stdout",
     "output_type": "stream",
     "text": [
      "0 0.6953964446114332\n",
      "1 0.6891074575384759\n",
      "2 0.6887526937190146\n",
      "3 0.6785330287821671\n",
      "4 0.6881211545221376\n",
      "5 0.7139621932942294\n",
      "6 0.6919601580951487\n",
      "7 0.6970404853843551\n",
      "8 0.6999527871275408\n",
      "9 0.7001103730769226\n",
      "10 0.706177891623148\n",
      "11 0.6905620168605474\n",
      "12 0.6965132651761909\n",
      "13 0.6891286279243759\n",
      "14 0.6810739462333772\n",
      "15 0.6753101176704203\n",
      "16 0.7047352277640623\n",
      "17 0.6996137683767403\n",
      "18 0.7002134894413712\n",
      "19 0.6842990607554891\n",
      "20 0.685339889725112\n",
      "21 0.6807327919100973\n",
      "22 0.6968655490642073\n",
      "23 0.6729795773078832\n",
      "24 0.6987666781514503\n",
      "25 0.7076617604505153\n",
      "26 0.6988215840992963\n",
      "27 0.7096925879206876\n",
      "28 0.6943035039720602\n",
      "29 0.699134172972741\n",
      "30 0.6755873890090632\n",
      "31 0.7126134271023462\n",
      "32 0.6804600488502335\n",
      "33 0.6774502241159083\n",
      "34 0.68940566125298\n",
      "35 0.697078983155696\n",
      "36 0.7181562404803763\n",
      "37 0.696972928977967\n",
      "38 0.6725872488741035\n",
      "39 0.7045528682139206\n",
      "40 0.7018651420495033\n",
      "41 0.709347763074704\n",
      "42 0.701034028044517\n",
      "43 0.6808466706812587\n",
      "44 0.6825061047641401\n",
      "45 0.6875683244726021\n",
      "46 0.6958201851748531\n",
      "47 0.6977210889783174\n",
      "48 0.7007305600126391\n",
      "49 0.6902457303235442\n",
      "50 0.7001020604096152\n",
      "51 0.7117060906423027\n",
      "52 0.6851519274723944\n",
      "53 0.6723667790386489\n",
      "54 0.6801715520967061\n",
      "55 0.6729028326283645\n",
      "56 0.701272322946133\n",
      "57 0.7001478089132636\n",
      "58 0.685055647292146\n",
      "59 0.6890948106996615\n",
      "60 0.707044080302921\n",
      "61 0.6992758791008725\n",
      "62 0.6869317157525779\n",
      "63 0.6984754497749655\n",
      "64 0.7006365537127792\n",
      "65 0.6984445163919039\n",
      "66 0.7044288904965814\n",
      "67 0.7108555463735505\n",
      "68 0.7167667992823904\n",
      "69 0.6843940111604373\n",
      "70 0.6883310957291882\n",
      "71 0.6885703184539269\n",
      "72 0.6936354470009124\n",
      "73 0.7195286890999133\n",
      "74 0.6943041294358236\n",
      "75 0.6992631281416924\n",
      "76 0.6885952262502034\n",
      "77 0.699319505470169\n",
      "78 0.7031879540194368\n",
      "79 0.6971733618152093\n",
      "80 0.7111728956382584\n",
      "81 0.7073961841644257\n",
      "82 0.6888329219495897\n",
      "83 0.6977118715175193\n",
      "84 0.6909875008618481\n",
      "85 0.6962788153923064\n",
      "86 0.6997724067804231\n",
      "87 0.6836678919995988\n",
      "88 0.7066740373377685\n",
      "89 0.7083604368587585\n",
      "90 0.6869661331564142\n",
      "91 0.7010765083783149\n",
      "92 0.6997773593089844\n",
      "93 0.6875286604750537\n",
      "94 0.6972448763959662\n",
      "95 0.698646515479108\n",
      "96 0.6753248083239024\n",
      "97 0.7023246119089761\n",
      "98 0.7035587650960669\n",
      "99 0.6998397105999068\n",
      "100 0.6864220532424132\n",
      "101 0.7155404192538893\n",
      "102 0.6968080652288807\n",
      "103 0.6741064503726093\n",
      "104 0.7123455728948624\n",
      "105 0.6735702810733242\n",
      "106 0.6915661284434663\n",
      "107 0.6860312588967898\n",
      "108 0.6874147769259453\n",
      "109 0.6790918982298904\n",
      "110 0.7227468717055179\n",
      "111 0.705043274298614\n",
      "112 0.681522027630753\n",
      "113 0.6801281649775799\n",
      "114 0.7063853237117137\n",
      "115 0.6997021362046801\n",
      "116 0.6951109245542438\n",
      "117 0.6823208028867424\n",
      "118 0.6799014560411936\n",
      "119 0.6816575958902392\n",
      "120 0.7019756248055903\n",
      "121 0.667257535167718\n",
      "122 0.701793137884609\n",
      "123 0.7045445959031466\n",
      "124 0.7145563752127571\n",
      "125 0.7138211463008596\n",
      "126 0.6916072302376727\n",
      "127 0.7005333089512935\n",
      "128 0.6947357191416385\n",
      "129 0.6899222757349192\n",
      "130 0.7126098270631948\n",
      "131 0.7085198201206874\n",
      "132 0.6891268756721906\n",
      "133 0.6997090317649665\n",
      "134 0.6936746302395511\n",
      "135 0.6901946163767397\n",
      "136 0.6775167749377813\n",
      "137 0.6858060051665671\n",
      "138 0.6899272132901897\n",
      "139 0.7083234467490571\n",
      "140 0.6994443275030129\n",
      "141 0.6919169327103638\n",
      "142 0.6972629365633554\n",
      "143 0.687373428321584\n",
      "144 0.7069523030568069\n",
      "145 0.7005656510352546\n",
      "146 0.7006230940330564\n",
      "147 0.6986724481344135\n",
      "148 0.7044861813473696\n",
      "149 0.6892812046181745\n",
      "150 0.7002653328627189\n",
      "151 0.7162682418169388\n",
      "152 0.6831032980553371\n",
      "153 0.6901700097779058\n",
      "154 0.6932516910329617\n",
      "155 0.6963081372227004\n",
      "156 0.7031138783654252\n",
      "157 0.70212739413978\n",
      "158 0.693217120491971\n",
      "159 0.6843862263605881\n",
      "160 0.7078236417424303\n",
      "161 0.6951029803729704\n",
      "162 0.6938339958236712\n",
      "163 0.6934129956939843\n",
      "164 0.6945219628297427\n",
      "165 0.6813295568370318\n",
      "166 0.7056249461473885\n",
      "167 0.6865973649954605\n",
      "168 0.659359670140976\n",
      "169 0.7042177849320531\n",
      "170 0.7049165257409515\n",
      "171 0.6864288207149317\n",
      "172 0.6837331837937426\n",
      "173 0.6866377329982046\n",
      "174 0.6877036628928664\n",
      "175 0.6974453503476754\n",
      "176 0.6751319014708468\n",
      "177 0.6792485988480584\n",
      "178 0.7120919587173021\n",
      "179 0.6833886630109689\n",
      "180 0.6787902339917478\n",
      "181 0.6719951965008084\n",
      "182 0.7092926060253051\n",
      "183 0.7002537814652592\n",
      "184 0.6895268949651551\n",
      "185 0.699217121136716\n",
      "186 0.6940169396758303\n",
      "187 0.6977216254661796\n",
      "188 0.704365537708715\n",
      "189 0.6736077569485129\n",
      "190 0.7056392444026378\n",
      "191 0.6877375551164426\n",
      "192 0.7144907689948194\n",
      "193 0.7213087102190512\n",
      "194 0.6841424910910321\n",
      "195 0.6965018071453293\n",
      "196 0.6683611810001157\n",
      "197 0.6921680762676798\n",
      "198 0.7099955611643448\n",
      "199 0.7006074223667196\n",
      "200 0.702420370016885\n",
      "201 0.6908848825261428\n",
      "202 0.7017908318051603\n",
      "203 0.692958377767684\n",
      "204 0.6879482483331014\n",
      "205 0.6862697276131656\n",
      "206 0.6977945716895629\n",
      "207 0.6931258159458875\n",
      "208 0.6947001831588973\n",
      "209 0.717579073089125\n",
      "210 0.7094081886899029\n",
      "211 0.7027525117555141\n",
      "212 0.6808144322082336\n",
      "213 0.7006089179662831\n",
      "214 0.6777809543294532\n",
      "215 0.6935775217195477\n",
      "216 0.6866854330233355\n",
      "217 0.6939398480694576\n",
      "218 0.6933447257459276\n",
      "219 0.7120451921466718\n",
      "220 0.6898690160260763\n",
      "221 0.7010681315715814\n",
      "222 0.6975614762030764\n",
      "223 0.6933243983646007\n",
      "224 0.6866419446432269\n",
      "225 0.7045900594288687\n",
      "226 0.6773418398199785\n",
      "227 0.6835147955907779\n",
      "228 0.6978097474722912\n",
      "229 0.6939708790780263\n",
      "230 0.686895744870381\n",
      "231 0.6955658058826377\n",
      "232 0.6779507000339839\n",
      "233 0.6790567774530871\n",
      "234 0.6914125281506126\n",
      "235 0.6748598929694156\n",
      "236 0.6960171256832266\n",
      "237 0.6856327559511601\n",
      "238 0.6918322894900453\n",
      "239 0.7182157294773353\n",
      "240 0.6945222491620954\n",
      "241 0.6947746360555092\n",
      "242 0.708768860855358\n",
      "243 0.7072562000067282\n",
      "244 0.694493522504767\n",
      "245 0.6958209392303683\n",
      "246 0.7061120982337076\n",
      "247 0.7052249119240264\n",
      "248 0.6925643817015391\n",
      "249 0.6977965024620415\n",
      "250 0.7044017934686423\n",
      "251 0.6914502105422797\n",
      "252 0.7048760935485955\n",
      "253 0.7025741955279902\n",
      "254 0.6912255843259786\n",
      "255 0.679988000183208\n",
      "256 0.6955314654825813\n",
      "257 0.7038350472625716\n",
      "258 0.6881751094400762\n",
      "259 0.6866221221394698\n",
      "260 0.6859552781596472\n",
      "261 0.7147812828182232\n",
      "262 0.7077072174185112\n",
      "263 0.6750619331593565\n",
      "264 0.6867974975233708\n",
      "265 0.7155595316020679\n",
      "266 0.6884439505241596\n",
      "267 0.6945311163099425\n",
      "268 0.6923230346966057\n",
      "269 0.7132520858297665\n",
      "270 0.691222400464737\n",
      "271 0.6887668785381016\n",
      "272 0.6894458371740279\n",
      "273 0.6775179836303507\n",
      "274 0.6933460388516999\n",
      "275 0.6884995604057533\n",
      "276 0.7010575998981065\n",
      "277 0.6848460192049308\n",
      "278 0.6888045011418639\n",
      "279 0.7108716783744099\n",
      "280 0.6971984054876438\n",
      "281 0.6992971631391486\n",
      "282 0.6922620219811106\n",
      "283 0.6948934934847449\n",
      "284 0.7036166533814388\n",
      "285 0.6752261253182663\n",
      "286 0.7048770255849738\n",
      "287 0.7040946888840912\n",
      "288 0.6886917383116875\n",
      "289 0.707841876388495\n",
      "290 0.7017365660271807\n",
      "291 0.7013342987272985\n",
      "292 0.692654318235493\n",
      "293 0.6847903128862933\n",
      "294 0.6845791325337135\n",
      "295 0.6779217867234539\n",
      "296 0.6954411300974211\n",
      "297 0.6786871960372467\n",
      "298 0.695428418821775\n",
      "299 0.7047587224771128\n",
      "300 0.6777024314552996\n",
      "301 0.6988426966822004\n",
      "302 0.7070139883871399\n",
      "303 0.6982234754146738\n",
      "304 0.6829116895830042\n",
      "305 0.6761723898474573\n",
      "306 0.6931630352365425\n",
      "307 0.696718043609131\n",
      "308 0.7026713164483414\n",
      "309 0.7085299962370479\n",
      "310 0.6939022330850435\n",
      "311 0.6746488256278211\n",
      "312 0.6873996198496778\n",
      "313 0.6911117200805944\n",
      "314 0.6862417545359323\n",
      "315 0.6778050962597806\n",
      "316 0.680680065254263\n",
      "317 0.6973845331024947\n",
      "318 0.7043338846485235\n",
      "319 0.7012723144705939\n",
      "320 0.7075414900994248\n",
      "321 0.6978225874337629\n",
      "322 0.6831359243651827\n",
      "323 0.6748760466120898\n",
      "324 0.7068499214503772\n",
      "325 0.6964064837195851\n",
      "326 0.6904142570873937\n",
      "327 0.6763345957352421\n",
      "328 0.7062294758999612\n",
      "329 0.6707646855762007\n",
      "330 0.7040200522415355\n",
      "331 0.6999753357754886\n",
      "332 0.6849472615557476\n",
      "333 0.701673479488207\n",
      "334 0.6915700438959497\n",
      "335 0.6854720045163011\n",
      "336 0.695786372271073\n",
      "337 0.6956981855580588\n",
      "338 0.6805538447494487\n",
      "339 0.6981756267188395\n",
      "340 0.6799555957649794\n",
      "341 0.6805966587247885\n",
      "342 0.6981441307533616\n",
      "343 0.6949946002586659\n",
      "344 0.7028971504930199\n",
      "345 0.7106720951898388\n",
      "346 0.695398363650632\n",
      "347 0.6990696091419223\n",
      "348 0.6751186700482469\n",
      "349 0.6996710348390945\n",
      "350 0.7005109957234992\n",
      "351 0.7042066823504745\n",
      "352 0.7037253134423173\n",
      "353 0.6936304749243059\n",
      "354 0.6854161474374234\n",
      "355 0.699947315090426\n",
      "356 0.704058342697359\n",
      "357 0.6997146681585953\n",
      "358 0.7027232410088262\n",
      "359 0.6953300845487269\n",
      "360 0.6906378087989711\n",
      "361 0.6949004479532815\n",
      "362 0.6909016031628592\n"
     ]
    },
    {
     "name": "stdout",
     "output_type": "stream",
     "text": [
      "363 0.6677248316440427\n",
      "364 0.7051139045747719\n",
      "365 0.7035168682371616\n",
      "366 0.7089419063484667\n",
      "367 0.6909482305604119\n",
      "368 0.6941039328978007\n",
      "369 0.6796636214313587\n",
      "370 0.6779297510806762\n",
      "371 0.6988336913009225\n",
      "372 0.689309555625318\n",
      "373 0.72028773487183\n",
      "374 0.7121297488654316\n",
      "375 0.7168781579773541\n",
      "376 0.6927337130682064\n",
      "377 0.6841570774060157\n",
      "378 0.6818822211136794\n",
      "379 0.6836728322402579\n",
      "380 0.6940184204116462\n",
      "381 0.6868506276163284\n",
      "382 0.6923145340216844\n",
      "383 0.7097775878308723\n",
      "384 0.7008254619517867\n",
      "385 0.6906575752813023\n",
      "386 0.7030717024630988\n",
      "387 0.7059309366682934\n",
      "388 0.6817230988847788\n",
      "389 0.7008247293605723\n",
      "390 0.7035545093985627\n",
      "391 0.6974865565794544\n",
      "392 0.6944769927971671\n",
      "393 0.6839149491352986\n",
      "394 0.689872333439552\n",
      "395 0.6885048168784467\n",
      "396 0.6831040940823332\n",
      "397 0.7079236837927272\n",
      "398 0.7113751810122235\n",
      "399 0.6821776494372527\n",
      "400 0.7191433452897276\n",
      "401 0.6882444175886305\n",
      "402 0.681991378577715\n",
      "403 0.6875957816513304\n",
      "404 0.7165709493266705\n",
      "405 0.7126088338896238\n",
      "406 0.6962486084244678\n",
      "407 0.7070965462294113\n",
      "408 0.6955932045834783\n",
      "409 0.6806499310401567\n",
      "410 0.6855646824287975\n",
      "411 0.6801927055352064\n",
      "412 0.6980655285036659\n",
      "413 0.6915336146841935\n",
      "414 0.7079499118356297\n",
      "415 0.6936058541414803\n",
      "416 0.7095640138018049\n",
      "417 0.7187160880756892\n",
      "418 0.6991557808030103\n",
      "419 0.6964303575455559\n",
      "420 0.6946781569868029\n",
      "421 0.6894192024457744\n",
      "422 0.6888784401475568\n",
      "423 0.6979374725870843\n",
      "424 0.6805229206825093\n",
      "425 0.700997557367747\n"
     ]
    }
   ],
   "source": [
    "aver_ami = []\n",
    "for p in enumerate(res):\n",
    "    partition = np.load(p)\n",
    "    aver_ami.append(adjusted_mutual_info_score(ensemble100, partition))"
   ]
  },
  {
   "cell_type": "code",
   "execution_count": 21,
   "metadata": {},
   "outputs": [
    {
     "name": "stderr",
     "output_type": "stream",
     "text": [
      "100%|██████████| 426/426 [01:22<00:00,  5.19it/s]\n"
     ]
    }
   ],
   "source": [
    "aver_ami = []\n",
    "for p in tqdm(res):\n",
    "    partition = np.load(p)\n",
    "    aver_ami.append(adjusted_mutual_info_score(ensemble100, partition))"
   ]
  },
  {
   "cell_type": "code",
   "execution_count": 22,
   "metadata": {},
   "outputs": [],
   "source": [
    "aver_ami = np.array(aver_ami)"
   ]
  },
  {
   "cell_type": "code",
   "execution_count": 23,
   "metadata": {},
   "outputs": [
    {
     "data": {
      "text/plain": [
       "0.6946488414466797"
      ]
     },
     "execution_count": 23,
     "metadata": {},
     "output_type": "execute_result"
    }
   ],
   "source": [
    "aver_ami.mean()"
   ]
  },
  {
   "cell_type": "code",
   "execution_count": 24,
   "metadata": {},
   "outputs": [
    {
     "data": {
      "text/plain": [
       "0.011159014623782807"
      ]
     },
     "execution_count": 24,
     "metadata": {},
     "output_type": "execute_result"
    }
   ],
   "source": [
    "aver_ami.std()"
   ]
  },
  {
   "cell_type": "code",
   "execution_count": 27,
   "metadata": {},
   "outputs": [],
   "source": [
    "ensemble100 = np.load(\"/home/kurmukov/test_ensemble_10.npy\")\n",
    "ensemble426 = np.load(\"/home/kurmukov/test_ensemble_426_1.npy\")"
   ]
  },
  {
   "cell_type": "code",
   "execution_count": 28,
   "metadata": {},
   "outputs": [
    {
     "name": "stderr",
     "output_type": "stream",
     "text": [
      "/home/kurmukov/miniconda3/lib/python3.7/site-packages/sklearn/metrics/cluster/supervised.py:746: FutureWarning: The behavior of AMI will change in version 0.22. To match the behavior of 'v_measure_score', AMI will use average_method='arithmetic' by default.\n",
      "  FutureWarning)\n"
     ]
    },
    {
     "data": {
      "text/plain": [
       "0.855640131286874"
      ]
     },
     "execution_count": 28,
     "metadata": {},
     "output_type": "execute_result"
    }
   ],
   "source": [
    "adjusted_mutual_info_score(ensemble100, ensemble426)"
   ]
  },
  {
   "cell_type": "code",
   "execution_count": 36,
   "metadata": {},
   "outputs": [
    {
     "name": "stderr",
     "output_type": "stream",
     "text": [
      "100%|██████████| 426/426 [01:21<00:00,  5.27it/s]\n"
     ]
    }
   ],
   "source": [
    "aver_ami = []\n",
    "res = glob(folder)\n",
    "for p in tqdm(res):\n",
    "    partition = np.load(p)\n",
    "    aver_ami.append(adjusted_mutual_info_score(ensemble100, partition))"
   ]
  },
  {
   "cell_type": "code",
   "execution_count": 41,
   "metadata": {},
   "outputs": [
    {
     "name": "stderr",
     "output_type": "stream",
     "text": [
      "  0%|          | 0/426 [00:00<?, ?it/s]/home/kurmukov/miniconda3/lib/python3.7/site-packages/sklearn/metrics/cluster/supervised.py:746: FutureWarning: The behavior of AMI will change in version 0.22. To match the behavior of 'v_measure_score', AMI will use average_method='arithmetic' by default.\n",
      "  FutureWarning)\n",
      "100%|██████████| 426/426 [01:24<00:00,  5.10it/s]\n"
     ]
    }
   ],
   "source": [
    "aver_ami = []\n",
    "res = glob(folder)\n",
    "for p in tqdm(res):\n",
    "    partition = np.load(p)\n",
    "    aver_ami.append(adjusted_mutual_info_score(ensemble426, partition))"
   ]
  },
  {
   "cell_type": "code",
   "execution_count": 42,
   "metadata": {},
   "outputs": [],
   "source": []
  },
  {
   "cell_type": "code",
   "execution_count": 40,
   "metadata": {},
   "outputs": [
    {
     "data": {
      "text/plain": [
       "(0.6946488414466797, 0.011159014623782807)"
      ]
     },
     "execution_count": 40,
     "metadata": {},
     "output_type": "execute_result"
    }
   ],
   "source": [
    "aver_ami.mean(), aver_ami.std()"
   ]
  },
  {
   "cell_type": "code",
   "execution_count": 43,
   "metadata": {},
   "outputs": [
    {
     "data": {
      "text/plain": [
       "(0.7007227880740602, 0.010220615742784342)"
      ]
     },
     "execution_count": 43,
     "metadata": {},
     "output_type": "execute_result"
    }
   ],
   "source": [
    "aver_ami.mean(), aver_ami.std()"
   ]
  },
  {
   "cell_type": "code",
   "execution_count": null,
   "metadata": {},
   "outputs": [],
   "source": []
  },
  {
   "cell_type": "code",
   "execution_count": 94,
   "metadata": {},
   "outputs": [
    {
     "name": "stderr",
     "output_type": "stream",
     "text": [
      "100%|██████████| 426/426 [01:28<00:00,  4.90it/s]\n"
     ]
    }
   ],
   "source": [
    "folder = '/data01/ayagoz/sparse_32_concon_HCP/parcellations/connectivity_parcellation_level3/10/*.npy'\n",
    "res = glob(folder)\n",
    "aver_ami = []\n",
    "for p in tqdm(res):\n",
    "    partition = np.load(p)\n",
    "    aver_ami.append(adjusted_mutual_info_score(mean[0], partition))\n",
    "aver_ami = np.array(aver_ami)\n",
    "aver_ami.mean(), aver_ami.std()"
   ]
  },
  {
   "cell_type": "code",
   "execution_count": 95,
   "metadata": {},
   "outputs": [
    {
     "data": {
      "text/plain": [
       "(0.6971858991318721, 0.010453913024081716)"
      ]
     },
     "execution_count": 95,
     "metadata": {},
     "output_type": "execute_result"
    }
   ],
   "source": [
    "aver_ami = np.array(aver_ami)\n",
    "aver_ami.mean(), aver_ami.std()"
   ]
  },
  {
   "cell_type": "code",
   "execution_count": 96,
   "metadata": {},
   "outputs": [
    {
     "name": "stderr",
     "output_type": "stream",
     "text": [
      "100%|██████████| 426/426 [01:26<00:00,  4.97it/s]\n"
     ]
    },
    {
     "data": {
      "text/plain": [
       "(0.7015646195487271, 0.010202756135889609)"
      ]
     },
     "execution_count": 96,
     "metadata": {},
     "output_type": "execute_result"
    }
   ],
   "source": [
    "folder = '/data01/ayagoz/sparse_32_concon_HCP/parcellations/connectivity_parcellation_level3/100/*.npy'\n",
    "res = glob(folder)\n",
    "aver_ami = []\n",
    "for p in tqdm(res):\n",
    "    partition = np.load(p)\n",
    "    aver_ami.append(adjusted_mutual_info_score(mean[0], partition))\n",
    "aver_ami = np.array(aver_ami)\n",
    "aver_ami.mean(), aver_ami.std()"
   ]
  },
  {
   "cell_type": "code",
   "execution_count": null,
   "metadata": {},
   "outputs": [],
   "source": []
  },
  {
   "cell_type": "code",
   "execution_count": 58,
   "metadata": {},
   "outputs": [],
   "source": [
    "part1 = sorted(glob('/data01/ayagoz/sparse_32_concon_HCP/parcellations/connectivity_parcellation_level3/50/*.npy'),\n",
    "               key=lambda x:int(x.split('/')[-1][:-4]))\n",
    "part2 = sorted(glob('/data01/ayagoz/sparse_32_concon_HCP/parcellations/connectivity_parcellation_level3/100/*.npy'),\n",
    "               key=lambda x:int(x.split('/')[-1][:-4]))"
   ]
  },
  {
   "cell_type": "code",
   "execution_count": 54,
   "metadata": {},
   "outputs": [
    {
     "data": {
      "text/plain": [
       "'/data01/ayagoz/sparse_32_concon_HCP/parcellations/connectivity_parcellation_level3/10/100307.npy'"
      ]
     },
     "execution_count": 54,
     "metadata": {},
     "output_type": "execute_result"
    }
   ],
   "source": [
    "part1[0]"
   ]
  },
  {
   "cell_type": "code",
   "execution_count": 55,
   "metadata": {},
   "outputs": [
    {
     "data": {
      "text/plain": [
       "'/data01/ayagoz/sparse_32_concon_HCP/parcellations/connectivity_parcellation_level3/100/100307.npy'"
      ]
     },
     "execution_count": 55,
     "metadata": {},
     "output_type": "execute_result"
    }
   ],
   "source": [
    "part2[0]"
   ]
  },
  {
   "cell_type": "code",
   "execution_count": 57,
   "metadata": {},
   "outputs": [
    {
     "name": "stderr",
     "output_type": "stream",
     "text": [
      "426it [01:28,  5.02it/s]\n"
     ]
    }
   ],
   "source": [
    "aver = []\n",
    "for p1,p2 in tqdm(zip(part1, part2)):\n",
    "    \n",
    "    ami = adjusted_mutual_info_score(np.load(p1), np.load(p2))\n",
    "    aver.append(ami)"
   ]
  },
  {
   "cell_type": "code",
   "execution_count": 59,
   "metadata": {},
   "outputs": [],
   "source": [
    "aver = np.array(aver)"
   ]
  },
  {
   "cell_type": "code",
   "execution_count": 60,
   "metadata": {},
   "outputs": [
    {
     "data": {
      "text/plain": [
       "(0.838156460756473, 0.024223484327395944)"
      ]
     },
     "execution_count": 60,
     "metadata": {},
     "output_type": "execute_result"
    }
   ],
   "source": [
    "aver.mean(), aver.std()"
   ]
  },
  {
   "cell_type": "code",
   "execution_count": 61,
   "metadata": {},
   "outputs": [
    {
     "name": "stderr",
     "output_type": "stream",
     "text": [
      "426it [01:31,  5.16it/s]\n"
     ]
    }
   ],
   "source": [
    "aver2 = []\n",
    "for p1,p2 in tqdm(zip(part1, part2)):\n",
    "    \n",
    "    ami = adjusted_mutual_info_score(np.load(p1), np.load(p2))\n",
    "    aver2.append(ami)"
   ]
  },
  {
   "cell_type": "code",
   "execution_count": 62,
   "metadata": {},
   "outputs": [],
   "source": [
    "aver2 = np.array(aver2)"
   ]
  },
  {
   "cell_type": "code",
   "execution_count": 63,
   "metadata": {},
   "outputs": [
    {
     "data": {
      "text/plain": [
       "(0.9533444212751656, 0.043103811128370376)"
      ]
     },
     "execution_count": 63,
     "metadata": {},
     "output_type": "execute_result"
    }
   ],
   "source": [
    "aver2.mean(), aver2.std()"
   ]
  },
  {
   "cell_type": "code",
   "execution_count": null,
   "metadata": {},
   "outputs": [],
   "source": [
    "/home/kurmukov/connective_parcellation/parcellation_processing/R_scripts\n",
    "\n",
    "Rscript ensemble_partition.R 3 10 61"
   ]
  },
  {
   "cell_type": "code",
   "execution_count": 108,
   "metadata": {},
   "outputs": [],
   "source": [
    "p = glob('/data01/ayagoz/sparse_32_concon_HCP/parcellations/ensemble_parcellation/shuffle_ensemble_order3_100/*.npy')"
   ]
  },
  {
   "cell_type": "code",
   "execution_count": 109,
   "metadata": {},
   "outputs": [
    {
     "data": {
      "text/plain": [
       "20"
      ]
     },
     "execution_count": 109,
     "metadata": {},
     "output_type": "execute_result"
    }
   ],
   "source": [
    "len(p)"
   ]
  },
  {
   "cell_type": "code",
   "execution_count": 110,
   "metadata": {},
   "outputs": [],
   "source": [
    "mean = [np.load(_p) for _p in p]"
   ]
  },
  {
   "cell_type": "code",
   "execution_count": 81,
   "metadata": {},
   "outputs": [],
   "source": [
    "from tqdm import tqdm_notebook"
   ]
  },
  {
   "cell_type": "code",
   "execution_count": 111,
   "metadata": {
    "collapsed": true
   },
   "outputs": [
    {
     "data": {
      "application/vnd.jupyter.widget-view+json": {
       "model_id": "1797dd98c40f4747a5a3f7879dec1a52",
       "version_major": 2,
       "version_minor": 0
      },
      "text/plain": [
       "HBox(children=(IntProgress(value=0, max=20), HTML(value='')))"
      ]
     },
     "metadata": {},
     "output_type": "display_data"
    },
    {
     "data": {
      "application/vnd.jupyter.widget-view+json": {
       "model_id": "b0670e97f0dc490680772fd6b0b998a0",
       "version_major": 2,
       "version_minor": 0
      },
      "text/plain": [
       "HBox(children=(IntProgress(value=0, max=20), HTML(value='')))"
      ]
     },
     "metadata": {},
     "output_type": "display_data"
    },
    {
     "name": "stderr",
     "output_type": "stream",
     "text": [
      "/home/kurmukov/miniconda3/lib/python3.7/site-packages/sklearn/metrics/cluster/supervised.py:746: FutureWarning: The behavior of AMI will change in version 0.22. To match the behavior of 'v_measure_score', AMI will use average_method='arithmetic' by default.\n",
      "  FutureWarning)\n"
     ]
    },
    {
     "data": {
      "application/vnd.jupyter.widget-view+json": {
       "model_id": "193a0afcfb304284acd2e6c5febd9497",
       "version_major": 2,
       "version_minor": 0
      },
      "text/plain": [
       "HBox(children=(IntProgress(value=0, max=19), HTML(value='')))"
      ]
     },
     "metadata": {},
     "output_type": "display_data"
    },
    {
     "data": {
      "application/vnd.jupyter.widget-view+json": {
       "model_id": "021951dc7d6849c3a845c05657e80c61",
       "version_major": 2,
       "version_minor": 0
      },
      "text/plain": [
       "HBox(children=(IntProgress(value=0, max=18), HTML(value='')))"
      ]
     },
     "metadata": {},
     "output_type": "display_data"
    },
    {
     "data": {
      "application/vnd.jupyter.widget-view+json": {
       "model_id": "d9b2ee217af143ffaea20b5f9c977b5f",
       "version_major": 2,
       "version_minor": 0
      },
      "text/plain": [
       "HBox(children=(IntProgress(value=0, max=17), HTML(value='')))"
      ]
     },
     "metadata": {},
     "output_type": "display_data"
    },
    {
     "data": {
      "application/vnd.jupyter.widget-view+json": {
       "model_id": "6230252afe824b0fa9d041eb0dc3fc94",
       "version_major": 2,
       "version_minor": 0
      },
      "text/plain": [
       "HBox(children=(IntProgress(value=0, max=16), HTML(value='')))"
      ]
     },
     "metadata": {},
     "output_type": "display_data"
    },
    {
     "data": {
      "application/vnd.jupyter.widget-view+json": {
       "model_id": "13e4314c271b4c86a6e9a15599eb9a68",
       "version_major": 2,
       "version_minor": 0
      },
      "text/plain": [
       "HBox(children=(IntProgress(value=0, max=15), HTML(value='')))"
      ]
     },
     "metadata": {},
     "output_type": "display_data"
    },
    {
     "data": {
      "application/vnd.jupyter.widget-view+json": {
       "model_id": "1db39b71f7984de7ada935808a758f09",
       "version_major": 2,
       "version_minor": 0
      },
      "text/plain": [
       "HBox(children=(IntProgress(value=0, max=14), HTML(value='')))"
      ]
     },
     "metadata": {},
     "output_type": "display_data"
    },
    {
     "data": {
      "application/vnd.jupyter.widget-view+json": {
       "model_id": "d322037da7774f6393eed63fcd48312f",
       "version_major": 2,
       "version_minor": 0
      },
      "text/plain": [
       "HBox(children=(IntProgress(value=0, max=13), HTML(value='')))"
      ]
     },
     "metadata": {},
     "output_type": "display_data"
    },
    {
     "data": {
      "application/vnd.jupyter.widget-view+json": {
       "model_id": "8bb0f27ae73945258c45f88792ae2c68",
       "version_major": 2,
       "version_minor": 0
      },
      "text/plain": [
       "HBox(children=(IntProgress(value=0, max=12), HTML(value='')))"
      ]
     },
     "metadata": {},
     "output_type": "display_data"
    },
    {
     "data": {
      "application/vnd.jupyter.widget-view+json": {
       "model_id": "bbbcdf4d27e5485eb5e10268c72233d0",
       "version_major": 2,
       "version_minor": 0
      },
      "text/plain": [
       "HBox(children=(IntProgress(value=0, max=11), HTML(value='')))"
      ]
     },
     "metadata": {},
     "output_type": "display_data"
    },
    {
     "data": {
      "application/vnd.jupyter.widget-view+json": {
       "model_id": "3eaa9ead737b4858b355a99139a6d6f3",
       "version_major": 2,
       "version_minor": 0
      },
      "text/plain": [
       "HBox(children=(IntProgress(value=0, max=10), HTML(value='')))"
      ]
     },
     "metadata": {},
     "output_type": "display_data"
    },
    {
     "data": {
      "application/vnd.jupyter.widget-view+json": {
       "model_id": "df3f493a4f5b45e3b29b442b210f99a7",
       "version_major": 2,
       "version_minor": 0
      },
      "text/plain": [
       "HBox(children=(IntProgress(value=0, max=9), HTML(value='')))"
      ]
     },
     "metadata": {},
     "output_type": "display_data"
    },
    {
     "data": {
      "application/vnd.jupyter.widget-view+json": {
       "model_id": "67a4a5b892a549a29fb6e6c5c570e9df",
       "version_major": 2,
       "version_minor": 0
      },
      "text/plain": [
       "HBox(children=(IntProgress(value=0, max=8), HTML(value='')))"
      ]
     },
     "metadata": {},
     "output_type": "display_data"
    },
    {
     "data": {
      "application/vnd.jupyter.widget-view+json": {
       "model_id": "2337ee0cf9eb417abd1c914378c1da26",
       "version_major": 2,
       "version_minor": 0
      },
      "text/plain": [
       "HBox(children=(IntProgress(value=0, max=7), HTML(value='')))"
      ]
     },
     "metadata": {},
     "output_type": "display_data"
    },
    {
     "data": {
      "application/vnd.jupyter.widget-view+json": {
       "model_id": "62f8de5da3c14393997e279438490587",
       "version_major": 2,
       "version_minor": 0
      },
      "text/plain": [
       "HBox(children=(IntProgress(value=0, max=6), HTML(value='')))"
      ]
     },
     "metadata": {},
     "output_type": "display_data"
    },
    {
     "data": {
      "application/vnd.jupyter.widget-view+json": {
       "model_id": "dd1aea6cb12244f183d81104bd9a2636",
       "version_major": 2,
       "version_minor": 0
      },
      "text/plain": [
       "HBox(children=(IntProgress(value=0, max=5), HTML(value='')))"
      ]
     },
     "metadata": {},
     "output_type": "display_data"
    },
    {
     "data": {
      "application/vnd.jupyter.widget-view+json": {
       "model_id": "4ec08bab0ed34591af83bb2a57a5e434",
       "version_major": 2,
       "version_minor": 0
      },
      "text/plain": [
       "HBox(children=(IntProgress(value=0, max=4), HTML(value='')))"
      ]
     },
     "metadata": {},
     "output_type": "display_data"
    },
    {
     "data": {
      "application/vnd.jupyter.widget-view+json": {
       "model_id": "d943f714407445a99295a3481f2dfbac",
       "version_major": 2,
       "version_minor": 0
      },
      "text/plain": [
       "HBox(children=(IntProgress(value=0, max=3), HTML(value='')))"
      ]
     },
     "metadata": {},
     "output_type": "display_data"
    },
    {
     "data": {
      "application/vnd.jupyter.widget-view+json": {
       "model_id": "d10a7817272c4db590710c76d0e49ef1",
       "version_major": 2,
       "version_minor": 0
      },
      "text/plain": [
       "HBox(children=(IntProgress(value=0, max=2), HTML(value='')))"
      ]
     },
     "metadata": {},
     "output_type": "display_data"
    },
    {
     "data": {
      "application/vnd.jupyter.widget-view+json": {
       "model_id": "83bbfe737fbe4f8eb587fe8d037d3711",
       "version_major": 2,
       "version_minor": 0
      },
      "text/plain": [
       "HBox(children=(IntProgress(value=0, max=1), HTML(value='')))"
      ]
     },
     "metadata": {},
     "output_type": "display_data"
    },
    {
     "name": "stdout",
     "output_type": "stream",
     "text": [
      "\n"
     ]
    }
   ],
   "source": [
    "aver_ami = []\n",
    "for i in tqdm_notebook(range(len(mean))):\n",
    "    for j in tqdm_notebook(range(i, len(mean))):\n",
    "        p1 = mean[i]\n",
    "        p2 = mean[j]\n",
    "        aver_ami.append(adjusted_mutual_info_score(p1, p2))"
   ]
  },
  {
   "cell_type": "code",
   "execution_count": 112,
   "metadata": {},
   "outputs": [
    {
     "data": {
      "text/plain": [
       "(0.9210959140383176, 0.02745418262224142)"
      ]
     },
     "execution_count": 112,
     "metadata": {},
     "output_type": "execute_result"
    }
   ],
   "source": [
    "np.mean(aver_ami), np.std(aver_ami)"
   ]
  },
  {
   "cell_type": "code",
   "execution_count": 83,
   "metadata": {},
   "outputs": [
    {
     "data": {
      "text/plain": [
       "(0.9116458336000582, 0.022188908383369454)"
      ]
     },
     "execution_count": 83,
     "metadata": {},
     "output_type": "execute_result"
    }
   ],
   "source": [
    "np.mean(aver_ami), np.std(aver_ami)"
   ]
  },
  {
   "cell_type": "code",
   "execution_count": 9,
   "metadata": {},
   "outputs": [],
   "source": [
    "import os\n",
    "from tqdm import tqdm\n",
    "import pandas as pd\n",
    "from igraph import Graph, ADJ_MAX\n",
    "import numpy as np\n",
    "from joblib import Parallel, delayed"
   ]
  },
  {
   "cell_type": "code",
   "execution_count": 2,
   "metadata": {},
   "outputs": [],
   "source": [
    "def load_concon(path):\n",
    "    from scipy.sparse import coo_matrix\n",
    "    data = np.load(path)\n",
    "    sparse_data = coo_matrix((data['data'], (data['row'], data['col'])))\n",
    "    adj = sparse_data.todense()\n",
    "    adjacency_balanced = (adj + adj.T)/2\n",
    "    np.fill_diagonal(adjacency_balanced, 0)\n",
    "    return adjacency_balanced"
   ]
  },
  {
   "cell_type": "code",
   "execution_count": 12,
   "metadata": {},
   "outputs": [],
   "source": [
    "def check_if_connected(file):\n",
    "    if '.npz' in file:\n",
    "        adj = load_concon(file)\n",
    "        G = Graph.Weighted_Adjacency(adj.tolist(), mode=ADJ_MAX, attr='weight')\n",
    "        return G.is_connected()\n",
    "    elif '.npy' in file:\n",
    "        adj = np.load(file, allow_pickle=True)\n",
    "        G = Graph.Weighted_Adjacency(adj.tolist(), mode=ADJ_MAX, attr='weight')\n",
    "        return file, G.is_connected()"
   ]
  },
  {
   "cell_type": "code",
   "execution_count": 4,
   "metadata": {},
   "outputs": [
    {
     "name": "stderr",
     "output_type": "stream",
     "text": [
      "34it [00:15,  1.86it/s]\n"
     ]
    }
   ],
   "source": [
    "all_paths = pd.DataFrame(columns=['path'])\n",
    "for dirpath, dirname, fnames in tqdm(os.walk('/data01/ayagoz/sparse_32_concon_HCP/connectomes/')):   \n",
    "    for file in fnames:\n",
    "        if ('.npz' in file) or ('.npy' in file):\n",
    "            p = os.path.join(dirpath, file)\n",
    "            d = dict()\n",
    "            d['path'] = p\n",
    "            all_paths = all_paths.append(d, ignore_index=True)\n",
    "        else:\n",
    "            pass"
   ]
  },
  {
   "cell_type": "code",
   "execution_count": 13,
   "metadata": {},
   "outputs": [
    {
     "name": "stderr",
     "output_type": "stream",
     "text": [
      "100%|██████████| 10/10 [00:00<00:00, 565.14it/s]\n"
     ]
    }
   ],
   "source": [
    "res = Parallel(n_jobs=10)(delayed(check_if_connected)(subject_path) for subject_path in tqdm(all_paths.path.values[-10:]))\n",
    "are_connected = pd.DataFrame(res, columns=['path', 'is_connected'])\n",
    "are_connected.to_csv('are_connected.csv')"
   ]
  },
  {
   "cell_type": "code",
   "execution_count": null,
   "metadata": {},
   "outputs": [],
   "source": []
  },
  {
   "cell_type": "markdown",
   "metadata": {},
   "source": [
    "# CSPA (cluster simularity partition approach)"
   ]
  },
  {
   "cell_type": "code",
   "execution_count": 15,
   "metadata": {},
   "outputs": [],
   "source": [
    "from glob import glob"
   ]
  },
  {
   "cell_type": "code",
   "execution_count": 13,
   "metadata": {},
   "outputs": [
    {
     "data": {
      "text/plain": [
       "['ConCon_resolution',\n",
       " 'Desikan_aparc_resolution',\n",
       " 'Destrieux_aparc2009_resolution',\n",
       " 'Ensemble_parcellation',\n",
       " 'agreement_graphs']"
      ]
     },
     "execution_count": 13,
     "metadata": {},
     "output_type": "execute_result"
    }
   ],
   "source": [
    "os.listdir('/data01/ayagoz/sparse_32_concon_HCP/connectomes')"
   ]
  },
  {
   "cell_type": "code",
   "execution_count": null,
   "metadata": {},
   "outputs": [],
   "source": []
  },
  {
   "cell_type": "code",
   "execution_count": 18,
   "metadata": {},
   "outputs": [],
   "source": [
    "import numpy as np\n",
    "from glob import glob\n",
    "from tqdm import tqdm\n",
    "from joblib import Parallel, delayed\n",
    "\n",
    "def n_agreements(v1, v2, partitions):\n",
    "    '''\n",
    "    Compute number of agreements for two nodes\n",
    "    ---\n",
    "    \n",
    "    Parameters\n",
    "    ---\n",
    "    \n",
    "    v1 - int,\n",
    "     node 1 index\n",
    "     \n",
    "    v2 - int,\n",
    "     node 2 index\n",
    "     \n",
    "    partitions - array,\n",
    "     n_partitions x n_nodes array, every row is a single graph partition labels\n",
    "     \n",
    "    Returns\n",
    "    ---\n",
    "    \n",
    "    percentage of agreements between 2 node coloring in all partitions\n",
    "    '''  \n",
    "    n_partitions = partitions.shape[0]\n",
    "    subset = partitions[:, [v1, v2]]\n",
    "    n_agr = np.where(subset[:, 0]==subset[:, 1])[0].shape[0]\n",
    "    return n_agr / n_partitions\n",
    "\n",
    "\n",
    "def compute_agreements(partitions): \n",
    "    '''\n",
    "    Construct agreement graph from set of partitions, see CSPA\n",
    "    ---\n",
    "    \n",
    "    Parameters\n",
    "    ---\n",
    "     \n",
    "    partitions - array,\n",
    "     n_partitions x n_nodes array, every row is a single graph partition labels\n",
    "     \n",
    "    Returns\n",
    "    ---\n",
    "    \n",
    "    adjacency matrix of agreement graph\n",
    "    '''\n",
    "    \n",
    "    n_objects = partitions.shape[1] # for ConCon n_objects = 20484\n",
    "    _pairs = np.triu_indices(n_objects, k = 1)\n",
    "    pairs = np.zeros((_pairs[0].shape[0], 2), dtype=int)\n",
    "    pairs[:, 0], pairs[:, 1] = _pairs[0], _pairs[1]\n",
    "    adj = np.zeros((n_objects, n_objects))\n",
    "    \n",
    "    for pair in tqdm(pairs):\n",
    "        v1, v2 = pair[0], pair[1]\n",
    "        adj[v1, v2] = n_agreements(v1, v2, partitions)\n",
    "        adj[v2, v1] = adj[v1, v2]      \n",
    "\n",
    "    return adj\n",
    "\n",
    "def do_job(level, sparsity):\n",
    "    p = '/data01/ayagoz/sparse_32_concon_HCP/'\n",
    "    files = glob(f'{p}parcellations/connectivity_parcellation_level{level}/{sparsity}/*.npy')\n",
    "    partitions = []\n",
    "    for file in files:\n",
    "        labels = np.load(file)\n",
    "        partitions.append(labels)\n",
    "    partitions = np.array(partitions)\n",
    "    adj = compute_agreements(partitions)\n",
    "    np.save(f'{p}connectomes/agreement_graphs/level{level}/agreement_adj_{level}_{sparsity}.npy', adj)\n",
    "\n",
    "if __name__ == '__main__':\n",
    "    level = argv[1]\n",
    "    Parallel(n_jobs=10)(delayed(do_job)(level, sparsity) for sparsity in tqdm(range(10, 101, 10)))"
   ]
  },
  {
   "cell_type": "code",
   "execution_count": null,
   "metadata": {},
   "outputs": [],
   "source": []
  },
  {
   "cell_type": "code",
   "execution_count": 21,
   "metadata": {},
   "outputs": [],
   "source": [
    "adj = np.load('/data01/ayagoz/sparse_32_concon_HCP/connectomes/agreement_graphs/level3/agreement_adj_3_100.npy')"
   ]
  },
  {
   "cell_type": "code",
   "execution_count": 22,
   "metadata": {},
   "outputs": [
    {
     "data": {
      "text/plain": [
       "(18869, 18869)"
      ]
     },
     "execution_count": 22,
     "metadata": {},
     "output_type": "execute_result"
    }
   ],
   "source": [
    "adj.shape"
   ]
  },
  {
   "cell_type": "code",
   "execution_count": 24,
   "metadata": {},
   "outputs": [],
   "source": [
    "from igraph import Graph\n",
    "from igraph import ADJ_MAX"
   ]
  },
  {
   "cell_type": "code",
   "execution_count": 25,
   "metadata": {},
   "outputs": [],
   "source": [
    "def compute_partition(adj):\n",
    "    try:\n",
    "        graph = Graph.Weighted_Adjacency(adj.tolist(), mode=ADJ_MAX, attr='weight')\n",
    "        levels = graph.community_multilevel(weights='weight', return_levels=True)\n",
    "        levels = np.array([level.membership for level in levels]).astype(int)\n",
    "        labels = np.array(levels[-1])\n",
    "    except BaseException as e:\n",
    "        print(e)\n",
    "        labels = np.array([-1]) \n",
    "    return labels"
   ]
  },
  {
   "cell_type": "code",
   "execution_count": 26,
   "metadata": {},
   "outputs": [],
   "source": [
    "labels = compute_partition(adj)"
   ]
  },
  {
   "cell_type": "code",
   "execution_count": 27,
   "metadata": {},
   "outputs": [
    {
     "data": {
      "text/plain": [
       "(array([ 0,  1,  2,  3,  4,  5,  6,  7,  8,  9, 10]),\n",
       " array([2128, 2306, 1970,    2, 1330, 1469, 1945, 2394, 2840, 1376, 1109]))"
      ]
     },
     "execution_count": 27,
     "metadata": {},
     "output_type": "execute_result"
    }
   ],
   "source": [
    "np.unique(labels, return_counts=True)"
   ]
  },
  {
   "cell_type": "code",
   "execution_count": null,
   "metadata": {},
   "outputs": [],
   "source": []
  },
  {
   "cell_type": "code",
   "execution_count": null,
   "metadata": {},
   "outputs": [],
   "source": [
    "/data01/ayagoz/sparse_32_concon_HCP/connectomes/agreement_graphs/level1\n",
    "\n",
    "/data01/ayagoz/sparse_32_concon_HCP/parcellations/ensemble_parcellation/CSPA/level1"
   ]
  },
  {
   "cell_type": "code",
   "execution_count": null,
   "metadata": {},
   "outputs": [],
   "source": [
    "import os\n",
    "import numpy as np\n",
    "from scipy.sparse import coo_matrix\n",
    "from joblib import Parallel, delayed\n",
    "from multilevel import compute_partition\n",
    "from load_concon import load_concon\n",
    "from tqdm import tqdm\n",
    "\n",
    "def get_partitions(sparsity):\n",
    "    for level in tqdm([1,2,3]):\n",
    "        try:\n",
    "            path = f'/data01/ayagoz/sparse_32_concon_HCP/connectomes/agreement_graphs/level{level}/agreement_adj_{level}_{sparsity}.npy'\n",
    "            adj = np.load(path)\n",
    "            partition = compute_partition(adj)\n",
    "            parcellation_path = f'/data01/ayagoz/sparse_32_concon_HCP/parcellations/ensemble_parcellation/CSPA/level{level}/CSPA_{level}_{sparsity}.npy'\n",
    "            np.save(parcellation_path, partition)\n",
    "        except BaseException as e:\n",
    "            print(e)\n",
    "            \n",
    "if __name__==\"__main__\":\n",
    "    Parallel(n_jobs=10)(delayed(get_partitions)(sparsity) for sparsity in range(10,101,10))"
   ]
  },
  {
   "cell_type": "code",
   "execution_count": 34,
   "metadata": {},
   "outputs": [],
   "source": [
    "a = np.array([1,1,1,1,1,0,0,0,0,0] ) * 1e-4"
   ]
  },
  {
   "cell_type": "code",
   "execution_count": 35,
   "metadata": {},
   "outputs": [
    {
     "data": {
      "text/plain": [
       "5e-05"
      ]
     },
     "execution_count": 35,
     "metadata": {},
     "output_type": "execute_result"
    }
   ],
   "source": [
    "a.std()"
   ]
  },
  {
   "cell_type": "code",
   "execution_count": 37,
   "metadata": {},
   "outputs": [],
   "source": [
    "adj = np.load('/data01/ayagoz/sparse_32_concon_HCP/connectomes/agreement_graphs/level1/agreement_adj_1_90.npy')"
   ]
  },
  {
   "cell_type": "code",
   "execution_count": 38,
   "metadata": {},
   "outputs": [
    {
     "data": {
      "text/plain": [
       "(18869, 18869)"
      ]
     },
     "execution_count": 38,
     "metadata": {},
     "output_type": "execute_result"
    }
   ],
   "source": [
    "adj.shape"
   ]
  },
  {
   "cell_type": "code",
   "execution_count": null,
   "metadata": {},
   "outputs": [],
   "source": []
  },
  {
   "cell_type": "markdown",
   "metadata": {},
   "source": [
    "# Average network approach"
   ]
  },
  {
   "cell_type": "code",
   "execution_count": null,
   "metadata": {},
   "outputs": [],
   "source": [
    "'/data01/ayagoz/sparse_32_concon_HCP/parcellations/ensemble_parcellation/average_network_partition'"
   ]
  },
  {
   "cell_type": "code",
   "execution_count": 5,
   "metadata": {},
   "outputs": [],
   "source": [
    "import os\n",
    "import numpy as np\n",
    "from sklearn.metrics import adjusted_mutual_info_score"
   ]
  },
  {
   "cell_type": "code",
   "execution_count": 6,
   "metadata": {},
   "outputs": [],
   "source": [
    "labels_aver = np.load('/data01/ayagoz/sparse_32_concon_HCP/parcellations/ensemble_parcellation/average_network_partition/level3/10/aver_level3_10.npy')"
   ]
  },
  {
   "cell_type": "code",
   "execution_count": 7,
   "metadata": {},
   "outputs": [
    {
     "data": {
      "text/plain": [
       "(array([-1,  0,  1,  2,  3,  4,  5,  6,  7,  8,  9, 10, 11, 12, 13, 14, 15,\n",
       "        16, 17, 18, 19, 20, 21, 22, 23, 24, 25, 26, 27, 28, 29, 30, 31, 32,\n",
       "        33, 34, 35, 36, 37, 38, 39, 40, 41, 42, 43, 44, 45, 46, 47, 48, 49,\n",
       "        50, 51, 52, 53, 54, 55, 56, 57, 58, 59, 60, 61, 62, 63, 64, 65, 66,\n",
       "        67, 68, 69, 70, 71, 72, 73, 74, 75, 76, 77, 78, 79, 80, 81, 82, 83]),\n",
       " array([  2, 214, 346, 234, 311,  83, 232, 245, 361, 450, 292, 410, 196,\n",
       "        287, 254, 157, 479, 443,  93, 123, 200, 221, 274,  71, 159, 460,\n",
       "        377, 133, 200, 204, 132, 168, 260, 326, 139, 508, 311, 178, 170,\n",
       "         39, 256, 157, 115, 193, 253, 111, 277,  97, 258, 162, 125, 138,\n",
       "        166, 124, 262, 253, 200, 253, 157, 129, 317, 361, 282, 308, 224,\n",
       "        293, 132, 311, 309, 206, 231, 112, 277, 365, 217, 184,  65, 182,\n",
       "        129, 154, 160, 185, 155, 131, 151]))"
      ]
     },
     "execution_count": 7,
     "metadata": {},
     "output_type": "execute_result"
    }
   ],
   "source": [
    "np.unique(labels_aver, return_counts=True)"
   ]
  },
  {
   "cell_type": "code",
   "execution_count": 8,
   "metadata": {},
   "outputs": [],
   "source": [
    "labels_HE=np.load('/data01/ayagoz/sparse_32_concon_HCP/parcellations/ensemble_parcellation/connectivity_parcellation_level3/10/ensemble_3_10.npy')"
   ]
  },
  {
   "cell_type": "code",
   "execution_count": 9,
   "metadata": {},
   "outputs": [
    {
     "data": {
      "text/plain": [
       "(array([ 1,  2,  3,  4,  5,  6,  7,  8,  9, 10, 11, 12, 13, 14, 15, 16, 17,\n",
       "        18, 19, 20, 21, 22, 23, 24, 25, 26, 27, 28, 29, 30, 31, 32, 33, 34,\n",
       "        35, 36, 37, 38, 39, 40, 41, 42, 43, 44, 45, 46, 47, 48, 49, 50, 51,\n",
       "        52, 53, 54, 55, 56, 57, 58, 59, 60, 61, 62, 63, 64, 65, 66, 67, 68,\n",
       "        69, 70, 71, 72, 73, 74, 75, 76, 77, 78, 79, 80, 81, 82, 83, 84, 85,\n",
       "        86, 87, 88, 89, 90, 91]),\n",
       " array([248, 195, 293, 320, 263, 254, 197, 135, 156, 227, 321, 184,  92,\n",
       "        212,   2, 240, 293, 230, 210, 341, 123, 218, 216, 243, 191, 269,\n",
       "        223, 182, 267, 201, 182, 218, 178, 215, 102, 214, 201, 197,  36,\n",
       "         38, 150, 240, 238, 278, 216, 207, 176, 244, 236,  79, 284, 183,\n",
       "        291, 232, 120,  99, 209, 298, 221, 279, 315, 221, 138, 129, 217,\n",
       "          2, 157, 160, 264, 207, 235,  52, 240, 189, 244, 225, 261, 224,\n",
       "        155, 160, 252, 247, 214,   2, 332, 228, 286, 285, 305, 302, 214]))"
      ]
     },
     "execution_count": 9,
     "metadata": {},
     "output_type": "execute_result"
    }
   ],
   "source": [
    "\n",
    "np.unique(labels_HE, return_counts=True)"
   ]
  },
  {
   "cell_type": "code",
   "execution_count": 10,
   "metadata": {},
   "outputs": [
    {
     "name": "stderr",
     "output_type": "stream",
     "text": [
      "/home/kurmukov/miniconda3/lib/python3.7/site-packages/sklearn/metrics/cluster/supervised.py:746: FutureWarning: The behavior of AMI will change in version 0.22. To match the behavior of 'v_measure_score', AMI will use average_method='arithmetic' by default.\n",
      "  FutureWarning)\n"
     ]
    },
    {
     "data": {
      "text/plain": [
       "0.711083325174622"
      ]
     },
     "execution_count": 10,
     "metadata": {},
     "output_type": "execute_result"
    }
   ],
   "source": [
    "adjusted_mutual_info_score(labels_aver, labels_HE)"
   ]
  },
  {
   "cell_type": "code",
   "execution_count": 11,
   "metadata": {},
   "outputs": [
    {
     "data": {
      "text/plain": [
       "(18869,)"
      ]
     },
     "execution_count": 11,
     "metadata": {},
     "output_type": "execute_result"
    }
   ],
   "source": [
    "labels_aver.shape"
   ]
  },
  {
   "cell_type": "code",
   "execution_count": 12,
   "metadata": {},
   "outputs": [
    {
     "data": {
      "text/plain": [
       "(18869,)"
      ]
     },
     "execution_count": 12,
     "metadata": {},
     "output_type": "execute_result"
    }
   ],
   "source": [
    "labels_HE.shape"
   ]
  },
  {
   "cell_type": "code",
   "execution_count": null,
   "metadata": {},
   "outputs": [],
   "source": [
    "python compute_aver_network_parcellation.py 10"
   ]
  },
  {
   "cell_type": "code",
   "execution_count": null,
   "metadata": {},
   "outputs": [],
   "source": []
  },
  {
   "cell_type": "code",
   "execution_count": 48,
   "metadata": {},
   "outputs": [],
   "source": [
    "level = [1] * 10 + [2] * 10 + [3] * 10\n",
    "sparsity = list(range(100, 9, -10)) * 3"
   ]
  },
  {
   "cell_type": "code",
   "execution_count": 50,
   "metadata": {},
   "outputs": [
    {
     "name": "stdout",
     "output_type": "stream",
     "text": [
      "1 100\n",
      "1 90\n",
      "1 80\n",
      "1 70\n",
      "1 60\n",
      "1 50\n",
      "1 40\n",
      "1 30\n",
      "1 20\n",
      "1 10\n",
      "2 100\n",
      "2 90\n",
      "2 80\n",
      "2 70\n",
      "2 60\n",
      "2 50\n",
      "2 40\n",
      "2 30\n",
      "2 20\n",
      "2 10\n",
      "3 100\n",
      "3 90\n",
      "3 80\n",
      "3 70\n",
      "3 60\n",
      "3 50\n",
      "3 40\n",
      "3 30\n",
      "3 20\n",
      "3 10\n"
     ]
    }
   ],
   "source": [
    "for l, s in zip(level, sparsity):\n",
    "    print(l, s)"
   ]
  },
  {
   "cell_type": "code",
   "execution_count": null,
   "metadata": {},
   "outputs": [],
   "source": []
  },
  {
   "cell_type": "code",
   "execution_count": null,
   "metadata": {},
   "outputs": [],
   "source": []
  },
  {
   "cell_type": "code",
   "execution_count": null,
   "metadata": {},
   "outputs": [],
   "source": []
  },
  {
   "cell_type": "code",
   "execution_count": null,
   "metadata": {},
   "outputs": [],
   "source": [
    "import os\n",
    "import numpy as np\n",
    "from tqdm import tqdm\n",
    "from sys import argv\n",
    "from joblib import Parallel, delayed\n",
    "from scipy.sparse import coo_matrix\n",
    "from load_concon import load_concon\n",
    "\n",
    "def squeeze_matrix(matrix,\n",
    "                   labels,\n",
    "                   drop_minus_1 = False,\n",
    "                   fill_diag_zero=True,\n",
    "                   return_transform=False,):\n",
    "    '''\n",
    "    Apply parcellation to adjacency matrix\n",
    "    \n",
    "    Parameters\n",
    "    ----\n",
    "    \n",
    "    matrix - ndarray,\n",
    "     graph adjacency matrix M x M\n",
    "     \n",
    "    labels - ndarray,\n",
    "     parcellation labels 1 x M with N unique values\n",
    "     (cluster/parcels labels)\n",
    "     \n",
    "    drop_minus_1 - bool,\n",
    "     default True, drops rows/columns which\n",
    "     corresponds to label \"-1\"\n",
    "    \n",
    "    fill_diag_zero - bool,\n",
    "     default, True, fills diagonal of the\n",
    "     returned adjacency matrix with zeros    \n",
    "              \n",
    "    return_transform - bool,\n",
    "     default False\n",
    "    '''\n",
    "    if drop_minus_1:\n",
    "        mask = labels != -1\n",
    "        labels = labels[mask]\n",
    "        matrix = matrix[mask, :][:, mask]\n",
    "\n",
    "    input_size = matrix.shape[0]\n",
    "    output_size = np.unique(labels).shape[0]\n",
    "    \n",
    "    d = dict(zip(np.unique(labels), np.arange(output_size)))\n",
    "    _labels = list(map(lambda x: d[x], labels))\n",
    "    transform = np.zeros((input_size, output_size))\n",
    "    \n",
    "    for row, col in enumerate(_labels):\n",
    "        transform[row, col] = 1\n",
    "    \n",
    "    squeezed = transform.T.dot(matrix.dot(transform))\n",
    "    squeezed = (squeezed + squeezed.T)/2\n",
    "    \n",
    "    if fill_diag_zero:\n",
    "        np.fill_diagonal(squeezed, 0)\n",
    "    \n",
    "    if return_transform:\n",
    "        return np.array(squeezed), transform\n",
    "    \n",
    "    return np.array(squeezed)\n",
    "\n",
    "def apply_parcellation(subject):\n",
    "    '''\n",
    "    Applies parcellation for all sparsity levels\n",
    "    \n",
    "    Parameters\n",
    "    ------\n",
    "    \n",
    "    subject - int,\n",
    "     subject id\n",
    "    '''\n",
    "    concon_folder = '/data01/ayagoz/sparse_32_concon_HCP/connectomes/ConCon_resolution'\n",
    "    aver_path = f'/data01/ayagoz/sparse_32_concon_HCP/parcellations/ensemble_parcellation/average_network_partition/level{plevel}'\n",
    "    cspa_path = f'/data01/ayagoz/sparse_32_concon_HCP/parcellations/ensemble_parcellation/CSPA/level{plevel}'\n",
    "    aver_target = f'/data01/ayagoz/sparse_32_concon_HCP/connectomes/Ensemble_parcellation/Aver_level{plevel}'\n",
    "    cspa_target = f'/data01/ayagoz/sparse_32_concon_HCP/connectomes/Ensemble_parcellation/CSPA_level{plevel}'\n",
    "    average_desikan = np.load('/data01/ayagoz/sparse_32_concon_HCP/parcellations/desikan_aparc_average_1113.npy',\n",
    "                   allow_pickle=True)\n",
    "    \n",
    "    for sparsity in [10]#range(10, 101, 10):\n",
    "        try:\n",
    "            adj = load_concon(f'{concon_folder}/{sparsity}/{subject}.npz', labels_to_drop=average_desikan)#\n",
    "            labels_parcellation = np.load(f'{aver_path}/aver_level{plevel}_{sparsity}.npy')#\n",
    "            adj_parcellation = squeeze_matrix(adj, labels_parcellation)#\n",
    "            np.save(f'{aver_target}/{sparsity}/{subject}.npy', adj_parcellation)\n",
    "\n",
    "            labels_parcellation = np.load(f'{cspa_path}/aver_level{plevel}_{sparsity}.npy')#\n",
    "            adj_parcellation = squeeze_matrix(adj, labels_parcellation)#\n",
    "            np.save(f'{cspa_target}/{sparsity}/{subject}.npy', adj_parcellation)\n",
    "        except BaseException as e:\n",
    "            print(e, subject, sparsity, plevel)\n",
    "\n",
    "\n",
    "if __name__ == \"__main__\":\n",
    "    \n",
    "    plevel = 1 # argv[1] # parcellation level: 1,2,3\n",
    "\n",
    "    concon_folder = '/data01/ayagoz/sparse_32_concon_HCP/connectomes/ConCon_resolution'\n",
    "    all_subjects = [uid.split('.')[0] for uid in os.listdir(f'{concon_folder}/10')]\n",
    "\n",
    "    Parallel(n_jobs=2)(delayed(apply_parcellation)(subject) for subject in tqdm(all_subjects[:2]))\n",
    "    \n",
    "    "
   ]
  },
  {
   "cell_type": "code",
   "execution_count": null,
   "metadata": {},
   "outputs": [],
   "source": []
  },
  {
   "cell_type": "code",
   "execution_count": 51,
   "metadata": {},
   "outputs": [
    {
     "data": {
      "text/plain": [
       "['mkdirs.py', 'level1', 'level2', 'level3', 'move.py']"
      ]
     },
     "execution_count": 51,
     "metadata": {},
     "output_type": "execute_result"
    }
   ],
   "source": [
    "os.listdir('/data01/ayagoz/sparse_32_concon_HCP/parcellations/ensemble_parcellation/average_network_partition')"
   ]
  },
  {
   "cell_type": "code",
   "execution_count": 53,
   "metadata": {},
   "outputs": [
    {
     "data": {
      "text/plain": [
       "['level1', 'level2', 'level3']"
      ]
     },
     "execution_count": 53,
     "metadata": {},
     "output_type": "execute_result"
    }
   ],
   "source": [
    "os.listdir('/data01/ayagoz/sparse_32_concon_HCP/parcellations/ensemble_parcellation/CSPA')"
   ]
  },
  {
   "cell_type": "code",
   "execution_count": null,
   "metadata": {},
   "outputs": [],
   "source": []
  }
 ],
 "metadata": {
  "kernelspec": {
   "display_name": "Python 3",
   "language": "python",
   "name": "python3"
  },
  "language_info": {
   "codemirror_mode": {
    "name": "ipython",
    "version": 3
   },
   "file_extension": ".py",
   "mimetype": "text/x-python",
   "name": "python",
   "nbconvert_exporter": "python",
   "pygments_lexer": "ipython3",
   "version": "3.7.3"
  }
 },
 "nbformat": 4,
 "nbformat_minor": 2
}
