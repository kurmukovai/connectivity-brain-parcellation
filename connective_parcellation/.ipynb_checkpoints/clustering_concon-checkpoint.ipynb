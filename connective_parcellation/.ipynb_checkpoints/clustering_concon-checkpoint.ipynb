{
 "cells": [
  {
   "cell_type": "code",
   "execution_count": 2,
   "metadata": {},
   "outputs": [
    {
     "name": "stdout",
     "output_type": "stream",
     "text": [
      "Collecting python-igraph\n",
      "\u001b[?25l  Downloading https://files.pythonhosted.org/packages/0f/a0/4e7134f803737aa6eebb4e5250565ace0e2599659e22be7f7eba520ff017/python-igraph-0.7.1.post6.tar.gz (377kB)\n",
      "\u001b[K    100% |████████████████████████████████| 378kB 2.3MB/s eta 0:00:01\n",
      "\u001b[?25hBuilding wheels for collected packages: python-igraph\n",
      "  Building wheel for python-igraph (setup.py) ... \u001b[?25ldone\n",
      "\u001b[?25h  Stored in directory: /home/kurmukov/.cache/pip/wheels/41/d6/02/34eebae97e25f5b87d60f4c0687e00523e3f244fa41bc3f4a7\n",
      "Successfully built python-igraph\n",
      "Installing collected packages: python-igraph\n",
      "Successfully installed python-igraph-0.7.1.post6\n"
     ]
    }
   ],
   "source": [
    "!pip install python-igraph"
   ]
  },
  {
   "cell_type": "code",
   "execution_count": 1,
   "metadata": {},
   "outputs": [],
   "source": [
    "import numpy as np\n",
    "from igraph import Graph\n",
    "from igraph import ADJ_MAX\n",
    "from scipy.sparse import coo_matrix\n",
    "from sys import argv\n",
    "from tqdm import tqdm\n"
   ]
  },
  {
   "cell_type": "code",
   "execution_count": 2,
   "metadata": {},
   "outputs": [],
   "source": [
    "def compute_partition(adjacency):\n",
    "    try:\n",
    "        g = Graph.Weighted_Adjacency(adjacency.tolist(),\n",
    "                                     mode=ADJ_MAX,\n",
    "                                     attr='weight')\n",
    "        levels = g.community_multilevel(\n",
    "            weights='weight',\n",
    "            return_levels=True)\n",
    "        levels = np.array([level.membership for level in levels]).astype(int)\n",
    "        labels = np.array(levels[-1])\n",
    "    except:\n",
    "        labels = np.array([-1])  # dangerous, what if i have a single node in a graph?\n",
    "    return labels"
   ]
  },
  {
   "cell_type": "code",
   "execution_count": 3,
   "metadata": {},
   "outputs": [],
   "source": [
    "def load_concon(path):\n",
    "    from scipy.sparse import coo_matrix\n",
    "    data = np.load(path)\n",
    "    sparse_data = coo_matrix((data['data'], (data['row'], data['col'])))\n",
    "    adj = sparse_data.todense()\n",
    "    adjacency_balanced = (adj + adj.T)/2\n",
    "    np.fill_diagonal(adjacency_balanced, 0)\n",
    "    return adjacency_balanced"
   ]
  },
  {
   "cell_type": "code",
   "execution_count": 4,
   "metadata": {},
   "outputs": [],
   "source": [
    "path = '/data01/ayagoz/sparse_32_concon_HCP/ConCon_resolution/10/100307.npz'\n",
    "\n",
    "adj = load_concon(path)"
   ]
  },
  {
   "cell_type": "code",
   "execution_count": 5,
   "metadata": {},
   "outputs": [],
   "source": [
    "g = Graph.Weighted_Adjacency(adj.tolist(),\n",
    "                             mode=ADJ_MAX,\n",
    "                             attr='weight')"
   ]
  },
  {
   "cell_type": "code",
   "execution_count": 6,
   "metadata": {},
   "outputs": [],
   "source": [
    "levels = g.community_multilevel(\n",
    "            weights='weight',\n",
    "            return_levels=True)"
   ]
  },
  {
   "cell_type": "code",
   "execution_count": 7,
   "metadata": {},
   "outputs": [
    {
     "data": {
      "text/plain": [
       "[<igraph.clustering.VertexClustering at 0x7f1ecc73ce10>,\n",
       " <igraph.clustering.VertexClustering at 0x7f1ecc73ccc0>]"
      ]
     },
     "execution_count": 7,
     "metadata": {},
     "output_type": "execute_result"
    }
   ],
   "source": [
    "levels"
   ]
  },
  {
   "cell_type": "code",
   "execution_count": 8,
   "metadata": {},
   "outputs": [],
   "source": [
    "levels = np.array([level.membership for level in levels]).astype(int)"
   ]
  },
  {
   "cell_type": "code",
   "execution_count": 10,
   "metadata": {},
   "outputs": [
    {
     "data": {
      "text/plain": [
       "(2, 20484)"
      ]
     },
     "execution_count": 10,
     "metadata": {},
     "output_type": "execute_result"
    }
   ],
   "source": [
    "levels.shape"
   ]
  },
  {
   "cell_type": "code",
   "execution_count": 11,
   "metadata": {},
   "outputs": [
    {
     "data": {
      "text/plain": [
       "array([ 6,  3,  4, ..., 13, 13, 13])"
      ]
     },
     "execution_count": 11,
     "metadata": {},
     "output_type": "execute_result"
    }
   ],
   "source": [
    "levels[0]"
   ]
  },
  {
   "cell_type": "code",
   "execution_count": 12,
   "metadata": {},
   "outputs": [
    {
     "data": {
      "text/plain": [
       "(array([ 0,  1,  2,  3,  4,  5,  6,  7,  8,  9, 10, 11, 12, 13, 14, 15]),\n",
       " array([   1, 1562, 1224, 1356, 2048,  229, 1776, 4099,  865,    1, 1660,\n",
       "         750,  580, 3197,  892,  244]))"
      ]
     },
     "execution_count": 12,
     "metadata": {},
     "output_type": "execute_result"
    }
   ],
   "source": [
    "np.unique(levels[0], return_counts=True)"
   ]
  },
  {
   "cell_type": "code",
   "execution_count": 13,
   "metadata": {},
   "outputs": [
    {
     "data": {
      "text/plain": [
       "(array([0, 1, 2, 3, 4, 5, 6, 7, 8]),\n",
       " array([   1, 3922, 4498, 1776,    1, 1660, 4099, 1330, 3197]))"
      ]
     },
     "execution_count": 13,
     "metadata": {},
     "output_type": "execute_result"
    }
   ],
   "source": [
    "np.unique(levels[1], return_counts=True)"
   ]
  },
  {
   "cell_type": "code",
   "execution_count": 15,
   "metadata": {},
   "outputs": [],
   "source": [
    "from sklearn.metrics import adjusted_mutual_info_score"
   ]
  },
  {
   "cell_type": "code",
   "execution_count": 18,
   "metadata": {},
   "outputs": [],
   "source": [
    "color = levels[0]"
   ]
  },
  {
   "cell_type": "code",
   "execution_count": 19,
   "metadata": {},
   "outputs": [
    {
     "data": {
      "text/plain": [
       "0.2703792240138568"
      ]
     },
     "execution_count": 19,
     "metadata": {},
     "output_type": "execute_result"
    }
   ],
   "source": [
    "adjusted_mutual_info_score(color[:10242], color[10242:])"
   ]
  },
  {
   "cell_type": "code",
   "execution_count": 21,
   "metadata": {},
   "outputs": [],
   "source": [
    "aver = np.load('/data01/ayagoz/sparse_32_concon_HCP/parcellations/desikan_aparc_average_1113.npy',\n",
    "               allow_pickle=True)"
   ]
  },
  {
   "cell_type": "code",
   "execution_count": 22,
   "metadata": {},
   "outputs": [],
   "source": [
    "mask = aver != -1\n",
    "adj_masked = adj[mask, :][:, mask]"
   ]
  },
  {
   "cell_type": "code",
   "execution_count": 23,
   "metadata": {},
   "outputs": [
    {
     "data": {
      "text/plain": [
       "(18869, 18869)"
      ]
     },
     "execution_count": 23,
     "metadata": {},
     "output_type": "execute_result"
    }
   ],
   "source": [
    "adj_masked.shape"
   ]
  },
  {
   "cell_type": "code",
   "execution_count": 30,
   "metadata": {},
   "outputs": [],
   "source": [
    "g = Graph.Weighted_Adjacency(adj_masked.tolist(),\n",
    "                             mode=ADJ_MAX,\n",
    "                             attr='weight')\n",
    "\n",
    "levels_new = g.community_multilevel(\n",
    "            weights='weight',\n",
    "            return_levels=True)"
   ]
  },
  {
   "cell_type": "code",
   "execution_count": 31,
   "metadata": {},
   "outputs": [],
   "source": [
    "levels_new = np.array([level.membership for level in levels_new]).astype(int)"
   ]
  },
  {
   "cell_type": "code",
   "execution_count": 32,
   "metadata": {},
   "outputs": [
    {
     "data": {
      "text/plain": [
       "array([[ 9,  5,  7, ..., 14, 14, 14],\n",
       "       [ 3,  1,  2, ...,  6,  6,  6]])"
      ]
     },
     "execution_count": 32,
     "metadata": {},
     "output_type": "execute_result"
    }
   ],
   "source": [
    "levels_new"
   ]
  },
  {
   "cell_type": "code",
   "execution_count": 33,
   "metadata": {},
   "outputs": [],
   "source": [
    "labels_temp = levels_new[-1]\n",
    "labels_new = np.zeros(20484) - 1\n",
    "labels_new[mask] = labels_temp"
   ]
  },
  {
   "cell_type": "code",
   "execution_count": 34,
   "metadata": {},
   "outputs": [
    {
     "data": {
      "text/plain": [
       "0.637412873493857"
      ]
     },
     "execution_count": 34,
     "metadata": {},
     "output_type": "execute_result"
    }
   ],
   "source": [
    "adjusted_mutual_info_score(levels[-1], labels_new)"
   ]
  },
  {
   "cell_type": "code",
   "execution_count": 35,
   "metadata": {},
   "outputs": [],
   "source": [
    "medial_labels = levels[-1][aver==-1]"
   ]
  },
  {
   "cell_type": "code",
   "execution_count": 37,
   "metadata": {},
   "outputs": [
    {
     "data": {
      "text/plain": [
       "(array([1, 2, 3, 5, 6, 7, 8]), array([359, 503, 226,  12,  93,  44, 378]))"
      ]
     },
     "execution_count": 37,
     "metadata": {},
     "output_type": "execute_result"
    }
   ],
   "source": [
    "np.unique(medial_labels, return_counts=True)"
   ]
  },
  {
   "cell_type": "code",
   "execution_count": null,
   "metadata": {},
   "outputs": [],
   "source": []
  },
  {
   "cell_type": "code",
   "execution_count": null,
   "metadata": {},
   "outputs": [],
   "source": []
  },
  {
   "cell_type": "code",
   "execution_count": null,
   "metadata": {},
   "outputs": [],
   "source": [
    "def load_concon(path, labels_to_drop=None):\n",
    "    '''\n",
    "    Load ConCon ajancency matrix\n",
    "    \n",
    "    Parameters\n",
    "    -------\n",
    "    \n",
    "    path - str,\n",
    "     path to concon *.npz file\n",
    "     \n",
    "    labels_to_drop - ndarray,\n",
    "     default None, drops rows/columns which\n",
    "     corresponds to label \"-1\" (corpus collosum, cerebellum)\n",
    "     \n",
    "    Return\n",
    "    -------\n",
    "    \n",
    "    adjacency matrix\n",
    "    '''\n",
    "\n",
    "    data = np.load(path)\n",
    "    sparse_data = coo_matrix((data['data'], (data['row'], data['col'])))\n",
    "    adj = sparse_data.todense()\n",
    "    adjacency_balanced = (adj + adj.T) / 2\n",
    "    np.fill_diagonal(adjacency_balanced, 0)\n",
    "\n",
    "    if labels_to_drop:\n",
    "        mask = labels_to_drop != -1\n",
    "        adjacency_balanced = adjacency_balanced[mask, :][:, mask]\n",
    "    return adjacency_balanced\n"
   ]
  },
  {
   "cell_type": "code",
   "execution_count": null,
   "metadata": {},
   "outputs": [],
   "source": []
  },
  {
   "cell_type": "code",
   "execution_count": null,
   "metadata": {},
   "outputs": [],
   "source": []
  }
 ],
 "metadata": {
  "kernelspec": {
   "display_name": "Python 3",
   "language": "python",
   "name": "python3"
  },
  "language_info": {
   "codemirror_mode": {
    "name": "ipython",
    "version": 3
   },
   "file_extension": ".py",
   "mimetype": "text/x-python",
   "name": "python",
   "nbconvert_exporter": "python",
   "pygments_lexer": "ipython3",
   "version": "3.7.3"
  }
 },
 "nbformat": 4,
 "nbformat_minor": 2
}
