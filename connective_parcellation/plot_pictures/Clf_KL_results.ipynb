{
 "cells": [
  {
   "cell_type": "code",
   "execution_count": 1,
   "metadata": {},
   "outputs": [],
   "source": [
    "import matplotlib.pyplot as plt\n",
    "%matplotlib inline\n",
    "import numpy as np\n",
    "import pandas as pd\n",
    "import os\n",
    "from glob import glob\n",
    "from sklearn.metrics import adjusted_mutual_info_score\n",
    "from tqdm import tqdm\n",
    "from scipy.spatial.distance import squareform\n",
    "from igraph import Graph\n",
    "from igraph import ADJ_MAX\n",
    "import networkx as nx\n",
    "import seaborn as sns\n",
    "from joblib import Parallel, delayed"
   ]
  },
  {
   "cell_type": "code",
   "execution_count": 2,
   "metadata": {},
   "outputs": [],
   "source": [
    "results = glob('/home/kurmukov/connective_parcellation/concon_processing/model_eval_results/*_cv.csv')\n",
    "\n",
    "df = pd.read_csv(results[0], index_col=0)\n",
    "for f in results[1:]:\n",
    "#     if 'cv' not in f:\n",
    "#         temp = pd.read_csv(f, index_col=0)\n",
    "#         df = df.append(temp, ignore_index=True)\n",
    "    temp = pd.read_csv(f, index_col=0)\n",
    "    df = df.append(temp, ignore_index=True)\n",
    "\n",
    "auc_test = df.test_mean\n",
    "auc_mean = df.cv_mean\n",
    "n_features = df.non_zero\n",
    "\n",
    "def fun(x):\n",
    "    return int(0.5 * (1 + np.sqrt(1 + 8*x)))\n",
    "df['n_vertices'] = df.n_features.apply(fun)\n",
    "n_vertices = df.n_vertices"
   ]
  },
  {
   "cell_type": "code",
   "execution_count": 3,
   "metadata": {
    "scrolled": true
   },
   "outputs": [],
   "source": [
    "font = {'family' : 'monospace',\n",
    "        'size'   : 25}\n",
    "plt.rc('font', **font)"
   ]
  },
  {
   "cell_type": "code",
   "execution_count": 4,
   "metadata": {},
   "outputs": [],
   "source": [
    "# plt.scatter(n_features, auc_test);\n",
    "# plt.scatter(n_features[ind], auc_test[ind], c='r')"
   ]
  },
  {
   "cell_type": "code",
   "execution_count": 5,
   "metadata": {},
   "outputs": [],
   "source": [
    "# s = 10\n",
    "# ind = np.array(list(df.query(f'sparsity == {s}').index))\n",
    "# plt.scatter(n_vertices[ind], auc_test[ind], s= 10);\n",
    "# ind = np.array(list(df.query(f'ensemble == \"HE\" and level == \"3\" and sparsity == {s}').index))\n",
    "# plt.scatter(n_vertices[ind], auc_test[ind], c='r', s = 10, label='$HE_3$')\n",
    "# ind = np.array(list(df.query(f'ensemble == \"Desikan_aparc\" and level == \"0\" and sparsity == {s}').index))\n",
    "# plt.scatter(n_vertices[ind], auc_test[ind], c='g', s = 10, label='$Desikan$')\n",
    "# ind = np.array(list(df.query(f'ensemble == \"Aver\" and level == \"3\" and sparsity == {s}').index))\n",
    "# plt.scatter(n_vertices[ind], auc_test[ind], c='orange', s = 10, label='$Aver_3$')\n",
    "# plt.legend();"
   ]
  },
  {
   "cell_type": "code",
   "execution_count": 6,
   "metadata": {},
   "outputs": [],
   "source": [
    "res = []\n",
    "for e, l in zip(df['ensemble'], df['level']):\n",
    "    if 'Desikan' in e:\n",
    "        res.append('$Desikan$')\n",
    "    elif 'Destrieux' in e:\n",
    "        res.append('$Destrieux$')\n",
    "    else:\n",
    "        res.append(f'${e}_{l}$' )\n",
    "df['ensemble_level'] = res"
   ]
  },
  {
   "cell_type": "code",
   "execution_count": 8,
   "metadata": {},
   "outputs": [
    {
     "data": {
      "text/html": [
       "<div>\n",
       "<style scoped>\n",
       "    .dataframe tbody tr th:only-of-type {\n",
       "        vertical-align: middle;\n",
       "    }\n",
       "\n",
       "    .dataframe tbody tr th {\n",
       "        vertical-align: top;\n",
       "    }\n",
       "\n",
       "    .dataframe thead th {\n",
       "        text-align: right;\n",
       "    }\n",
       "</style>\n",
       "<table border=\"1\" class=\"dataframe\">\n",
       "  <thead>\n",
       "    <tr style=\"text-align: right;\">\n",
       "      <th></th>\n",
       "      <th>cv_mean</th>\n",
       "      <th>cv_std</th>\n",
       "      <th>test_mean</th>\n",
       "      <th>test_std</th>\n",
       "      <th>C</th>\n",
       "      <th>ensemble</th>\n",
       "      <th>level</th>\n",
       "      <th>sparsity</th>\n",
       "      <th>n_features</th>\n",
       "      <th>non_zero</th>\n",
       "      <th>n_vertices</th>\n",
       "      <th>ensemble_level</th>\n",
       "    </tr>\n",
       "  </thead>\n",
       "  <tbody>\n",
       "    <tr>\n",
       "      <th>84</th>\n",
       "      <td>0.897504</td>\n",
       "      <td>0.049363</td>\n",
       "      <td>0.884529</td>\n",
       "      <td>0.042939</td>\n",
       "      <td>400.0</td>\n",
       "      <td>Aver</td>\n",
       "      <td>3</td>\n",
       "      <td>50</td>\n",
       "      <td>4005</td>\n",
       "      <td>1198</td>\n",
       "      <td>90</td>\n",
       "      <td>$Aver_3$</td>\n",
       "    </tr>\n",
       "    <tr>\n",
       "      <th>79</th>\n",
       "      <td>0.881245</td>\n",
       "      <td>0.053428</td>\n",
       "      <td>0.877029</td>\n",
       "      <td>0.046335</td>\n",
       "      <td>180.0</td>\n",
       "      <td>HE</td>\n",
       "      <td>3</td>\n",
       "      <td>100</td>\n",
       "      <td>3570</td>\n",
       "      <td>838</td>\n",
       "      <td>85</td>\n",
       "      <td>$HE_3$</td>\n",
       "    </tr>\n",
       "    <tr>\n",
       "      <th>107</th>\n",
       "      <td>0.891287</td>\n",
       "      <td>0.047256</td>\n",
       "      <td>0.868985</td>\n",
       "      <td>0.066569</td>\n",
       "      <td>20.0</td>\n",
       "      <td>Destrieux_aparc2009</td>\n",
       "      <td>0</td>\n",
       "      <td>80</td>\n",
       "      <td>10878</td>\n",
       "      <td>653</td>\n",
       "      <td>148</td>\n",
       "      <td>$Destrieux$</td>\n",
       "    </tr>\n",
       "    <tr>\n",
       "      <th>98</th>\n",
       "      <td>0.866271</td>\n",
       "      <td>0.053954</td>\n",
       "      <td>0.865943</td>\n",
       "      <td>0.055011</td>\n",
       "      <td>500.0</td>\n",
       "      <td>Desikan_aparc</td>\n",
       "      <td>0</td>\n",
       "      <td>90</td>\n",
       "      <td>2278</td>\n",
       "      <td>950</td>\n",
       "      <td>68</td>\n",
       "      <td>$Desikan$</td>\n",
       "    </tr>\n",
       "    <tr>\n",
       "      <th>67</th>\n",
       "      <td>0.817683</td>\n",
       "      <td>0.064972</td>\n",
       "      <td>0.834455</td>\n",
       "      <td>0.056415</td>\n",
       "      <td>180.0</td>\n",
       "      <td>Aver</td>\n",
       "      <td>2</td>\n",
       "      <td>80</td>\n",
       "      <td>528</td>\n",
       "      <td>232</td>\n",
       "      <td>33</td>\n",
       "      <td>$Aver_2$</td>\n",
       "    </tr>\n",
       "    <tr>\n",
       "      <th>53</th>\n",
       "      <td>0.800529</td>\n",
       "      <td>0.068082</td>\n",
       "      <td>0.804723</td>\n",
       "      <td>0.073091</td>\n",
       "      <td>500.0</td>\n",
       "      <td>HE</td>\n",
       "      <td>2</td>\n",
       "      <td>40</td>\n",
       "      <td>496</td>\n",
       "      <td>265</td>\n",
       "      <td>32</td>\n",
       "      <td>$HE_2$</td>\n",
       "    </tr>\n",
       "    <tr>\n",
       "      <th>47</th>\n",
       "      <td>0.739076</td>\n",
       "      <td>0.079185</td>\n",
       "      <td>0.735379</td>\n",
       "      <td>0.067785</td>\n",
       "      <td>0.3</td>\n",
       "      <td>CSPA</td>\n",
       "      <td>3</td>\n",
       "      <td>80</td>\n",
       "      <td>45</td>\n",
       "      <td>28</td>\n",
       "      <td>10</td>\n",
       "      <td>$CSPA_3$</td>\n",
       "    </tr>\n",
       "    <tr>\n",
       "      <th>39</th>\n",
       "      <td>0.731941</td>\n",
       "      <td>0.082331</td>\n",
       "      <td>0.728688</td>\n",
       "      <td>0.042972</td>\n",
       "      <td>0.3</td>\n",
       "      <td>CSPA</td>\n",
       "      <td>2</td>\n",
       "      <td>100</td>\n",
       "      <td>28</td>\n",
       "      <td>14</td>\n",
       "      <td>8</td>\n",
       "      <td>$CSPA_2$</td>\n",
       "    </tr>\n",
       "    <tr>\n",
       "      <th>3</th>\n",
       "      <td>0.685999</td>\n",
       "      <td>0.080183</td>\n",
       "      <td>0.693385</td>\n",
       "      <td>0.114067</td>\n",
       "      <td>200.0</td>\n",
       "      <td>HE</td>\n",
       "      <td>1</td>\n",
       "      <td>40</td>\n",
       "      <td>28</td>\n",
       "      <td>15</td>\n",
       "      <td>8</td>\n",
       "      <td>$HE_1$</td>\n",
       "    </tr>\n",
       "    <tr>\n",
       "      <th>29</th>\n",
       "      <td>0.690081</td>\n",
       "      <td>0.085492</td>\n",
       "      <td>0.681787</td>\n",
       "      <td>0.088651</td>\n",
       "      <td>0.3</td>\n",
       "      <td>Aver</td>\n",
       "      <td>1</td>\n",
       "      <td>100</td>\n",
       "      <td>28</td>\n",
       "      <td>12</td>\n",
       "      <td>8</td>\n",
       "      <td>$Aver_1$</td>\n",
       "    </tr>\n",
       "    <tr>\n",
       "      <th>15</th>\n",
       "      <td>0.671858</td>\n",
       "      <td>0.083488</td>\n",
       "      <td>0.680659</td>\n",
       "      <td>0.115246</td>\n",
       "      <td>0.3</td>\n",
       "      <td>CSPA</td>\n",
       "      <td>1</td>\n",
       "      <td>60</td>\n",
       "      <td>21</td>\n",
       "      <td>7</td>\n",
       "      <td>7</td>\n",
       "      <td>$CSPA_1$</td>\n",
       "    </tr>\n",
       "  </tbody>\n",
       "</table>\n",
       "</div>"
      ],
      "text/plain": [
       "      cv_mean    cv_std  test_mean  test_std      C             ensemble  \\\n",
       "84   0.897504  0.049363   0.884529  0.042939  400.0                 Aver   \n",
       "79   0.881245  0.053428   0.877029  0.046335  180.0                   HE   \n",
       "107  0.891287  0.047256   0.868985  0.066569   20.0  Destrieux_aparc2009   \n",
       "98   0.866271  0.053954   0.865943  0.055011  500.0        Desikan_aparc   \n",
       "67   0.817683  0.064972   0.834455  0.056415  180.0                 Aver   \n",
       "53   0.800529  0.068082   0.804723  0.073091  500.0                   HE   \n",
       "47   0.739076  0.079185   0.735379  0.067785    0.3                 CSPA   \n",
       "39   0.731941  0.082331   0.728688  0.042972    0.3                 CSPA   \n",
       "3    0.685999  0.080183   0.693385  0.114067  200.0                   HE   \n",
       "29   0.690081  0.085492   0.681787  0.088651    0.3                 Aver   \n",
       "15   0.671858  0.083488   0.680659  0.115246    0.3                 CSPA   \n",
       "\n",
       "     level  sparsity  n_features  non_zero  n_vertices ensemble_level  \n",
       "84       3        50        4005      1198          90       $Aver_3$  \n",
       "79       3       100        3570       838          85         $HE_3$  \n",
       "107      0        80       10878       653         148    $Destrieux$  \n",
       "98       0        90        2278       950          68      $Desikan$  \n",
       "67       2        80         528       232          33       $Aver_2$  \n",
       "53       2        40         496       265          32         $HE_2$  \n",
       "47       3        80          45        28          10       $CSPA_3$  \n",
       "39       2       100          28        14           8       $CSPA_2$  \n",
       "3        1        40          28        15           8         $HE_1$  \n",
       "29       1       100          28        12           8       $Aver_1$  \n",
       "15       1        60          21         7           7       $CSPA_1$  "
      ]
     },
     "execution_count": 8,
     "metadata": {},
     "output_type": "execute_result"
    }
   ],
   "source": [
    "df.sort_values(by='test_mean', ascending=False).drop_duplicates(subset=['ensemble', 'level'])"
   ]
  },
  {
   "cell_type": "code",
   "execution_count": 218,
   "metadata": {},
   "outputs": [
    {
     "data": {
      "text/html": [
       "<div>\n",
       "<style scoped>\n",
       "    .dataframe tbody tr th:only-of-type {\n",
       "        vertical-align: middle;\n",
       "    }\n",
       "\n",
       "    .dataframe tbody tr th {\n",
       "        vertical-align: top;\n",
       "    }\n",
       "\n",
       "    .dataframe thead th {\n",
       "        text-align: right;\n",
       "    }\n",
       "</style>\n",
       "<table border=\"1\" class=\"dataframe\">\n",
       "  <thead>\n",
       "    <tr style=\"text-align: right;\">\n",
       "      <th></th>\n",
       "      <th></th>\n",
       "      <th>median</th>\n",
       "      <th>mean</th>\n",
       "      <th>std</th>\n",
       "    </tr>\n",
       "    <tr>\n",
       "      <th>ensemble</th>\n",
       "      <th>level</th>\n",
       "      <th></th>\n",
       "      <th></th>\n",
       "      <th></th>\n",
       "    </tr>\n",
       "  </thead>\n",
       "  <tbody>\n",
       "    <tr>\n",
       "      <th rowspan=\"3\" valign=\"top\">Aver</th>\n",
       "      <th>1</th>\n",
       "      <td>0.670689</td>\n",
       "      <td>0.673233</td>\n",
       "      <td>0.016771</td>\n",
       "    </tr>\n",
       "    <tr>\n",
       "      <th>2</th>\n",
       "      <td>0.811354</td>\n",
       "      <td>0.805297</td>\n",
       "      <td>0.014800</td>\n",
       "    </tr>\n",
       "    <tr>\n",
       "      <th>3</th>\n",
       "      <td>0.848240</td>\n",
       "      <td>0.862675</td>\n",
       "      <td>0.027878</td>\n",
       "    </tr>\n",
       "    <tr>\n",
       "      <th rowspan=\"3\" valign=\"top\">CSPA</th>\n",
       "      <th>1</th>\n",
       "      <td>0.645664</td>\n",
       "      <td>0.648092</td>\n",
       "      <td>0.025379</td>\n",
       "    </tr>\n",
       "    <tr>\n",
       "      <th>2</th>\n",
       "      <td>0.695826</td>\n",
       "      <td>0.701379</td>\n",
       "      <td>0.026500</td>\n",
       "    </tr>\n",
       "    <tr>\n",
       "      <th>3</th>\n",
       "      <td>0.683424</td>\n",
       "      <td>0.686284</td>\n",
       "      <td>0.029227</td>\n",
       "    </tr>\n",
       "    <tr>\n",
       "      <th>Desikan_aparc</th>\n",
       "      <th>0</th>\n",
       "      <td>0.846931</td>\n",
       "      <td>0.852454</td>\n",
       "      <td>0.012231</td>\n",
       "    </tr>\n",
       "    <tr>\n",
       "      <th>Destrieux_aparc2009</th>\n",
       "      <th>0</th>\n",
       "      <td>0.863799</td>\n",
       "      <td>0.866619</td>\n",
       "      <td>0.023565</td>\n",
       "    </tr>\n",
       "    <tr>\n",
       "      <th rowspan=\"3\" valign=\"top\">HE</th>\n",
       "      <th>1</th>\n",
       "      <td>0.654254</td>\n",
       "      <td>0.660447</td>\n",
       "      <td>0.020836</td>\n",
       "    </tr>\n",
       "    <tr>\n",
       "      <th>2</th>\n",
       "      <td>0.796622</td>\n",
       "      <td>0.791286</td>\n",
       "      <td>0.018659</td>\n",
       "    </tr>\n",
       "    <tr>\n",
       "      <th>3</th>\n",
       "      <td>0.848420</td>\n",
       "      <td>0.853685</td>\n",
       "      <td>0.024492</td>\n",
       "    </tr>\n",
       "  </tbody>\n",
       "</table>\n",
       "</div>"
      ],
      "text/plain": [
       "                             median      mean       std\n",
       "ensemble            level                              \n",
       "Aver                1      0.670689  0.673233  0.016771\n",
       "                    2      0.811354  0.805297  0.014800\n",
       "                    3      0.848240  0.862675  0.027878\n",
       "CSPA                1      0.645664  0.648092  0.025379\n",
       "                    2      0.695826  0.701379  0.026500\n",
       "                    3      0.683424  0.686284  0.029227\n",
       "Desikan_aparc       0      0.846931  0.852454  0.012231\n",
       "Destrieux_aparc2009 0      0.863799  0.866619  0.023565\n",
       "HE                  1      0.654254  0.660447  0.020836\n",
       "                    2      0.796622  0.791286  0.018659\n",
       "                    3      0.848420  0.853685  0.024492"
      ]
     },
     "execution_count": 218,
     "metadata": {},
     "output_type": "execute_result"
    }
   ],
   "source": [
    "df.groupby(['ensemble', 'level'])['cv_mean'].agg(['median','mean', 'std'])"
   ]
  },
  {
   "cell_type": "code",
   "execution_count": 127,
   "metadata": {},
   "outputs": [
    {
     "data": {
      "text/html": [
       "<div>\n",
       "<style scoped>\n",
       "    .dataframe tbody tr th:only-of-type {\n",
       "        vertical-align: middle;\n",
       "    }\n",
       "\n",
       "    .dataframe tbody tr th {\n",
       "        vertical-align: top;\n",
       "    }\n",
       "\n",
       "    .dataframe thead th {\n",
       "        text-align: right;\n",
       "    }\n",
       "</style>\n",
       "<table border=\"1\" class=\"dataframe\">\n",
       "  <thead>\n",
       "    <tr style=\"text-align: right;\">\n",
       "      <th></th>\n",
       "      <th>mean</th>\n",
       "      <th>std</th>\n",
       "    </tr>\n",
       "    <tr>\n",
       "      <th>ensemble_level</th>\n",
       "      <th></th>\n",
       "      <th></th>\n",
       "    </tr>\n",
       "  </thead>\n",
       "  <tbody>\n",
       "    <tr>\n",
       "      <th>$Aver_1$</th>\n",
       "      <td>8.1</td>\n",
       "      <td>0.316228</td>\n",
       "    </tr>\n",
       "    <tr>\n",
       "      <th>$Aver_2$</th>\n",
       "      <td>32.8</td>\n",
       "      <td>0.788811</td>\n",
       "    </tr>\n",
       "    <tr>\n",
       "      <th>$Aver_3$</th>\n",
       "      <td>88.7</td>\n",
       "      <td>2.790858</td>\n",
       "    </tr>\n",
       "    <tr>\n",
       "      <th>$CSPA_1$</th>\n",
       "      <td>6.9</td>\n",
       "      <td>0.316228</td>\n",
       "    </tr>\n",
       "    <tr>\n",
       "      <th>$CSPA_2$</th>\n",
       "      <td>7.9</td>\n",
       "      <td>0.316228</td>\n",
       "    </tr>\n",
       "    <tr>\n",
       "      <th>$CSPA_3$</th>\n",
       "      <td>10.0</td>\n",
       "      <td>1.154701</td>\n",
       "    </tr>\n",
       "    <tr>\n",
       "      <th>$Desikan$</th>\n",
       "      <td>68.0</td>\n",
       "      <td>0.000000</td>\n",
       "    </tr>\n",
       "    <tr>\n",
       "      <th>$Destrieux$</th>\n",
       "      <td>148.0</td>\n",
       "      <td>0.000000</td>\n",
       "    </tr>\n",
       "    <tr>\n",
       "      <th>$HE_1$</th>\n",
       "      <td>8.4</td>\n",
       "      <td>0.516398</td>\n",
       "    </tr>\n",
       "    <tr>\n",
       "      <th>$HE_2$</th>\n",
       "      <td>31.1</td>\n",
       "      <td>1.595131</td>\n",
       "    </tr>\n",
       "    <tr>\n",
       "      <th>$HE_3$</th>\n",
       "      <td>85.9</td>\n",
       "      <td>2.282786</td>\n",
       "    </tr>\n",
       "  </tbody>\n",
       "</table>\n",
       "</div>"
      ],
      "text/plain": [
       "                 mean       std\n",
       "ensemble_level                 \n",
       "$Aver_1$          8.1  0.316228\n",
       "$Aver_2$         32.8  0.788811\n",
       "$Aver_3$         88.7  2.790858\n",
       "$CSPA_1$          6.9  0.316228\n",
       "$CSPA_2$          7.9  0.316228\n",
       "$CSPA_3$         10.0  1.154701\n",
       "$Desikan$        68.0  0.000000\n",
       "$Destrieux$     148.0  0.000000\n",
       "$HE_1$            8.4  0.516398\n",
       "$HE_2$           31.1  1.595131\n",
       "$HE_3$           85.9  2.282786"
      ]
     },
     "execution_count": 127,
     "metadata": {},
     "output_type": "execute_result"
    }
   ],
   "source": [
    "df.groupby('ensemble_level')['n_vertices'].agg(['mean', 'std'])"
   ]
  },
  {
   "cell_type": "code",
   "execution_count": 105,
   "metadata": {},
   "outputs": [],
   "source": [
    "sns.set_style(\"whitegrid\")"
   ]
  },
  {
   "cell_type": "code",
   "execution_count": 189,
   "metadata": {},
   "outputs": [
    {
     "data": {
      "image/png": "[encoded data removed]",
      "text/plain": [
       "<Figure size 576x432 with 1 Axes>"
      ]
     },
     "metadata": {},
     "output_type": "display_data"
    }
   ],
   "source": [
    "f, ax = plt.subplots(figsize=(8,6))\n",
    "eps=0.3\n",
    "font = {'family' : 'monospace',\n",
    "        'size'   : 20}\n",
    "sns.boxplot(data=df, x='ensemble_level', y='test_mean', palette='Blues')\n",
    "ax.tick_params(axis='x', labelsize=18, rotation=90)\n",
    "ax.tick_params(axis='y', labelsize=18)\n",
    "# ax.set_xlabel('Parcellation', fontdict=font)\n",
    "ax.set_xlabel('')\n",
    "ax.set_ylabel('ROC AUC', fontdict=font)\n",
    "ax.set_yticks([.6, .7, .8, .9, 1.]);\n",
    "font = {'family' : 'monospace',\n",
    "        'size'   : 15}\n",
    "for x, y, s in zip(np.array([0-.15,     1-.15,   2-.15,   3-.15,\n",
    "                             4-.25,   5-.25,   6-.25,  7-.25,  8-.25,  9-.25, 10-.4]),\n",
    "                   [.71, .71, .71, .75, .75, .82, .85, .9, .9, .9, .9],\n",
    "                   ['8', '7', '8', '8', '10','31','33','86','89','68', '148' ]):\n",
    "    ax.text(x,y,s,fontdict=font)\n"
   ]
  },
  {
   "cell_type": "code",
   "execution_count": null,
   "metadata": {},
   "outputs": [],
   "source": []
  },
  {
   "cell_type": "code",
   "execution_count": 97,
   "metadata": {},
   "outputs": [],
   "source": [
    "kl = pd.read_csv(glob('/home/kurmukov/connective_parcellation/concon_processing/kl_results/*.csv')[0], index_col=0)\n",
    "for s in glob('/home/kurmukov/connective_parcellation/concon_processing/kl_results/*.csv')[1:]:\n",
    "    kl = kl.append(pd.read_csv(s, index_col=0), ignore_index=True)"
   ]
  },
  {
   "cell_type": "code",
   "execution_count": 98,
   "metadata": {},
   "outputs": [
    {
     "data": {
      "text/html": [
       "<div>\n",
       "<style scoped>\n",
       "    .dataframe tbody tr th:only-of-type {\n",
       "        vertical-align: middle;\n",
       "    }\n",
       "\n",
       "    .dataframe tbody tr th {\n",
       "        vertical-align: top;\n",
       "    }\n",
       "\n",
       "    .dataframe thead th {\n",
       "        text-align: right;\n",
       "    }\n",
       "</style>\n",
       "<table border=\"1\" class=\"dataframe\">\n",
       "  <thead>\n",
       "    <tr style=\"text-align: right;\">\n",
       "      <th></th>\n",
       "      <th>HE_1_10</th>\n",
       "      <th>HE_2_10</th>\n",
       "      <th>HE_3_10</th>\n",
       "      <th>CSPA_1_10</th>\n",
       "      <th>CSPA_2_10</th>\n",
       "      <th>CSPA_3_10</th>\n",
       "      <th>Aver_1_10</th>\n",
       "      <th>Aver_2_10</th>\n",
       "      <th>Aver_3_10</th>\n",
       "      <th>desikan_average_none_none</th>\n",
       "      <th>destrieux_average_none_none</th>\n",
       "    </tr>\n",
       "  </thead>\n",
       "  <tbody>\n",
       "    <tr>\n",
       "      <th>mean</th>\n",
       "      <td>12.675058</td>\n",
       "      <td>9.332111</td>\n",
       "      <td>7.361693</td>\n",
       "      <td>13.748081</td>\n",
       "      <td>12.837877</td>\n",
       "      <td>12.553286</td>\n",
       "      <td>12.818889</td>\n",
       "      <td>9.592630</td>\n",
       "      <td>7.837329</td>\n",
       "      <td>9.155655</td>\n",
       "      <td>7.178147</td>\n",
       "    </tr>\n",
       "    <tr>\n",
       "      <th>std</th>\n",
       "      <td>0.771609</td>\n",
       "      <td>0.585987</td>\n",
       "      <td>0.466873</td>\n",
       "      <td>0.848904</td>\n",
       "      <td>0.785852</td>\n",
       "      <td>0.808123</td>\n",
       "      <td>0.790978</td>\n",
       "      <td>0.592991</td>\n",
       "      <td>0.497693</td>\n",
       "      <td>0.538750</td>\n",
       "      <td>0.417595</td>\n",
       "    </tr>\n",
       "  </tbody>\n",
       "</table>\n",
       "</div>"
      ],
      "text/plain": [
       "        HE_1_10   HE_2_10   HE_3_10  CSPA_1_10  CSPA_2_10  CSPA_3_10  \\\n",
       "mean  12.675058  9.332111  7.361693  13.748081  12.837877  12.553286   \n",
       "std    0.771609  0.585987  0.466873   0.848904   0.785852   0.808123   \n",
       "\n",
       "      Aver_1_10  Aver_2_10  Aver_3_10  desikan_average_none_none  \\\n",
       "mean  12.818889   9.592630   7.837329                   9.155655   \n",
       "std    0.790978   0.592991   0.497693                   0.538750   \n",
       "\n",
       "      destrieux_average_none_none  \n",
       "mean                     7.178147  \n",
       "std                      0.417595  "
      ]
     },
     "execution_count": 98,
     "metadata": {},
     "output_type": "execute_result"
    }
   ],
   "source": [
    "kl.agg(['mean', 'std'])"
   ]
  },
  {
   "cell_type": "code",
   "execution_count": 99,
   "metadata": {},
   "outputs": [],
   "source": [
    "kl.columns = ['$HE_1$', '$HE_2$', '$HE_3$',\n",
    "              '$CSPA_1$', '$CSPA_2$', '$CSPA_3$',\n",
    "             '$Aver_1$', '$Aver_2$', '$Aver_3$',\n",
    "              'Desikan', 'Destrieux']"
   ]
  },
  {
   "cell_type": "code",
   "execution_count": 100,
   "metadata": {},
   "outputs": [],
   "source": [
    "KL = pd.DataFrame(kl.values.T.reshape(-1), columns=['KL divergence'])\n",
    "KL['Parcellation'] = np.concatenate([[p]*426 for p in ['$HE_1$', '$HE_2$', '$HE_3$',\n",
    "              '$CSPA_1$', '$CSPA_2$', '$CSPA_3$',\n",
    "             '$Aver_1$', '$Aver_2$', '$Aver_3$',\n",
    "              '$Desikan$', '$Destrieux$']])"
   ]
  },
  {
   "cell_type": "code",
   "execution_count": 106,
   "metadata": {},
   "outputs": [
    {
     "data": {
      "image/png": "[encoded data removed]",
      "text/plain": [
       "<Figure size 576x432 with 1 Axes>"
      ]
     },
     "metadata": {},
     "output_type": "display_data"
    }
   ],
   "source": [
    "f, ax = plt.subplots(figsize=(8,6))\n",
    "sns.boxplot(data=KL, x = 'Parcellation', y='KL divergence', ax=ax,\n",
    "           order = ['$CSPA_1$', '$CSPA_2$', '$CSPA_3$',\n",
    "                    '$HE_1$', '$Aver_1$', '$HE_2$', '$Aver_2$',\n",
    "                     '$Desikan$', '$Aver_3$', '$HE_3$', '$Destrieux$'], showfliers=False, palette='Blues')\n",
    "ax.tick_params(axis='x', labelsize=18, rotation=90)\n",
    "ax.tick_params(axis='y', labelsize=18)\n",
    "\n",
    "ax.set_xlabel('')\n",
    "\n",
    "font = {'family' : 'monospace',\n",
    "        'size'   : 15}\n",
    "for x, y, s in zip(np.array([0-.15,     1-.15,   2-.15,   3-.15,\n",
    "                             4-.25,   5-.25,   6-.25,  7-.25,  8-.25,  9-.25, 10-.4]),\n",
    "                   [16.1, 15, 14.8, 14.8,15, 11, 11.2, 10.8, 9.3, 8.8, 8.6],\n",
    "                   ['7', '8', '10', '8', '8','31','33','68','89','86', '148' ]):\n",
    "    ax.text(x,y,s,fontdict=font, c='r')\n",
    "ax.set_yticks([6, 8, 10, 12, 14, 16, 18]);\n",
    "f.tight_layout()\n",
    "f.savefig(fname='/home/kurmukov/pics/KLdiv.png', transparent=True, dpi=300)"
   ]
  },
  {
   "cell_type": "code",
   "execution_count": 103,
   "metadata": {},
   "outputs": [
    {
     "data": {
      "text/html": [
       "<div>\n",
       "<style scoped>\n",
       "    .dataframe tbody tr th:only-of-type {\n",
       "        vertical-align: middle;\n",
       "    }\n",
       "\n",
       "    .dataframe tbody tr th {\n",
       "        vertical-align: top;\n",
       "    }\n",
       "\n",
       "    .dataframe thead th {\n",
       "        text-align: right;\n",
       "    }\n",
       "</style>\n",
       "<table border=\"1\" class=\"dataframe\">\n",
       "  <thead>\n",
       "    <tr style=\"text-align: right;\">\n",
       "      <th></th>\n",
       "      <th>mean</th>\n",
       "      <th>std</th>\n",
       "    </tr>\n",
       "    <tr>\n",
       "      <th>ensemble_level</th>\n",
       "      <th></th>\n",
       "      <th></th>\n",
       "    </tr>\n",
       "  </thead>\n",
       "  <tbody>\n",
       "    <tr>\n",
       "      <th>$Aver_1$</th>\n",
       "      <td>8.1</td>\n",
       "      <td>0.316228</td>\n",
       "    </tr>\n",
       "    <tr>\n",
       "      <th>$Aver_2$</th>\n",
       "      <td>32.8</td>\n",
       "      <td>0.788811</td>\n",
       "    </tr>\n",
       "    <tr>\n",
       "      <th>$Aver_3$</th>\n",
       "      <td>88.7</td>\n",
       "      <td>2.790858</td>\n",
       "    </tr>\n",
       "    <tr>\n",
       "      <th>$CSPA_1$</th>\n",
       "      <td>6.9</td>\n",
       "      <td>0.316228</td>\n",
       "    </tr>\n",
       "    <tr>\n",
       "      <th>$CSPA_2$</th>\n",
       "      <td>7.9</td>\n",
       "      <td>0.316228</td>\n",
       "    </tr>\n",
       "    <tr>\n",
       "      <th>$CSPA_3$</th>\n",
       "      <td>10.0</td>\n",
       "      <td>1.154701</td>\n",
       "    </tr>\n",
       "    <tr>\n",
       "      <th>$Desikan$</th>\n",
       "      <td>68.0</td>\n",
       "      <td>0.000000</td>\n",
       "    </tr>\n",
       "    <tr>\n",
       "      <th>$Destrieux$</th>\n",
       "      <td>148.0</td>\n",
       "      <td>0.000000</td>\n",
       "    </tr>\n",
       "    <tr>\n",
       "      <th>$HE_1$</th>\n",
       "      <td>8.4</td>\n",
       "      <td>0.516398</td>\n",
       "    </tr>\n",
       "    <tr>\n",
       "      <th>$HE_2$</th>\n",
       "      <td>31.1</td>\n",
       "      <td>1.595131</td>\n",
       "    </tr>\n",
       "    <tr>\n",
       "      <th>$HE_3$</th>\n",
       "      <td>85.9</td>\n",
       "      <td>2.282786</td>\n",
       "    </tr>\n",
       "  </tbody>\n",
       "</table>\n",
       "</div>"
      ],
      "text/plain": [
       "                 mean       std\n",
       "ensemble_level                 \n",
       "$Aver_1$          8.1  0.316228\n",
       "$Aver_2$         32.8  0.788811\n",
       "$Aver_3$         88.7  2.790858\n",
       "$CSPA_1$          6.9  0.316228\n",
       "$CSPA_2$          7.9  0.316228\n",
       "$CSPA_3$         10.0  1.154701\n",
       "$Desikan$        68.0  0.000000\n",
       "$Destrieux$     148.0  0.000000\n",
       "$HE_1$            8.4  0.516398\n",
       "$HE_2$           31.1  1.595131\n",
       "$HE_3$           85.9  2.282786"
      ]
     },
     "execution_count": 103,
     "metadata": {},
     "output_type": "execute_result"
    }
   ],
   "source": [
    "df.groupby('ensemble_level')['n_vertices'].agg(['mean', 'std'])"
   ]
  },
  {
   "cell_type": "code",
   "execution_count": null,
   "metadata": {},
   "outputs": [],
   "source": [
    "a = [\n",
    "    [1, 1, 1],\n",
    "    [2, 2, 2]\n",
    "]"
   ]
  },
  {
   "cell_type": "code",
   "execution_count": 190,
   "metadata": {},
   "outputs": [
    {
     "data": {
      "text/plain": [
       "0.023255813953488372"
      ]
     },
     "execution_count": 190,
     "metadata": {},
     "output_type": "execute_result"
    }
   ],
   "source": [
    "2 / 86"
   ]
  },
  {
   "cell_type": "markdown",
   "metadata": {},
   "source": [
    "# Reproduce Clf results for boxplots"
   ]
  },
  {
   "cell_type": "code",
   "execution_count": 15,
   "metadata": {},
   "outputs": [],
   "source": [
    "from scipy.spatial.distance import squareform\n",
    "from tqdm import tqdm\n",
    "from glob import glob\n",
    "import numpy as np\n",
    "import pandas as pd\n",
    "from sklearn.metrics import roc_auc_score, make_scorer\n",
    "from sklearn.model_selection import GridSearchCV, StratifiedKFold, RepeatedStratifiedKFold, train_test_split\n",
    "from sklearn.linear_model import LogisticRegression\n",
    "from sklearn.pipeline import make_pipeline\n",
    "from sklearn.preprocessing import StandardScaler\n",
    "from sys import argv\n",
    "\n",
    "def get_X_y(con_folder):\n",
    "#     '/data01/ayagoz/sparse_32_concon_HCP/connectomes/Ensemble_parcellation/HE_level3/100/'\n",
    "    connectomes = sorted(glob(f'{con_folder}*.npy'))\n",
    "\n",
    "    subject_ids = []\n",
    "    edges = []\n",
    "    for c in connectomes:\n",
    "        sid = int(c.split('/')[-1].split('.')[0])\n",
    "        if sid != 142626:\n",
    "            subject_ids.append(sid)\n",
    "            adj = np.load(c)\n",
    "            edges.append(squareform(adj))\n",
    "\n",
    "    meta = pd.read_csv('/home/kurmukov/connective_parcellation_old/HCP/old_code/unrestricted_hcp_freesurfer.csv')\n",
    "    meta['1_0_gender'] = meta['Gender'].map({'F':0,'M':1})\n",
    "    sex = dict(zip(meta['Subject'], meta['1_0_gender']))\n",
    "    y=[sex.get(s) for s in subject_ids]\n",
    "\n",
    "    y = np.array(y)\n",
    "    X = np.array(edges)\n",
    "    return X, y\n",
    "\n",
    "def model_eval(X, y, random_state=10):\n",
    "    outer_cv = StratifiedKFold(n_splits=10, shuffle=True, random_state=random_state)\n",
    "    model = make_pipeline(StandardScaler(), LogisticRegression(penalty = 'l1',\n",
    "                                                               random_state=random_state,\n",
    "                                                               solver='liblinear'))\n",
    "    \n",
    "    inner_cv = RepeatedStratifiedKFold(n_splits=10, n_repeats=20, random_state=random_state)\n",
    "    score = make_scorer(roc_auc_score, needs_proba=True)\n",
    "    params={\n",
    "        \n",
    "    'logisticregression__C': [0.001, 0.003, 0.01, 0.03,\n",
    "                              0.1,   0.3,   1,    5,\n",
    "                              10,    20,    50,   100,\n",
    "                              150,   180,   200,  220,\n",
    "                              250,   300,   400,  500]\n",
    "    }\n",
    "    aucs_test = []\n",
    "    for train, test in outer_cv.split(X, y):\n",
    "        X_train, X_test = X[train], X[test]\n",
    "        y_train, y_test = y[train], y[test]\n",
    "        \n",
    "        \n",
    "        gs = GridSearchCV(model,\n",
    "                          param_grid=params,\n",
    "                          cv = inner_cv,\n",
    "                          scoring=score,\n",
    "                          n_jobs=20,\n",
    "                          iid=False,\n",
    "                          refit=True)\n",
    "\n",
    "\n",
    "        gs.fit(X_train, y_train)\n",
    "        y_pred = gs.predict_proba(X_test)\n",
    "        aucs_test.append(roc_auc_score(y_test, y_pred[:, 1]))\n",
    "    \n",
    "    return gs, aucs_test"
   ]
  },
  {
   "cell_type": "code",
   "execution_count": 10,
   "metadata": {},
   "outputs": [],
   "source": [
    "df2 = df.sort_values(by='test_mean', ascending=False).drop_duplicates(subset=['ensemble', 'level'])"
   ]
  },
  {
   "cell_type": "code",
   "execution_count": 23,
   "metadata": {},
   "outputs": [],
   "source": [
    "d = dict([(f'{e}_{l}', s) for e, l, s in zip(df2['ensemble'], df2['level'], df2['sparsity'])])\n",
    "d2 = dict([(f'{e}_{l}', c) for e, l, c in zip(df2['ensemble'], df2['level'], df2['C'])])"
   ]
  },
  {
   "cell_type": "code",
   "execution_count": 19,
   "metadata": {},
   "outputs": [
    {
     "data": {
      "text/plain": [
       "{'Aver_3': 50,\n",
       " 'HE_3': 100,\n",
       " 'Destrieux_aparc2009_0': 80,\n",
       " 'Desikan_aparc_0': 90,\n",
       " 'Aver_2': 80,\n",
       " 'HE_2': 40,\n",
       " 'CSPA_3': 80,\n",
       " 'CSPA_2': 100,\n",
       " 'HE_1': 40,\n",
       " 'Aver_1': 100,\n",
       " 'CSPA_1': 60,\n",
       " 'Destrieux_aparc2009': 80,\n",
       " 'Desikan_aparc': 90}"
      ]
     },
     "execution_count": 19,
     "metadata": {},
     "output_type": "execute_result"
    }
   ],
   "source": [
    "d['Destrieux_aparc2009'] = d['Destrieux_aparc2009_0']\n",
    "d['Desikan_aparc'] = d['Desikan_aparc_0']\n",
    "d"
   ]
  },
  {
   "cell_type": "code",
   "execution_count": 24,
   "metadata": {},
   "outputs": [
    {
     "data": {
      "text/plain": [
       "{'Aver_3': 400.0,\n",
       " 'HE_3': 180.0,\n",
       " 'Destrieux_aparc2009_0': 20.0,\n",
       " 'Desikan_aparc_0': 500.0,\n",
       " 'Aver_2': 180.0,\n",
       " 'HE_2': 500.0,\n",
       " 'CSPA_3': 0.3,\n",
       " 'CSPA_2': 0.3,\n",
       " 'HE_1': 200.0,\n",
       " 'Aver_1': 0.3,\n",
       " 'CSPA_1': 0.3,\n",
       " 'Destrieux_aparc2009': 20.0,\n",
       " 'Desikan_aparc': 500.0}"
      ]
     },
     "execution_count": 24,
     "metadata": {},
     "output_type": "execute_result"
    }
   ],
   "source": [
    "d2['Destrieux_aparc2009'] = d2['Destrieux_aparc2009_0']\n",
    "d2['Desikan_aparc'] = d2['Desikan_aparc_0']\n",
    "d2"
   ]
  },
  {
   "cell_type": "code",
   "execution_count": 20,
   "metadata": {},
   "outputs": [
    {
     "name": "stderr",
     "output_type": "stream",
     "text": [
      "100%|██████████| 3/3 [00:13<00:00,  4.69s/it]\n",
      "100%|██████████| 2/2 [00:06<00:00,  3.71s/it]\n"
     ]
    }
   ],
   "source": [
    "data = dict()\n",
    "for ensemble in tqdm(['HE', 'CSPA', 'Aver']):\n",
    "    for level in [1, 2, 3]:\n",
    "        sparsity = d[f'{ensemble}_{level}']\n",
    "        subject_folder = f'/data01/ayagoz/sparse_32_concon_HCP/connectomes/Ensemble_parcellation/{ensemble}_level{level}/{sparsity}/'\n",
    "        X, y = get_X_y(subject_folder)\n",
    "        data[f'{ensemble}_{level}'] = (X, y)\n",
    "for parc in tqdm(['Desikan_aparc', 'Destrieux_aparc2009']):\n",
    "    sparsity = d[parc]\n",
    "    subject_folder = f'/data01/ayagoz/sparse_32_concon_HCP/connectomes/{parc}_resolution/{sparsity}/'\n",
    "    X, y = get_X_y(subject_folder)\n",
    "    data[parc] = (X, y)"
   ]
  },
  {
   "cell_type": "code",
   "execution_count": 25,
   "metadata": {},
   "outputs": [
    {
     "data": {
      "text/plain": [
       "dict_keys(['HE_1', 'HE_2', 'HE_3', 'CSPA_1', 'CSPA_2', 'CSPA_3', 'Aver_1', 'Aver_2', 'Aver_3', 'Desikan_aparc', 'Destrieux_aparc2009'])"
      ]
     },
     "execution_count": 25,
     "metadata": {},
     "output_type": "execute_result"
    }
   ],
   "source": [
    "data.keys()"
   ]
  },
  {
   "cell_type": "code",
   "execution_count": 28,
   "metadata": {},
   "outputs": [
    {
     "name": "stderr",
     "output_type": "stream",
     "text": [
      "100%|██████████| 11/11 [00:10<00:00,  2.13s/it]\n"
     ]
    }
   ],
   "source": [
    "# C = 1\n",
    "random_state=10\n",
    "outer_cv = StratifiedKFold(n_splits=10, shuffle=True, random_state=random_state)\n",
    "model = make_pipeline(StandardScaler(), LogisticRegression(penalty = 'l1',\n",
    "                                                           random_state=random_state,\n",
    "                                                           solver='liblinear'))\n",
    "auc = dict()\n",
    "for key, val in tqdm(data.items()):\n",
    "    X, y = val\n",
    "    auc[key] = []\n",
    "    for train, test in outer_cv.split(X, y):\n",
    "        X_train, X_test = X[train], X[test]\n",
    "        y_train, y_test = y[train], y[test]\n",
    "        model.fit(X_train, y_train)\n",
    "        y_pred = model.predict_proba(X_test)\n",
    "        auc[key].append(roc_auc_score(y_test, y_pred[:, 1]))"
   ]
  },
  {
   "cell_type": "code",
   "execution_count": 30,
   "metadata": {},
   "outputs": [
    {
     "name": "stdout",
     "output_type": "stream",
     "text": [
      "HE_1 0.692 0.112\n",
      "HE_2 0.799 0.066\n",
      "HE_3 0.846 0.06\n",
      "CSPA_1 0.68 0.119\n",
      "CSPA_2 0.722 0.046\n",
      "CSPA_3 0.743 0.072\n",
      "Aver_1 0.685 0.095\n",
      "Aver_2 0.84 0.052\n",
      "Aver_3 0.845 0.047\n",
      "Desikan_aparc 0.806 0.05\n",
      "Destrieux_aparc2009 0.838 0.061\n"
     ]
    }
   ],
   "source": [
    "for key,val in auc.items():\n",
    "    print(key, f'{np.round(np.mean(val), 3)}', f'{np.round(np.std(val), 3)}')"
   ]
  },
  {
   "cell_type": "code",
   "execution_count": 34,
   "metadata": {},
   "outputs": [
    {
     "name": "stderr",
     "output_type": "stream",
     "text": [
      "100%|██████████| 11/11 [00:10<00:00,  2.21s/it]\n"
     ]
    }
   ],
   "source": [
    "random_state=10\n",
    "outer_cv = StratifiedKFold(n_splits=10, shuffle=True, random_state=random_state)\n",
    "model = make_pipeline(StandardScaler(), LogisticRegression(penalty = 'l1',\n",
    "                                                           random_state=random_state,\n",
    "                                                           solver='liblinear'))\n",
    "auc = dict()\n",
    "for key, val in tqdm(data.items()):\n",
    "    X, y = val\n",
    "    C = d2[key]\n",
    "    auc[key] = []\n",
    "    model.set_params(**{'logisticregression__C': C})\n",
    "    for train, test in outer_cv.split(X, y):\n",
    "        X_train, X_test = X[train], X[test]\n",
    "        y_train, y_test = y[train], y[test]\n",
    "        model.fit(X_train, y_train)\n",
    "        y_pred = model.predict_proba(X_test)\n",
    "        auc[key].append(roc_auc_score(y_test, y_pred[:, 1]))"
   ]
  },
  {
   "cell_type": "code",
   "execution_count": 35,
   "metadata": {},
   "outputs": [
    {
     "name": "stdout",
     "output_type": "stream",
     "text": [
      "HE_1 0.693 0.114\n",
      "HE_2 0.797 0.065\n",
      "HE_3 0.877 0.048\n",
      "CSPA_1 0.682 0.114\n",
      "CSPA_2 0.729 0.043\n",
      "CSPA_3 0.736 0.071\n",
      "Aver_1 0.684 0.09\n",
      "Aver_2 0.839 0.053\n",
      "Aver_3 0.886 0.046\n",
      "Desikan_aparc 0.866 0.055\n",
      "Destrieux_aparc2009 0.845 0.064\n"
     ]
    }
   ],
   "source": [
    "for key,val in auc.items():\n",
    "    print(key, f'{np.round(np.mean(val), 3)}', f'{np.round(np.std(val), 3)}')"
   ]
  },
  {
   "cell_type": "code",
   "execution_count": 41,
   "metadata": {},
   "outputs": [
    {
     "data": {
      "text/plain": [
       "array([0.77149321, 0.78506787, 0.42307692, 0.60859729, 0.78280543,\n",
       "       0.79864253, 0.58823529, 0.75961538, 0.72      , 0.6875    ,\n",
       "       0.76244344, 0.8280543 , 0.67873303, 0.8438914 , 0.80542986,\n",
       "       0.90723982, 0.85520362, 0.73557692, 0.8175    , 0.735     ,\n",
       "       0.90271493, 0.81900452, 0.80542986, 0.92533937, 0.89366516,\n",
       "       0.89366516, 0.92081448, 0.89182692, 0.925     , 0.7975    ,\n",
       "       0.73529412, 0.72850679, 0.49547511, 0.47511312, 0.76923077,\n",
       "       0.72171946, 0.66968326, 0.87740385, 0.695     , 0.655     ,\n",
       "       0.79411765, 0.72850679, 0.68325792, 0.63348416, 0.77828054,\n",
       "       0.73529412, 0.73076923, 0.73317308, 0.75      , 0.72      ,\n",
       "       0.62669683, 0.76470588, 0.76923077, 0.74208145, 0.7918552 ,\n",
       "       0.760181  , 0.73303167, 0.58894231, 0.8425    , 0.74      ,\n",
       "       0.76923077, 0.75339367, 0.45475113, 0.61538462, 0.72624434,\n",
       "       0.75791855, 0.65158371, 0.74038462, 0.7025    , 0.67      ,\n",
       "       0.84615385, 0.84841629, 0.75113122, 0.88461538, 0.80090498,\n",
       "       0.92760181, 0.87330317, 0.76442308, 0.875     , 0.815     ,\n",
       "       0.91628959, 0.86425339, 0.80090498, 0.90045249, 0.87104072,\n",
       "       0.95022624, 0.92533937, 0.88942308, 0.9225    , 0.8175    ,\n",
       "       0.85972851, 0.89140271, 0.84841629, 0.8959276 , 0.79411765,\n",
       "       0.95927602, 0.87104072, 0.88701923, 0.9       , 0.7525    ,\n",
       "       0.86651584, 0.80995475, 0.82352941, 0.87556561, 0.73755656,\n",
       "       0.93438914, 0.88461538, 0.89182692, 0.895     , 0.735     ])"
      ]
     },
     "execution_count": 41,
     "metadata": {},
     "output_type": "execute_result"
    }
   ],
   "source": [
    "np.concatenate(list(auc.values()))"
   ]
  },
  {
   "cell_type": "code",
   "execution_count": 42,
   "metadata": {},
   "outputs": [],
   "source": [
    "AUC = pd.DataFrame()\n",
    "AUC['test_mean'] = np.concatenate(list(auc.values()))\n",
    "AUC['ensemble_level'] = ['$HE_1$']*10 + ['$HE_2$']*10 + ['$HE_3$']*10 +\\\n",
    "                        ['$CSPA_1$']*10 + ['$CSPA_2$']*10 + ['$CSPA_3$']*10 +\\\n",
    "                        ['$Aver_1$']*10 + ['$Aver_2$']*10 + ['$Aver_3$']*10 +\\\n",
    "                        ['$Desikan$']*10 + ['$Destrieux$']*10                           \n"
   ]
  },
  {
   "cell_type": "code",
   "execution_count": 74,
   "metadata": {},
   "outputs": [],
   "source": [
    "sns.set_style(\"whitegrid\")"
   ]
  },
  {
   "cell_type": "code",
   "execution_count": 108,
   "metadata": {},
   "outputs": [],
   "source": [
    "font = {'family' : 'monospace',\n",
    "        'size'   : 25}\n",
    "plt.rc('font', **font)"
   ]
  },
  {
   "cell_type": "code",
   "execution_count": 109,
   "metadata": {},
   "outputs": [
    {
     "data": {
      "image/png": "[encoded data removed]",
      "text/plain": [
       "<Figure size 576x432 with 1 Axes>"
      ]
     },
     "metadata": {},
     "output_type": "display_data"
    }
   ],
   "source": [
    "f, ax = plt.subplots(figsize=(8,6))\n",
    "eps=0.07\n",
    "# font = {'family' : 'monospace',\n",
    "#         'size'   : 20}\n",
    "sns.boxplot(data=AUC,\n",
    "            x='ensemble_level',\n",
    "            y='test_mean',\n",
    "            palette='Blues',\n",
    "            order = ['$CSPA_1$', '$CSPA_2$', '$CSPA_3$',\n",
    "                    '$HE_1$', '$Aver_1$', '$HE_2$', '$Aver_2$',\n",
    "                     '$Desikan$', '$Destrieux$', '$Aver_3$', '$HE_3$'],\n",
    "           showfliers=False)\n",
    "\n",
    "\n",
    "\n",
    "ax.tick_params(axis='x', labelsize=18, rotation=90)\n",
    "ax.tick_params(axis='y', labelsize=18)\n",
    "ax.set_xlabel('')\n",
    "ax.set_ylabel('ROC AUC', fontdict=font)\n",
    "ax.set_ylim(0.4, 1.03)\n",
    "ax.set_yticks([.5, .6, .7, .8, .9, 1.]);\n",
    "font = {'family' : 'monospace',\n",
    "        'size'   : 15}\n",
    "for x, y, s in zip(np.array([0-.15,     1-.15,   2-.25,   3-.15,\n",
    "                             4-.15,   5-.25,   6-.25,  7-.25,  8-.32,  9-.25, 10-.25]),\n",
    "                   np.array([.71, .71+.01, .71+.02, .75-.012, .75-.04, .82+.03, .85+.02, .9, .9, .9, .9])+eps,\n",
    "                   ['7', '8', '10', '8', '8','32','33','68','148','90', '85' ]):\n",
    "    ax.text(x,y,s,fontdict=font, c='r')\n",
    "f.tight_layout()\n",
    "f.savefig(fname='/home/kurmukov/pics/aucs.png', transparent=True, dpi=300)"
   ]
  },
  {
   "cell_type": "code",
   "execution_count": null,
   "metadata": {},
   "outputs": [],
   "source": []
  }
 ],
 "metadata": {
  "kernelspec": {
   "display_name": "Python 3",
   "language": "python",
   "name": "python3"
  },
  "language_info": {
   "codemirror_mode": {
    "name": "ipython",
    "version": 3
   },
   "file_extension": ".py",
   "mimetype": "text/x-python",
   "name": "python",
   "nbconvert_exporter": "python",
   "pygments_lexer": "ipython3",
   "version": "3.7.3"
  }
 },
 "nbformat": 4,
 "nbformat_minor": 2
}
