{
 "cells": [
  {
   "cell_type": "code",
   "execution_count": 111,
   "metadata": {},
   "outputs": [],
   "source": [
    "import numpy as np\n",
    "import pandas as pd\n",
    "import os\n",
    "import matplotlib.pyplot as plt\n",
    "from matplotlib import cm as colormaps\n",
    "%matplotlib inline\n",
    "from glob import glob\n",
    "from tqdm import tqdm\n",
    "from igraph import Graph\n",
    "from igraph import ADJ_MAX\n",
    "import networkx as nx\n",
    "import seaborn as sns\n",
    "from joblib import Parallel, delayed\n",
    "sns.set()"
   ]
  },
  {
   "cell_type": "code",
   "execution_count": 2,
   "metadata": {},
   "outputs": [],
   "source": [
    "def compute_APL(adj2, mode=None):\n",
    "    adj = adj2.copy()\n",
    "    if mode == 'normed':\n",
    "        adj = adj / adj.sum()\n",
    "    elif mode == 'binarized':\n",
    "        adj = np.where(adj>0, 1, 0)\n",
    "    elif mode == 'inversed':\n",
    "        i, j = np.where(adj>0)\n",
    "        adj[i, j] = 1/adj[i, j]\n",
    "    elif mode == 'inversed_normed':\n",
    "        i, j = np.where(adj>0)\n",
    "        adj[i, j] = 1/adj[i, j]\n",
    "        adj = adj / adj.sum()\n",
    "    elif mode == 'normed_inversed':\n",
    "        adj = adj / adj.sum()\n",
    "    elif mode == 'log_normed':\n",
    "        adj = np.log1p(adj)\n",
    "        r, c = np.where(adj != 0)\n",
    "        adj[r, c] = 1 / adj[r, c]\n",
    "        adj = adj / adj.sum()\n",
    "    \n",
    "    \n",
    "    g = nx.from_numpy_array(adj)\n",
    "    comp = list(nx.components.connected_component_subgraphs(g))\n",
    "    largest = np.argmax([len(c) for c in comp]) \n",
    "    return nx.average_shortest_path_length(comp[largest], weight='weight')\n",
    "\n",
    "def compute_shortest_path_length(adj2, mode=None):\n",
    "    adj = adj2.copy()\n",
    "    if mode == 'normed':\n",
    "        adj = adj / adj.sum()\n",
    "    elif mode == 'binarized':\n",
    "        adj = np.where(adj>0, 1, 0)\n",
    "    elif mode == 'inversed':\n",
    "        i, j = np.where(adj>0)\n",
    "        adj[i, j] = 1/adj[i, j]\n",
    "    elif mode == 'inversed_normed':\n",
    "        i, j = np.where(adj>0)\n",
    "        adj[i, j] = 1/adj[i, j]\n",
    "        adj = adj / adj.sum()\n",
    "    elif mode == 'normed_inversed':\n",
    "        adj = adj / adj.sum()\n",
    "    elif mode == 'log_normed':\n",
    "        adj = np.log1p(adj)\n",
    "        r, c = np.where(adj != 0)\n",
    "        adj[r, c] = 1 / adj[r, c]\n",
    "        adj = adj / adj.sum()\n",
    "    \n",
    "    \n",
    "    g = nx.from_numpy_array(adj)\n",
    "    comp = list(nx.components.connected_component_subgraphs(g))\n",
    "    largest = np.argmax([len(c) for c in comp]) \n",
    "    spl = []\n",
    "    for elem in list(nx.shortest_path_length(comp[largest], weight='weight')):\n",
    "        spl.append(np.mean(list(elem[1].values())))\n",
    "    return spl\n",
    "\n",
    "def compute_clustering(adj2, mode=None):\n",
    "    adj = adj2.copy()\n",
    "    if mode == 'normed':\n",
    "        adj = adj / adj.sum()\n",
    "    elif mode == 'binarized':\n",
    "        adj = np.where(adj>0, 1, 0)\n",
    "    elif mode == 'inversed':\n",
    "        i, j = np.where(adj>0)\n",
    "        adj[i, j] = 1/adj[i, j]\n",
    "    elif mode == 'normed_inversed':\n",
    "        i, j = np.where(adj>0)\n",
    "        adj[i, j] = 1/adj[i, j]\n",
    "        adj = adj / adj.sum()\n",
    "    elif mode == 'log_normed':\n",
    "        adj = np.log1p(adj)\n",
    "        r, c = np.where(adj != 0)\n",
    "        adj[r, c] = 1 / adj[r, c]\n",
    "        adj = adj / adj.sum()\n",
    "    \n",
    "    g = nx.from_numpy_array(adj)\n",
    "    comp = list(nx.components.connected_component_subgraphs(g))\n",
    "    largest = np.argmax([len(c) for c in comp]) \n",
    "    return np.mean(list(nx.clustering(comp[largest], weight='weight').values()))\n",
    "\n",
    "def compute_degree(adj2, mode=None):\n",
    "    adj = adj2.copy()\n",
    "    if mode == 'normed':\n",
    "        adj = adj / adj.sum()\n",
    "    elif mode == 'binarized':\n",
    "        adj = np.where(adj>0, 1, 0)\n",
    "    elif mode == 'inversed':\n",
    "        i, j = np.where(adj>0)\n",
    "        adj[i, j] = 1/adj[i, j]\n",
    "    elif mode == 'normed_inversed':\n",
    "        i, j = np.where(adj>0)\n",
    "        adj[i, j] = 1/adj[i, j]\n",
    "    elif mode == 'log_normed':\n",
    "        adj = np.log1p(adj)\n",
    "        r, c = np.where(adj != 0)\n",
    "        adj[r, c] = 1 / adj[r, c]\n",
    "        adj = adj / adj.sum()\n",
    "    return adj.sum(axis=1)"
   ]
  },
  {
   "cell_type": "code",
   "execution_count": 3,
   "metadata": {},
   "outputs": [],
   "source": [
    "# a = set([x.split('/')[-1] for x in ensemble])\n",
    "# b = set([x.split('/')[-1] for x in individual])"
   ]
  },
  {
   "cell_type": "code",
   "execution_count": 4,
   "metadata": {},
   "outputs": [],
   "source": [
    "# b.difference(a)\n",
    "# '142626.npy'"
   ]
  },
  {
   "cell_type": "code",
   "execution_count": 5,
   "metadata": {},
   "outputs": [
    {
     "name": "stderr",
     "output_type": "stream",
     "text": [
      "100%|██████████| 425/425 [00:05<00:00, 70.92it/s]\n",
      "100%|██████████| 425/425 [00:05<00:00, 81.16it/s]\n",
      "100%|██████████| 425/425 [00:00<00:00, 3045.84it/s]\n",
      "100%|██████████| 425/425 [00:02<00:00, 192.23it/s]\n",
      "100%|██████████| 425/425 [00:19<00:00, 22.19it/s]\n",
      "100%|██████████| 425/425 [00:07<00:00, 54.28it/s]\n"
     ]
    }
   ],
   "source": [
    "APL = pd.DataFrame()\n",
    "mode = 'log_normed'\n",
    "\n",
    "ensemble_he = glob(f\"/data01/ayagoz/sparse_32_concon_HCP/connectomes/Ensemble_parcellation/HE_level3/10/*.npy\")\n",
    "ensemble_he = [s for s in ensemble_he if '142626.npy' not in s]\n",
    "ensemble_he = sorted(ensemble_he, key=lambda x: x.split('/')[-1])\n",
    "ensemble_APL_he = Parallel(18)(delayed(compute_APL)(np.load(path), mode) for path in tqdm(ensemble_he))\n",
    "APL['HE3'] = ensemble_APL_he\n",
    "\n",
    "ensemble_aver = glob(f\"/data01/ayagoz/sparse_32_concon_HCP/connectomes/Ensemble_parcellation/Aver_level3/10/*.npy\")\n",
    "ensemble_aver = [s for s in ensemble_aver if '142626.npy' not in s]\n",
    "ensemble_aver = sorted(ensemble_aver, key=lambda x: x.split('/')[-1])\n",
    "ensemble_APL_aver = Parallel(18)(delayed(compute_APL)(np.load(path), mode) for path in tqdm(ensemble_aver))\n",
    "APL['Aver3'] = ensemble_APL_aver\n",
    "\n",
    "ensemble_cspa = glob(f\"/data01/ayagoz/sparse_32_concon_HCP/connectomes/Ensemble_parcellation/CSPA_level3/10/*.npy\")\n",
    "ensemble_cspa = [s for s in ensemble_cspa if '142626.npy' not in s]\n",
    "ensemble_cspa = sorted(ensemble_cspa, key=lambda x: x.split('/')[-1])\n",
    "ensemble_APL_cspa = Parallel(18)(delayed(compute_APL)(np.load(path), mode) for path in tqdm(ensemble_cspa))\n",
    "APL['CSPA3'] = ensemble_APL_cspa\n",
    "\n",
    "ensemble_desik = glob('/data01/ayagoz/sparse_32_concon_HCP/connectomes/Desikan_aparc_resolution/10/*.npy')\n",
    "ensemble_desik = sorted(ensemble_desik, key=lambda x: x.split('/')[-1])\n",
    "ensemble_APL_desik = Parallel(18)(delayed(compute_APL)(np.load(path), mode) for path in tqdm(ensemble_desik))\n",
    "APL['Desikan_aparc'] = ensemble_APL_desik\n",
    "\n",
    "\n",
    "ensemble_destr = glob('/data01/ayagoz/sparse_32_concon_HCP/connectomes/Destrieux_aparc2009_resolution/10/*.npy')\n",
    "ensemble_destr = sorted(ensemble_destr, key=lambda x: x.split('/')[-1])\n",
    "ensemble_APL_destr = Parallel(18)(delayed(compute_APL)(np.load(path), mode) for path in tqdm(ensemble_destr))\n",
    "APL['Destrieux_aparc2009'] = ensemble_APL_destr\n",
    "\n",
    "\n",
    "individual = glob('/data01/ayagoz/sparse_32_concon_HCP/connectomes/individual_louvain_parcellation/level3/10/*.npy')\n",
    "individual = [s for s in individual if '142626.npy' not in s]\n",
    "individual = sorted(individual, key=lambda x: x.split('/')[-1])\n",
    "level3_individual_APL = Parallel(18)(delayed(compute_APL)(np.load(path), mode) for path in tqdm(individual))\n",
    "APL['individual_louvain_level3'] = level3_individual_APL"
   ]
  },
  {
   "cell_type": "code",
   "execution_count": 6,
   "metadata": {},
   "outputs": [],
   "source": [
    "APL.columns = [\"$HE_3$\", \"$Aver_3$\", \"$CSPA_3$\", \"$Desikan$\",  \"$Destrieux$\", \"$Individual$\"]"
   ]
  },
  {
   "cell_type": "code",
   "execution_count": 7,
   "metadata": {},
   "outputs": [],
   "source": [
    "corr_APL = (np.round(APL.corr(), 2) * 100).astype(int)"
   ]
  },
  {
   "cell_type": "code",
   "execution_count": null,
   "metadata": {},
   "outputs": [],
   "source": []
  },
  {
   "cell_type": "code",
   "execution_count": 107,
   "metadata": {},
   "outputs": [
    {
     "data": {
      "text/html": [
       "<div>\n",
       "<style scoped>\n",
       "    .dataframe tbody tr th:only-of-type {\n",
       "        vertical-align: middle;\n",
       "    }\n",
       "\n",
       "    .dataframe tbody tr th {\n",
       "        vertical-align: top;\n",
       "    }\n",
       "\n",
       "    .dataframe thead th {\n",
       "        text-align: right;\n",
       "    }\n",
       "</style>\n",
       "<table border=\"1\" class=\"dataframe\">\n",
       "  <thead>\n",
       "    <tr style=\"text-align: right;\">\n",
       "      <th></th>\n",
       "      <th>$HE_3$</th>\n",
       "      <th>$Aver_3$</th>\n",
       "      <th>$CSPA_3$</th>\n",
       "      <th>$Desikan$</th>\n",
       "      <th>$Destrieux$</th>\n",
       "      <th>$Individual$</th>\n",
       "    </tr>\n",
       "  </thead>\n",
       "  <tbody>\n",
       "    <tr>\n",
       "      <th>mean</th>\n",
       "      <td>1.781029</td>\n",
       "      <td>1.691073</td>\n",
       "      <td>178.567221</td>\n",
       "      <td>3.261391</td>\n",
       "      <td>0.806339</td>\n",
       "      <td>1.280345</td>\n",
       "    </tr>\n",
       "    <tr>\n",
       "      <th>std</th>\n",
       "      <td>0.144130</td>\n",
       "      <td>0.112686</td>\n",
       "      <td>0.362039</td>\n",
       "      <td>0.313448</td>\n",
       "      <td>0.083545</td>\n",
       "      <td>0.179082</td>\n",
       "    </tr>\n",
       "  </tbody>\n",
       "</table>\n",
       "</div>"
      ],
      "text/plain": [
       "        $HE_3$  $Aver_3$    $CSPA_3$  $Desikan$  $Destrieux$  $Individual$\n",
       "mean  1.781029  1.691073  178.567221   3.261391     0.806339      1.280345\n",
       "std   0.144130  0.112686    0.362039   0.313448     0.083545      0.179082"
      ]
     },
     "execution_count": 107,
     "metadata": {},
     "output_type": "execute_result"
    }
   ],
   "source": [
    "10000*APL.agg(['mean', 'std'])"
   ]
  },
  {
   "cell_type": "code",
   "execution_count": 9,
   "metadata": {},
   "outputs": [
    {
     "name": "stderr",
     "output_type": "stream",
     "text": [
      "100%|██████████| 425/425 [00:10<00:00, 41.38it/s]\n",
      "100%|██████████| 425/425 [00:11<00:00, 38.55it/s]\n",
      "100%|██████████| 425/425 [00:00<00:00, 2701.25it/s]\n",
      "100%|██████████| 425/425 [00:04<00:00, 105.36it/s]\n",
      "100%|██████████| 425/425 [00:28<00:00, 13.62it/s]\n",
      "100%|██████████| 425/425 [00:16<00:00, 25.04it/s]\n"
     ]
    }
   ],
   "source": [
    "mode = 'log_normed'\n",
    "\n",
    "CC = pd.DataFrame()\n",
    "\n",
    "ensemble_he = glob(f\"/data01/ayagoz/sparse_32_concon_HCP/connectomes/Ensemble_parcellation/HE_level3/10/*.npy\")\n",
    "ensemble_he = [s for s in ensemble_he if '142626.npy' not in s]\n",
    "ensemble_he = sorted(ensemble_he, key=lambda x: x.split('/')[-1])\n",
    "ensemble_clustering_he = Parallel(18)(delayed(compute_clustering)(np.load(path), mode) for path in tqdm(ensemble_he))\n",
    "CC['HE3'] = ensemble_clustering_he\n",
    "\n",
    "ensemble_aver = glob(f\"/data01/ayagoz/sparse_32_concon_HCP/connectomes/Ensemble_parcellation/Aver_level3/10/*.npy\")\n",
    "ensemble_aver = [s for s in ensemble_aver if '142626.npy' not in s]\n",
    "ensemble_aver = sorted(ensemble_aver, key=lambda x: x.split('/')[-1])\n",
    "ensemble_clustering_aver = Parallel(18)(delayed(compute_clustering)(np.load(path), mode) for path in tqdm(ensemble_aver))\n",
    "CC['Aver3'] = ensemble_clustering_aver\n",
    "\n",
    "ensemble_cspa = glob(f\"/data01/ayagoz/sparse_32_concon_HCP/connectomes/Ensemble_parcellation/CSPA_level3/10/*.npy\")\n",
    "ensemble_cspa = [s for s in ensemble_cspa if '142626.npy' not in s]\n",
    "ensemble_cspa = sorted(ensemble_cspa, key=lambda x: x.split('/')[-1])\n",
    "ensemble_clustering_cspa = Parallel(18)(delayed(compute_clustering)(np.load(path), mode) for path in tqdm(ensemble_cspa))\n",
    "CC['CSPA3'] = ensemble_clustering_cspa\n",
    "\n",
    "\n",
    "ensemble_desik = glob('/data01/ayagoz/sparse_32_concon_HCP/connectomes/Desikan_aparc_resolution/10/*.npy')\n",
    "ensemble_desik = sorted(ensemble_desik, key=lambda x: x.split('/')[-1])\n",
    "ensemble_clustering_desik = Parallel(18)(delayed(compute_clustering)(np.load(path), mode) for path in tqdm(ensemble_desik))\n",
    "CC['Desikan_aparc'] = ensemble_clustering_desik\n",
    "\n",
    "\n",
    "ensemble_destr = glob('/data01/ayagoz/sparse_32_concon_HCP/connectomes/Destrieux_aparc2009_resolution/10/*.npy')\n",
    "ensemble_destr = sorted(ensemble_destr, key=lambda x: x.split('/')[-1])\n",
    "ensemble_clustering_destr = Parallel(18)(delayed(compute_clustering)(np.load(path), mode) for path in tqdm(ensemble_destr))\n",
    "CC['Destrieux_aparc2009'] = ensemble_clustering_destr\n",
    "\n",
    "\n",
    "individual = glob('/data01/ayagoz/sparse_32_concon_HCP/connectomes/individual_louvain_parcellation/level3/10/*.npy')\n",
    "individual = [s for s in individual if '142626.npy' not in s]\n",
    "individual = sorted(individual, key=lambda x: x.split('/')[-1])\n",
    "level3_individual_clustering = Parallel(18)(delayed(compute_clustering)(np.load(path), mode) for path in tqdm(individual))\n",
    "CC['individual_louvain_level3'] = level3_individual_clustering"
   ]
  },
  {
   "cell_type": "code",
   "execution_count": 10,
   "metadata": {},
   "outputs": [],
   "source": [
    "CC.columns = [\"$HE_3$\", \"$Aver_3$\", \"$CSPA_3$\", \"$Desikan$\",  \"$Destrieux$\", \"$Individual$\"]"
   ]
  },
  {
   "cell_type": "code",
   "execution_count": 11,
   "metadata": {},
   "outputs": [],
   "source": [
    "corr_CC = (np.round(CC.corr(), 2) * 100).astype(int)"
   ]
  },
  {
   "cell_type": "code",
   "execution_count": 110,
   "metadata": {},
   "outputs": [
    {
     "data": {
      "text/html": [
       "<div>\n",
       "<style scoped>\n",
       "    .dataframe tbody tr th:only-of-type {\n",
       "        vertical-align: middle;\n",
       "    }\n",
       "\n",
       "    .dataframe tbody tr th {\n",
       "        vertical-align: top;\n",
       "    }\n",
       "\n",
       "    .dataframe thead th {\n",
       "        text-align: right;\n",
       "    }\n",
       "</style>\n",
       "<table border=\"1\" class=\"dataframe\">\n",
       "  <thead>\n",
       "    <tr style=\"text-align: right;\">\n",
       "      <th></th>\n",
       "      <th>$HE_3$</th>\n",
       "      <th>$Aver_3$</th>\n",
       "      <th>$CSPA_3$</th>\n",
       "      <th>$Desikan$</th>\n",
       "      <th>$Destrieux$</th>\n",
       "      <th>$Individual$</th>\n",
       "    </tr>\n",
       "  </thead>\n",
       "  <tbody>\n",
       "    <tr>\n",
       "      <th>mean</th>\n",
       "      <td>9.040098</td>\n",
       "      <td>9.487509</td>\n",
       "      <td>74.567034</td>\n",
       "      <td>8.598725</td>\n",
       "      <td>9.130635</td>\n",
       "      <td>10.137566</td>\n",
       "    </tr>\n",
       "    <tr>\n",
       "      <th>std</th>\n",
       "      <td>0.251785</td>\n",
       "      <td>0.289125</td>\n",
       "      <td>7.078205</td>\n",
       "      <td>0.269698</td>\n",
       "      <td>0.243840</td>\n",
       "      <td>0.339935</td>\n",
       "    </tr>\n",
       "  </tbody>\n",
       "</table>\n",
       "</div>"
      ],
      "text/plain": [
       "        $HE_3$  $Aver_3$   $CSPA_3$  $Desikan$  $Destrieux$  $Individual$\n",
       "mean  9.040098  9.487509  74.567034   8.598725     9.130635     10.137566\n",
       "std   0.251785  0.289125   7.078205   0.269698     0.243840      0.339935"
      ]
     },
     "execution_count": 110,
     "metadata": {},
     "output_type": "execute_result"
    }
   ],
   "source": [
    "100*CC.agg(['mean', 'std'])"
   ]
  },
  {
   "cell_type": "code",
   "execution_count": null,
   "metadata": {},
   "outputs": [],
   "source": []
  },
  {
   "cell_type": "code",
   "execution_count": 24,
   "metadata": {},
   "outputs": [
    {
     "data": {
      "image/png": "[encoded data removed]",
      "text/plain": [
       "<Figure size 1152x576 with 2 Axes>"
      ]
     },
     "metadata": {
      "needs_background": "light"
     },
     "output_type": "display_data"
    }
   ],
   "source": [
    "font = {'family' : 'monospace',\n",
    "        'size'   : 25}\n",
    "plt.rc('font', **font)\n",
    "\n",
    "f, ax = plt.subplots(1, 2, figsize=(16,8))\n",
    "\n",
    "mask = np.zeros_like(corr_APL, dtype=np.bool)\n",
    "mask[np.triu_indices_from(mask, k=1)] = True\n",
    "cmap = colormaps.get_cmap('Blues', 10) \n",
    "cmap.set_bad('w') \n",
    "\n",
    "sns.heatmap(corr_APL,\n",
    "            annot=True,\n",
    "            linewidths=.5,\n",
    "            fmt='',\n",
    "            ax=ax[0],\n",
    "            mask=mask,\n",
    "            cmap=cmap,\n",
    "            cbar=False)\n",
    "\n",
    "ax[0].tick_params(axis='x', rotation=60, labelsize=18)\n",
    "ax[0].tick_params(axis='y', rotation=0, labelsize=18)\n",
    "ax[0].set_title('Average Path Length\\ncorrelation', fontdict=font)\n",
    "\n",
    "mask = np.zeros_like(corr_CC, dtype=np.bool)\n",
    "mask[np.triu_indices_from(mask, k=1)] = True\n",
    "cmap = colormaps.get_cmap('Blues', 10) \n",
    "cmap.set_bad('w') \n",
    "\n",
    "sns.heatmap(corr_CC,\n",
    "            annot=True,\n",
    "            linewidths=.5,\n",
    "            fmt='',\n",
    "            ax=ax[1],\n",
    "            mask=mask,\n",
    "            cmap=cmap,\n",
    "            cbar=False)\n",
    "\n",
    "ax[1].tick_params(axis='x', rotation=60, labelsize=18)\n",
    "ax[1].tick_params(axis='y', rotation=0, labelsize=18)\n",
    "ax[1].set_title('Clustering Coefficient\\ncorrelation', fontdict=font)\n",
    "\n",
    "\n",
    "f.tight_layout()\n",
    "f.savefig('/home/kurmukov/parcellation_apl_cc_correlation.png', dpi=300, transparent=True)"
   ]
  },
  {
   "cell_type": "code",
   "execution_count": 73,
   "metadata": {},
   "outputs": [],
   "source": [
    "df_APL = pd.DataFrame(APL.drop('$CSPA_3$',axis=1).values.T.reshape(-1), columns=['Average Path Length'])\n",
    "df_APL['Parcellation'] = ['$HE_3$']*425 + ['$Aver_3$']*425  + ['$Desikan$']*425 + ['$Destrieux$']*425 + ['$Individual$']*425\n",
    "\n",
    "df_CC = pd.DataFrame(CC.drop('$CSPA_3$',axis=1).values.T.reshape(-1), columns=['Clustering Coefficient'])\n",
    "df_CC['Parcellation'] = ['$HE_3$']*425 + ['$Aver_3$']*425  + ['$Desikan$']*425 + ['$Destrieux$']*425 + ['$Individual$']*425\n",
    "\n",
    "# df_APL = pd.DataFrame(APL.values.T.reshape(-1), columns=['Average Path Length'])\n",
    "# df_APL['Parcellation'] = ['$HE_3$']*425 + ['$Aver_3$']*425 + ['$CSPA_3$']*425 + ['$Desikan$']*425 + ['Destrieux']*425 + ['Individual']*425"
   ]
  },
  {
   "cell_type": "code",
   "execution_count": 82,
   "metadata": {},
   "outputs": [],
   "source": [
    "sns.set_style(\"whitegrid\")"
   ]
  },
  {
   "cell_type": "code",
   "execution_count": 94,
   "metadata": {},
   "outputs": [
    {
     "data": {
      "image/png": "[encoded data removed]",
      "text/plain": [
       "<Figure size 1152x432 with 2 Axes>"
      ]
     },
     "metadata": {},
     "output_type": "display_data"
    }
   ],
   "source": [
    "f, ax = plt.subplots(1, 2, figsize=(16,6))\n",
    "\n",
    "sns.boxplot(x = 'Parcellation',\n",
    "            y='Average Path Length',\n",
    "            data=df_APL,\n",
    "            showfliers=False,\n",
    "            ax=ax[0], palette='Blues');\n",
    "sns.boxplot(x = 'Parcellation',\n",
    "            y='Clustering Coefficient',\n",
    "            data=df_CC, \n",
    "            showfliers=False,\n",
    "            ax=ax[1], palette='Blues');\n",
    "\n",
    "ax[0].set_yticks([.0001, .0002, .0003, .0004])\n",
    "ax[0].set_yticklabels(['$1\\cdot 10^{-4}$', '$2\\cdot 10^{-4}$', '$3\\cdot 10^{-4}$', '$4\\cdot 10^{-4}$'])\n",
    "ax[1].set_yticks([.08, .09, .10, .11])\n",
    "ax[1].set_yticklabels(['$8\\cdot 10^{-2}$', '$9\\cdot 10^{-2}$', '$10\\cdot 10^{-2}$', '$11\\cdot 10^{-2}$'])\n",
    "ax[0].tick_params(axis='x', labelsize=18, rotation=60)\n",
    "ax[0].tick_params(axis='y', labelsize=18)\n",
    "ax[1].tick_params(axis='x', labelsize=18, rotation=60)\n",
    "ax[1].tick_params(axis='y', labelsize=18)\n",
    "ax[0].set_xlabel('')\n",
    "ax[0].set_ylabel('')\n",
    "ax[1].set_xlabel('')\n",
    "ax[1].set_ylabel('')\n",
    "ax[0].set_title('Average path Length', fontdict=font)\n",
    "ax[1].set_title('Clustering Coefficient', fontdict=font)\n",
    "f.tight_layout()\n",
    "f.savefig('/home/kurmukov/parcellation_apl_cc_values.png', dpi=300, transparent=False)"
   ]
  },
  {
   "cell_type": "code",
   "execution_count": null,
   "metadata": {},
   "outputs": [],
   "source": []
  },
  {
   "cell_type": "markdown",
   "metadata": {},
   "source": [
    "# Number of clusters in different parcellations"
   ]
  },
  {
   "cell_type": "code",
   "execution_count": 91,
   "metadata": {},
   "outputs": [],
   "source": [
    "results = glob('/home/kurmukov/connective_parcellation/concon_processing/model_eval_results/*.csv')\n",
    "\n",
    "df = pd.read_csv(results[0], index_col=0)\n",
    "for f in results[1:]:\n",
    "    if 'cv' not in f:\n",
    "        temp = pd.read_csv(f, index_col=0)\n",
    "        df = df.append(temp, ignore_index=True)\n",
    "\n",
    "auc_test = df.test_mean\n",
    "auc_mean = df.cv_mean\n",
    "n_features = df.non_zero\n",
    "def fun(x):\n",
    "    return int(0.5 * (1 + np.sqrt(1 + 8*x)))\n",
    "df['n_vertices'] = df.n_features.apply(fun)"
   ]
  },
  {
   "cell_type": "code",
   "execution_count": 92,
   "metadata": {
    "scrolled": true
   },
   "outputs": [
    {
     "data": {
      "text/html": [
       "<div>\n",
       "<style scoped>\n",
       "    .dataframe tbody tr th:only-of-type {\n",
       "        vertical-align: middle;\n",
       "    }\n",
       "\n",
       "    .dataframe tbody tr th {\n",
       "        vertical-align: top;\n",
       "    }\n",
       "\n",
       "    .dataframe thead th {\n",
       "        text-align: right;\n",
       "    }\n",
       "</style>\n",
       "<table border=\"1\" class=\"dataframe\">\n",
       "  <thead>\n",
       "    <tr style=\"text-align: right;\">\n",
       "      <th></th>\n",
       "      <th></th>\n",
       "      <th>mean</th>\n",
       "      <th>std</th>\n",
       "    </tr>\n",
       "    <tr>\n",
       "      <th>ensemble</th>\n",
       "      <th>level</th>\n",
       "      <th></th>\n",
       "      <th></th>\n",
       "    </tr>\n",
       "  </thead>\n",
       "  <tbody>\n",
       "    <tr>\n",
       "      <th rowspan=\"3\" valign=\"top\">Aver</th>\n",
       "      <th>1</th>\n",
       "      <td>8.1</td>\n",
       "      <td>0.316228</td>\n",
       "    </tr>\n",
       "    <tr>\n",
       "      <th>2</th>\n",
       "      <td>32.8</td>\n",
       "      <td>0.788811</td>\n",
       "    </tr>\n",
       "    <tr>\n",
       "      <th>3</th>\n",
       "      <td>88.7</td>\n",
       "      <td>2.790858</td>\n",
       "    </tr>\n",
       "    <tr>\n",
       "      <th rowspan=\"3\" valign=\"top\">CSPA</th>\n",
       "      <th>1</th>\n",
       "      <td>6.9</td>\n",
       "      <td>0.316228</td>\n",
       "    </tr>\n",
       "    <tr>\n",
       "      <th>2</th>\n",
       "      <td>7.9</td>\n",
       "      <td>0.316228</td>\n",
       "    </tr>\n",
       "    <tr>\n",
       "      <th>3</th>\n",
       "      <td>10.0</td>\n",
       "      <td>1.154701</td>\n",
       "    </tr>\n",
       "    <tr>\n",
       "      <th>Desikan_aparc</th>\n",
       "      <th>0</th>\n",
       "      <td>68.0</td>\n",
       "      <td>0.000000</td>\n",
       "    </tr>\n",
       "    <tr>\n",
       "      <th>Destrieux_aparc2009</th>\n",
       "      <th>0</th>\n",
       "      <td>148.0</td>\n",
       "      <td>0.000000</td>\n",
       "    </tr>\n",
       "    <tr>\n",
       "      <th rowspan=\"3\" valign=\"top\">HE</th>\n",
       "      <th>1</th>\n",
       "      <td>8.4</td>\n",
       "      <td>0.516398</td>\n",
       "    </tr>\n",
       "    <tr>\n",
       "      <th>2</th>\n",
       "      <td>31.1</td>\n",
       "      <td>1.595131</td>\n",
       "    </tr>\n",
       "    <tr>\n",
       "      <th>3</th>\n",
       "      <td>85.9</td>\n",
       "      <td>2.282786</td>\n",
       "    </tr>\n",
       "  </tbody>\n",
       "</table>\n",
       "</div>"
      ],
      "text/plain": [
       "                            mean       std\n",
       "ensemble            level                 \n",
       "Aver                1        8.1  0.316228\n",
       "                    2       32.8  0.788811\n",
       "                    3       88.7  2.790858\n",
       "CSPA                1        6.9  0.316228\n",
       "                    2        7.9  0.316228\n",
       "                    3       10.0  1.154701\n",
       "Desikan_aparc       0       68.0  0.000000\n",
       "Destrieux_aparc2009 0      148.0  0.000000\n",
       "HE                  1        8.4  0.516398\n",
       "                    2       31.1  1.595131\n",
       "                    3       85.9  2.282786"
      ]
     },
     "execution_count": 92,
     "metadata": {},
     "output_type": "execute_result"
    }
   ],
   "source": [
    "df.groupby(['ensemble', 'level'])['n_vertices'].agg(['mean', 'std'])"
   ]
  },
  {
   "cell_type": "markdown",
   "metadata": {},
   "source": [
    "# Number of parcels in individual networks"
   ]
  },
  {
   "cell_type": "code",
   "execution_count": 95,
   "metadata": {},
   "outputs": [],
   "source": [
    "f = '/data01/ayagoz/sparse_32_concon_HCP/connectomes/individual_louvain_parcellation'\n",
    "level = []\n",
    "sparsity = []\n",
    "n_nodes = []\n",
    "for l in ['level1', 'level2', 'level3']:\n",
    "    for s in range(10, 101, 10):\n",
    "        paths = glob(f'{f}/{l}/{s}/*.npy')\n",
    "        for p in paths:\n",
    "            adj = np.load(p)\n",
    "            size = adj.shape[0]\n",
    "            level.append(l)\n",
    "            sparsity.append(s)\n",
    "            n_nodes.append(size)"
   ]
  },
  {
   "cell_type": "code",
   "execution_count": 98,
   "metadata": {},
   "outputs": [],
   "source": [
    "df = pd.DataFrame()"
   ]
  },
  {
   "cell_type": "code",
   "execution_count": 99,
   "metadata": {},
   "outputs": [],
   "source": [
    "df['level'] = level\n",
    "df['sparsity'] = sparsity\n",
    "df['n_nodes'] = n_nodes"
   ]
  },
  {
   "cell_type": "code",
   "execution_count": 101,
   "metadata": {},
   "outputs": [
    {
     "data": {
      "text/html": [
       "<div>\n",
       "<style scoped>\n",
       "    .dataframe tbody tr th:only-of-type {\n",
       "        vertical-align: middle;\n",
       "    }\n",
       "\n",
       "    .dataframe tbody tr th {\n",
       "        vertical-align: top;\n",
       "    }\n",
       "\n",
       "    .dataframe thead th {\n",
       "        text-align: right;\n",
       "    }\n",
       "</style>\n",
       "<table border=\"1\" class=\"dataframe\">\n",
       "  <thead>\n",
       "    <tr style=\"text-align: right;\">\n",
       "      <th></th>\n",
       "      <th>mean</th>\n",
       "      <th>std</th>\n",
       "    </tr>\n",
       "    <tr>\n",
       "      <th>level</th>\n",
       "      <th></th>\n",
       "      <th></th>\n",
       "    </tr>\n",
       "  </thead>\n",
       "  <tbody>\n",
       "    <tr>\n",
       "      <th>level1</th>\n",
       "      <td>9.242510</td>\n",
       "      <td>2.215113</td>\n",
       "    </tr>\n",
       "    <tr>\n",
       "      <th>level2</th>\n",
       "      <td>34.788194</td>\n",
       "      <td>3.632732</td>\n",
       "    </tr>\n",
       "    <tr>\n",
       "      <th>level3</th>\n",
       "      <td>95.963611</td>\n",
       "      <td>6.549602</td>\n",
       "    </tr>\n",
       "  </tbody>\n",
       "</table>\n",
       "</div>"
      ],
      "text/plain": [
       "             mean       std\n",
       "level                      \n",
       "level1   9.242510  2.215113\n",
       "level2  34.788194  3.632732\n",
       "level3  95.963611  6.549602"
      ]
     },
     "execution_count": 101,
     "metadata": {},
     "output_type": "execute_result"
    }
   ],
   "source": [
    "df.groupby('level')['n_nodes'].agg(['mean', 'std'])"
   ]
  },
  {
   "cell_type": "code",
   "execution_count": null,
   "metadata": {},
   "outputs": [],
   "source": []
  }
 ],
 "metadata": {
  "kernelspec": {
   "display_name": "Python 3",
   "language": "python",
   "name": "python3"
  },
  "language_info": {
   "codemirror_mode": {
    "name": "ipython",
    "version": 3
   },
   "file_extension": ".py",
   "mimetype": "text/x-python",
   "name": "python",
   "nbconvert_exporter": "python",
   "pygments_lexer": "ipython3",
   "version": "3.7.3"
  }
 },
 "nbformat": 4,
 "nbformat_minor": 2
}
